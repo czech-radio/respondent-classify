{
 "cells": [
  {
   "cell_type": "code",
   "execution_count": 1,
   "id": "1e4f3de6",
   "metadata": {},
   "outputs": [],
   "source": [
    "import pandas as pd\n",
    "import numpy as np\n",
    "import matplotlib.pyplot as plt\n",
    "pd.set_option('display.max_colwidth', None)"
   ]
  },
  {
   "cell_type": "markdown",
   "id": "29289d5d",
   "metadata": {},
   "source": [
    "Nejdříve načtu data."
   ]
  },
  {
   "cell_type": "code",
   "execution_count": 2,
   "id": "4e6a3c16",
   "metadata": {},
   "outputs": [
    {
     "data": {
      "text/html": [
       "<div>\n",
       "<style scoped>\n",
       "    .dataframe tbody tr th:only-of-type {\n",
       "        vertical-align: middle;\n",
       "    }\n",
       "\n",
       "    .dataframe tbody tr th {\n",
       "        vertical-align: top;\n",
       "    }\n",
       "\n",
       "    .dataframe thead th {\n",
       "        text-align: right;\n",
       "    }\n",
       "</style>\n",
       "<table border=\"1\" class=\"dataframe\">\n",
       "  <thead>\n",
       "    <tr style=\"text-align: right;\">\n",
       "      <th></th>\n",
       "      <th>Unnamed: 0</th>\n",
       "      <th>id</th>\n",
       "      <th>party_name</th>\n",
       "      <th>descriptions</th>\n",
       "      <th>gender</th>\n",
       "      <th>is_foreigner</th>\n",
       "      <th>location</th>\n",
       "      <th>descr_procc</th>\n",
       "    </tr>\n",
       "  </thead>\n",
       "  <tbody>\n",
       "    <tr>\n",
       "      <th>0</th>\n",
       "      <td>0</td>\n",
       "      <td>00000023-93ee-4754-a3c4-5748a4f420ad</td>\n",
       "      <td>STAN</td>\n",
       "      <td>hasič;Všeruby (Domažlice);ex-zast_obec;ex-kandidát za \"\"ZA ROZVOJ OBCE\"\";ex-kand_obec</td>\n",
       "      <td>1</td>\n",
       "      <td>2</td>\n",
       "      <td>554456</td>\n",
       "      <td>['hasič', 'všeruby', '(domažlice)', 'ex-zastupitel', 'obec', 'ex-kandidát', 'rozvoj', 'obec', 'ex-kandidát', 'obec']</td>\n",
       "    </tr>\n",
       "    <tr>\n",
       "      <th>1</th>\n",
       "      <td>1</td>\n",
       "      <td>0000d8c9-28cf-457b-a1ff-751e3d1fac3c</td>\n",
       "      <td>BEZPP</td>\n",
       "      <td>Potravinářská komora České republiky;lobby;mluvčí</td>\n",
       "      <td>2</td>\n",
       "      <td>2</td>\n",
       "      <td>0</td>\n",
       "      <td>['potravinářský', 'komora', 'český', 'republika', 'lobby', 'mluvčí']</td>\n",
       "    </tr>\n",
       "    <tr>\n",
       "      <th>2</th>\n",
       "      <td>2</td>\n",
       "      <td>00017467-20c1-4151-9126-088f9bff86e9</td>\n",
       "      <td>BEZPP</td>\n",
       "      <td>umělec;dirigent</td>\n",
       "      <td>1</td>\n",
       "      <td>2</td>\n",
       "      <td>0</td>\n",
       "      <td>['umělec', 'dirigent']</td>\n",
       "    </tr>\n",
       "    <tr>\n",
       "      <th>3</th>\n",
       "      <td>3</td>\n",
       "      <td>0002bfa9-c1e6-4fae-acfd-6e32481e7fd5</td>\n",
       "      <td>BEZPP</td>\n",
       "      <td>umělec;básnířka</td>\n",
       "      <td>2</td>\n",
       "      <td>2</td>\n",
       "      <td>0</td>\n",
       "      <td>['umělec', 'básnířka']</td>\n",
       "    </tr>\n",
       "    <tr>\n",
       "      <th>4</th>\n",
       "      <td>4</td>\n",
       "      <td>00040844-ca87-4a12-b394-eecd78a0166f</td>\n",
       "      <td>BEZPP</td>\n",
       "      <td>mluvčí Rožnov pod Radhoštěm;umělec;grafička a výtvarnice</td>\n",
       "      <td>2</td>\n",
       "      <td>2</td>\n",
       "      <td>0</td>\n",
       "      <td>['mluvčí', 'rožnov', 'radhoštěm', 'umělec', 'grafička', 'výtvarnice']</td>\n",
       "    </tr>\n",
       "  </tbody>\n",
       "</table>\n",
       "</div>"
      ],
      "text/plain": [
       "   Unnamed: 0                                    id party_name  \\\n",
       "0           0  00000023-93ee-4754-a3c4-5748a4f420ad       STAN   \n",
       "1           1  0000d8c9-28cf-457b-a1ff-751e3d1fac3c      BEZPP   \n",
       "2           2  00017467-20c1-4151-9126-088f9bff86e9      BEZPP   \n",
       "3           3  0002bfa9-c1e6-4fae-acfd-6e32481e7fd5      BEZPP   \n",
       "4           4  00040844-ca87-4a12-b394-eecd78a0166f      BEZPP   \n",
       "\n",
       "                                                                            descriptions  \\\n",
       "0  hasič;Všeruby (Domažlice);ex-zast_obec;ex-kandidát za \"\"ZA ROZVOJ OBCE\"\";ex-kand_obec   \n",
       "1                                      Potravinářská komora České republiky;lobby;mluvčí   \n",
       "2                                                                        umělec;dirigent   \n",
       "3                                                                        umělec;básnířka   \n",
       "4                               mluvčí Rožnov pod Radhoštěm;umělec;grafička a výtvarnice   \n",
       "\n",
       "   gender  is_foreigner  location  \\\n",
       "0       1             2    554456   \n",
       "1       2             2         0   \n",
       "2       1             2         0   \n",
       "3       2             2         0   \n",
       "4       2             2         0   \n",
       "\n",
       "                                                                                                            descr_procc  \n",
       "0  ['hasič', 'všeruby', '(domažlice)', 'ex-zastupitel', 'obec', 'ex-kandidát', 'rozvoj', 'obec', 'ex-kandidát', 'obec']  \n",
       "1                                                  ['potravinářský', 'komora', 'český', 'republika', 'lobby', 'mluvčí']  \n",
       "2                                                                                                ['umělec', 'dirigent']  \n",
       "3                                                                                                ['umělec', 'básnířka']  \n",
       "4                                                 ['mluvčí', 'rožnov', 'radhoštěm', 'umělec', 'grafička', 'výtvarnice']  "
      ]
     },
     "execution_count": 2,
     "metadata": {},
     "output_type": "execute_result"
    }
   ],
   "source": [
    "data = pd.read_csv(\"data/proccessed_data.csv\")\n",
    "data.head()"
   ]
  },
  {
   "cell_type": "markdown",
   "id": "d694bf3a",
   "metadata": {},
   "source": [
    "Vidím zbytečný sloupec a proto ho vymažu."
   ]
  },
  {
   "cell_type": "code",
   "execution_count": 3,
   "id": "d4150a52",
   "metadata": {
    "scrolled": true
   },
   "outputs": [
    {
     "data": {
      "text/html": [
       "<div>\n",
       "<style scoped>\n",
       "    .dataframe tbody tr th:only-of-type {\n",
       "        vertical-align: middle;\n",
       "    }\n",
       "\n",
       "    .dataframe tbody tr th {\n",
       "        vertical-align: top;\n",
       "    }\n",
       "\n",
       "    .dataframe thead th {\n",
       "        text-align: right;\n",
       "    }\n",
       "</style>\n",
       "<table border=\"1\" class=\"dataframe\">\n",
       "  <thead>\n",
       "    <tr style=\"text-align: right;\">\n",
       "      <th></th>\n",
       "      <th>id</th>\n",
       "      <th>party_name</th>\n",
       "      <th>descriptions</th>\n",
       "      <th>gender</th>\n",
       "      <th>is_foreigner</th>\n",
       "      <th>location</th>\n",
       "      <th>descr_procc</th>\n",
       "    </tr>\n",
       "  </thead>\n",
       "  <tbody>\n",
       "    <tr>\n",
       "      <th>0</th>\n",
       "      <td>00000023-93ee-4754-a3c4-5748a4f420ad</td>\n",
       "      <td>STAN</td>\n",
       "      <td>hasič;Všeruby (Domažlice);ex-zast_obec;ex-kandidát za \"\"ZA ROZVOJ OBCE\"\";ex-kand_obec</td>\n",
       "      <td>1</td>\n",
       "      <td>2</td>\n",
       "      <td>554456</td>\n",
       "      <td>['hasič', 'všeruby', '(domažlice)', 'ex-zastupitel', 'obec', 'ex-kandidát', 'rozvoj', 'obec', 'ex-kandidát', 'obec']</td>\n",
       "    </tr>\n",
       "    <tr>\n",
       "      <th>1</th>\n",
       "      <td>0000d8c9-28cf-457b-a1ff-751e3d1fac3c</td>\n",
       "      <td>BEZPP</td>\n",
       "      <td>Potravinářská komora České republiky;lobby;mluvčí</td>\n",
       "      <td>2</td>\n",
       "      <td>2</td>\n",
       "      <td>0</td>\n",
       "      <td>['potravinářský', 'komora', 'český', 'republika', 'lobby', 'mluvčí']</td>\n",
       "    </tr>\n",
       "    <tr>\n",
       "      <th>2</th>\n",
       "      <td>00017467-20c1-4151-9126-088f9bff86e9</td>\n",
       "      <td>BEZPP</td>\n",
       "      <td>umělec;dirigent</td>\n",
       "      <td>1</td>\n",
       "      <td>2</td>\n",
       "      <td>0</td>\n",
       "      <td>['umělec', 'dirigent']</td>\n",
       "    </tr>\n",
       "    <tr>\n",
       "      <th>3</th>\n",
       "      <td>0002bfa9-c1e6-4fae-acfd-6e32481e7fd5</td>\n",
       "      <td>BEZPP</td>\n",
       "      <td>umělec;básnířka</td>\n",
       "      <td>2</td>\n",
       "      <td>2</td>\n",
       "      <td>0</td>\n",
       "      <td>['umělec', 'básnířka']</td>\n",
       "    </tr>\n",
       "    <tr>\n",
       "      <th>4</th>\n",
       "      <td>00040844-ca87-4a12-b394-eecd78a0166f</td>\n",
       "      <td>BEZPP</td>\n",
       "      <td>mluvčí Rožnov pod Radhoštěm;umělec;grafička a výtvarnice</td>\n",
       "      <td>2</td>\n",
       "      <td>2</td>\n",
       "      <td>0</td>\n",
       "      <td>['mluvčí', 'rožnov', 'radhoštěm', 'umělec', 'grafička', 'výtvarnice']</td>\n",
       "    </tr>\n",
       "  </tbody>\n",
       "</table>\n",
       "</div>"
      ],
      "text/plain": [
       "                                     id party_name  \\\n",
       "0  00000023-93ee-4754-a3c4-5748a4f420ad       STAN   \n",
       "1  0000d8c9-28cf-457b-a1ff-751e3d1fac3c      BEZPP   \n",
       "2  00017467-20c1-4151-9126-088f9bff86e9      BEZPP   \n",
       "3  0002bfa9-c1e6-4fae-acfd-6e32481e7fd5      BEZPP   \n",
       "4  00040844-ca87-4a12-b394-eecd78a0166f      BEZPP   \n",
       "\n",
       "                                                                            descriptions  \\\n",
       "0  hasič;Všeruby (Domažlice);ex-zast_obec;ex-kandidát za \"\"ZA ROZVOJ OBCE\"\";ex-kand_obec   \n",
       "1                                      Potravinářská komora České republiky;lobby;mluvčí   \n",
       "2                                                                        umělec;dirigent   \n",
       "3                                                                        umělec;básnířka   \n",
       "4                               mluvčí Rožnov pod Radhoštěm;umělec;grafička a výtvarnice   \n",
       "\n",
       "   gender  is_foreigner  location  \\\n",
       "0       1             2    554456   \n",
       "1       2             2         0   \n",
       "2       1             2         0   \n",
       "3       2             2         0   \n",
       "4       2             2         0   \n",
       "\n",
       "                                                                                                            descr_procc  \n",
       "0  ['hasič', 'všeruby', '(domažlice)', 'ex-zastupitel', 'obec', 'ex-kandidát', 'rozvoj', 'obec', 'ex-kandidát', 'obec']  \n",
       "1                                                  ['potravinářský', 'komora', 'český', 'republika', 'lobby', 'mluvčí']  \n",
       "2                                                                                                ['umělec', 'dirigent']  \n",
       "3                                                                                                ['umělec', 'básnířka']  \n",
       "4                                                 ['mluvčí', 'rožnov', 'radhoštěm', 'umělec', 'grafička', 'výtvarnice']  "
      ]
     },
     "execution_count": 3,
     "metadata": {},
     "output_type": "execute_result"
    }
   ],
   "source": [
    "data.drop(columns=['Unnamed: 0'], inplace=True)\n",
    "data.head()"
   ]
  },
  {
   "cell_type": "code",
   "execution_count": 4,
   "id": "aaa744cd",
   "metadata": {},
   "outputs": [
    {
     "data": {
      "text/plain": [
       "\"['potravinářský', 'komora', 'český', 'republika', 'lobby', 'mluvčí']\""
      ]
     },
     "execution_count": 4,
     "metadata": {},
     "output_type": "execute_result"
    }
   ],
   "source": [
    "data.descr_procc[1]"
   ]
  },
  {
   "cell_type": "markdown",
   "id": "7fd0f9a5",
   "metadata": {},
   "source": [
    "Jak lze vidět, sloupec s odděleným preprocesovanými slovy ma listy uležený jako string, je tudíž nutné tato data transformovat do formátu listu."
   ]
  },
  {
   "cell_type": "code",
   "execution_count": 5,
   "id": "c86dbf62",
   "metadata": {},
   "outputs": [
    {
     "data": {
      "text/plain": [
       "['potravinářský', 'komora', 'český', 'republika', 'lobby', 'mluvčí']"
      ]
     },
     "execution_count": 5,
     "metadata": {},
     "output_type": "execute_result"
    }
   ],
   "source": [
    "import ast\n",
    "\n",
    "# converts the column into form of a list\n",
    "data.descr_procc = data.descr_procc.apply(ast.literal_eval)\n",
    "data.descr_procc[1]"
   ]
  },
  {
   "cell_type": "markdown",
   "id": "25ec8289",
   "metadata": {},
   "source": [
    "Popisky máme již reprezentovány správně, dalším krokem bude tato v listu uložená data převést do bag of words formátu."
   ]
  },
  {
   "cell_type": "code",
   "execution_count": 6,
   "id": "d7d26fa5",
   "metadata": {},
   "outputs": [
    {
     "data": {
      "text/plain": [
       "array(['aaa', 'aaabyty', 'aag', ..., 'žš', 'žžm', 'ˇyďár'], dtype=object)"
      ]
     },
     "execution_count": 6,
     "metadata": {},
     "output_type": "execute_result"
    }
   ],
   "source": [
    "from sklearn.feature_extraction.text import CountVectorizer\n",
    "\n",
    "vec = CountVectorizer()\n",
    "bag = vec.fit_transform(data.descr_procc.apply(lambda x: ' '.join(x)))\n",
    "vec.get_feature_names_out()"
   ]
  },
  {
   "cell_type": "markdown",
   "id": "6569aac2",
   "metadata": {},
   "source": [
    "Vytvořili jsme samotnou matici, a teď ji přeneseme do pandas Dataframe."
   ]
  },
  {
   "cell_type": "code",
   "execution_count": 7,
   "id": "1abe7253",
   "metadata": {},
   "outputs": [
    {
     "data": {
      "text/html": [
       "<div>\n",
       "<style scoped>\n",
       "    .dataframe tbody tr th:only-of-type {\n",
       "        vertical-align: middle;\n",
       "    }\n",
       "\n",
       "    .dataframe tbody tr th {\n",
       "        vertical-align: top;\n",
       "    }\n",
       "\n",
       "    .dataframe thead th {\n",
       "        text-align: right;\n",
       "    }\n",
       "</style>\n",
       "<table border=\"1\" class=\"dataframe\">\n",
       "  <thead>\n",
       "    <tr style=\"text-align: right;\">\n",
       "      <th></th>\n",
       "      <th>aaa</th>\n",
       "      <th>aaabyty</th>\n",
       "      <th>aag</th>\n",
       "      <th>aakrchitektura</th>\n",
       "      <th>aalborg</th>\n",
       "      <th>aarhus</th>\n",
       "      <th>ab</th>\n",
       "      <th>abatyše</th>\n",
       "      <th>abb</th>\n",
       "      <th>abc</th>\n",
       "      <th>...</th>\n",
       "      <th>žďár</th>\n",
       "      <th>žďárce</th>\n",
       "      <th>žďárku</th>\n",
       "      <th>žďársko</th>\n",
       "      <th>žďársku</th>\n",
       "      <th>žďárský</th>\n",
       "      <th>žďáře</th>\n",
       "      <th>žš</th>\n",
       "      <th>žžm</th>\n",
       "      <th>ˇyďár</th>\n",
       "    </tr>\n",
       "  </thead>\n",
       "  <tbody>\n",
       "    <tr>\n",
       "      <th>0</th>\n",
       "      <td>0</td>\n",
       "      <td>0</td>\n",
       "      <td>0</td>\n",
       "      <td>0</td>\n",
       "      <td>0</td>\n",
       "      <td>0</td>\n",
       "      <td>0</td>\n",
       "      <td>0</td>\n",
       "      <td>0</td>\n",
       "      <td>0</td>\n",
       "      <td>...</td>\n",
       "      <td>0</td>\n",
       "      <td>0</td>\n",
       "      <td>0</td>\n",
       "      <td>0</td>\n",
       "      <td>0</td>\n",
       "      <td>0</td>\n",
       "      <td>0</td>\n",
       "      <td>0</td>\n",
       "      <td>0</td>\n",
       "      <td>0</td>\n",
       "    </tr>\n",
       "    <tr>\n",
       "      <th>1</th>\n",
       "      <td>0</td>\n",
       "      <td>0</td>\n",
       "      <td>0</td>\n",
       "      <td>0</td>\n",
       "      <td>0</td>\n",
       "      <td>0</td>\n",
       "      <td>0</td>\n",
       "      <td>0</td>\n",
       "      <td>0</td>\n",
       "      <td>0</td>\n",
       "      <td>...</td>\n",
       "      <td>0</td>\n",
       "      <td>0</td>\n",
       "      <td>0</td>\n",
       "      <td>0</td>\n",
       "      <td>0</td>\n",
       "      <td>0</td>\n",
       "      <td>0</td>\n",
       "      <td>0</td>\n",
       "      <td>0</td>\n",
       "      <td>0</td>\n",
       "    </tr>\n",
       "    <tr>\n",
       "      <th>2</th>\n",
       "      <td>0</td>\n",
       "      <td>0</td>\n",
       "      <td>0</td>\n",
       "      <td>0</td>\n",
       "      <td>0</td>\n",
       "      <td>0</td>\n",
       "      <td>0</td>\n",
       "      <td>0</td>\n",
       "      <td>0</td>\n",
       "      <td>0</td>\n",
       "      <td>...</td>\n",
       "      <td>0</td>\n",
       "      <td>0</td>\n",
       "      <td>0</td>\n",
       "      <td>0</td>\n",
       "      <td>0</td>\n",
       "      <td>0</td>\n",
       "      <td>0</td>\n",
       "      <td>0</td>\n",
       "      <td>0</td>\n",
       "      <td>0</td>\n",
       "    </tr>\n",
       "    <tr>\n",
       "      <th>3</th>\n",
       "      <td>0</td>\n",
       "      <td>0</td>\n",
       "      <td>0</td>\n",
       "      <td>0</td>\n",
       "      <td>0</td>\n",
       "      <td>0</td>\n",
       "      <td>0</td>\n",
       "      <td>0</td>\n",
       "      <td>0</td>\n",
       "      <td>0</td>\n",
       "      <td>...</td>\n",
       "      <td>0</td>\n",
       "      <td>0</td>\n",
       "      <td>0</td>\n",
       "      <td>0</td>\n",
       "      <td>0</td>\n",
       "      <td>0</td>\n",
       "      <td>0</td>\n",
       "      <td>0</td>\n",
       "      <td>0</td>\n",
       "      <td>0</td>\n",
       "    </tr>\n",
       "    <tr>\n",
       "      <th>4</th>\n",
       "      <td>0</td>\n",
       "      <td>0</td>\n",
       "      <td>0</td>\n",
       "      <td>0</td>\n",
       "      <td>0</td>\n",
       "      <td>0</td>\n",
       "      <td>0</td>\n",
       "      <td>0</td>\n",
       "      <td>0</td>\n",
       "      <td>0</td>\n",
       "      <td>...</td>\n",
       "      <td>0</td>\n",
       "      <td>0</td>\n",
       "      <td>0</td>\n",
       "      <td>0</td>\n",
       "      <td>0</td>\n",
       "      <td>0</td>\n",
       "      <td>0</td>\n",
       "      <td>0</td>\n",
       "      <td>0</td>\n",
       "      <td>0</td>\n",
       "    </tr>\n",
       "  </tbody>\n",
       "</table>\n",
       "<p>5 rows × 28012 columns</p>\n",
       "</div>"
      ],
      "text/plain": [
       "   aaa  aaabyty  aag  aakrchitektura  aalborg  aarhus  ab  abatyše  abb  abc  \\\n",
       "0    0        0    0               0        0       0   0        0    0    0   \n",
       "1    0        0    0               0        0       0   0        0    0    0   \n",
       "2    0        0    0               0        0       0   0        0    0    0   \n",
       "3    0        0    0               0        0       0   0        0    0    0   \n",
       "4    0        0    0               0        0       0   0        0    0    0   \n",
       "\n",
       "   ...  žďár  žďárce  žďárku  žďársko  žďársku  žďárský  žďáře  žš  žžm  ˇyďár  \n",
       "0  ...     0       0       0        0        0        0      0   0    0      0  \n",
       "1  ...     0       0       0        0        0        0      0   0    0      0  \n",
       "2  ...     0       0       0        0        0        0      0   0    0      0  \n",
       "3  ...     0       0       0        0        0        0      0   0    0      0  \n",
       "4  ...     0       0       0        0        0        0      0   0    0      0  \n",
       "\n",
       "[5 rows x 28012 columns]"
      ]
     },
     "execution_count": 7,
     "metadata": {},
     "output_type": "execute_result"
    }
   ],
   "source": [
    "bag_of_words=pd.DataFrame.sparse.from_spmatrix(bag,columns=vec.get_feature_names_out())\n",
    "bag_of_words.head()"
   ]
  },
  {
   "cell_type": "markdown",
   "id": "3a6fef10",
   "metadata": {},
   "source": [
    "Orientačně se podíváme na nejčastější výrazy."
   ]
  },
  {
   "cell_type": "code",
   "execution_count": 8,
   "id": "17160366",
   "metadata": {},
   "outputs": [
    {
     "data": {
      "text/plain": [
       "kandidát         16835\n",
       "ex               15818\n",
       "odborník         11387\n",
       "obec             11323\n",
       "sport             9604\n",
       "zastupitel        8923\n",
       "umělec            8756\n",
       "reg               8178\n",
       "zpr               8173\n",
       "kultura           7330\n",
       "byznys            7180\n",
       "ředitel           6387\n",
       "posl              5836\n",
       "mluvčí            5710\n",
       "spolek            4671\n",
       "starosta          4574\n",
       "vedoucí           4053\n",
       "akademik          3734\n",
       "zdravotník        3523\n",
       "úředník           3358\n",
       "novinář           3205\n",
       "český             3035\n",
       "předseda          2610\n",
       "ředitelka         2563\n",
       "město             2157\n",
       "kraj              1943\n",
       "ido               1866\n",
       "om                1865\n",
       "social            1819\n",
       "ozbrojenec        1749\n",
       "čr                1714\n",
       "trenér            1632\n",
       "společnost        1592\n",
       "krajský           1558\n",
       "ústav             1451\n",
       "bývalý            1433\n",
       "muzeum            1414\n",
       "církev            1411\n",
       "místostarosta     1373\n",
       "politik           1340\n",
       "univerzita        1255\n",
       "odbor             1236\n",
       "fotbalista        1232\n",
       "hokejista         1183\n",
       "starostka         1156\n",
       "lékař             1141\n",
       "čro               1127\n",
       "zástupce          1122\n",
       "manažer           1111\n",
       "praha             1064\n",
       "dtype: int64"
      ]
     },
     "execution_count": 8,
     "metadata": {},
     "output_type": "execute_result"
    }
   ],
   "source": [
    "bag_of_words.sum().sort_values(ascending=False).head(50)"
   ]
  },
  {
   "cell_type": "code",
   "execution_count": 9,
   "id": "2e85ace3",
   "metadata": {},
   "outputs": [],
   "source": [
    "from scipy.sparse import csr_matrix\n",
    "\n",
    "data_matrix = csr_matrix(bag_of_words.sparse.to_coo())"
   ]
  },
  {
   "cell_type": "code",
   "execution_count": 10,
   "id": "ddae61ad",
   "metadata": {},
   "outputs": [],
   "source": [
    "from sklearn.cluster import KMeans\n",
    "\n",
    "def kmean_explore(data, max_clusters: int) -> list:\n",
    "    scores = []\n",
    "    \n",
    "    for i in range(2, max_clusters+1):\n",
    "        km = KMeans(n_clusters=i, n_init=10)\n",
    "        km.fit(data_matrix)\n",
    "        score = km.score(data_matrix)\n",
    "        scores.append(np.abs(score))\n",
    "    return scores"
   ]
  },
  {
   "cell_type": "code",
   "execution_count": 11,
   "id": "0a5afb3b",
   "metadata": {},
   "outputs": [
    {
     "data": {
      "image/png": "[encoded data removed]",
      "text/plain": [
       "<Figure size 640x480 with 1 Axes>"
      ]
     },
     "metadata": {},
     "output_type": "display_data"
    },
    {
     "name": "stdout",
     "output_type": "stream",
     "text": [
      "CPU times: user 9min 53s, sys: 27.7 s, total: 10min 20s\n",
      "Wall time: 2min 44s\n"
     ]
    }
   ],
   "source": [
    "%%time\n",
    "max_cluster = 25\n",
    "cluster_n = list(range(2, max_cluster+1))\n",
    "scores = kmean_explore(data_matrix, max_cluster)\n",
    "\n",
    "plt.plot(cluster_n, scores)\n",
    "plt.show()"
   ]
  },
  {
   "cell_type": "code",
   "execution_count": 12,
   "id": "13c316e3",
   "metadata": {},
   "outputs": [],
   "source": [
    "km = KMeans(n_clusters=16, n_init=10)\n",
    "\n",
    "predictions = km.fit_predict(data_matrix)"
   ]
  },
  {
   "cell_type": "code",
   "execution_count": 13,
   "id": "67e64767",
   "metadata": {},
   "outputs": [
    {
     "data": {
      "text/plain": [
       "array([ 5,  3, 15, ...,  9,  3,  2], dtype=int32)"
      ]
     },
     "execution_count": 13,
     "metadata": {},
     "output_type": "execute_result"
    }
   ],
   "source": [
    "predictions"
   ]
  },
  {
   "cell_type": "code",
   "execution_count": 14,
   "id": "09dee174",
   "metadata": {},
   "outputs": [],
   "source": [
    "data['predictions'] = predictions"
   ]
  },
  {
   "cell_type": "code",
   "execution_count": 15,
   "id": "b9c76020",
   "metadata": {},
   "outputs": [
    {
     "data": {
      "text/html": [
       "<div>\n",
       "<style scoped>\n",
       "    .dataframe tbody tr th:only-of-type {\n",
       "        vertical-align: middle;\n",
       "    }\n",
       "\n",
       "    .dataframe tbody tr th {\n",
       "        vertical-align: top;\n",
       "    }\n",
       "\n",
       "    .dataframe thead th {\n",
       "        text-align: right;\n",
       "    }\n",
       "</style>\n",
       "<table border=\"1\" class=\"dataframe\">\n",
       "  <thead>\n",
       "    <tr style=\"text-align: right;\">\n",
       "      <th></th>\n",
       "      <th>id</th>\n",
       "      <th>party_name</th>\n",
       "      <th>descriptions</th>\n",
       "      <th>gender</th>\n",
       "      <th>is_foreigner</th>\n",
       "      <th>location</th>\n",
       "      <th>descr_procc</th>\n",
       "      <th>predictions</th>\n",
       "    </tr>\n",
       "  </thead>\n",
       "  <tbody>\n",
       "    <tr>\n",
       "      <th>0</th>\n",
       "      <td>00000023-93ee-4754-a3c4-5748a4f420ad</td>\n",
       "      <td>STAN</td>\n",
       "      <td>hasič;Všeruby (Domažlice);ex-zast_obec;ex-kandidát za \"\"ZA ROZVOJ OBCE\"\";ex-kand_obec</td>\n",
       "      <td>1</td>\n",
       "      <td>2</td>\n",
       "      <td>554456</td>\n",
       "      <td>[hasič, všeruby, (domažlice), ex-zastupitel, obec, ex-kandidát, rozvoj, obec, ex-kandidát, obec]</td>\n",
       "      <td>5</td>\n",
       "    </tr>\n",
       "    <tr>\n",
       "      <th>1</th>\n",
       "      <td>0000d8c9-28cf-457b-a1ff-751e3d1fac3c</td>\n",
       "      <td>BEZPP</td>\n",
       "      <td>Potravinářská komora České republiky;lobby;mluvčí</td>\n",
       "      <td>2</td>\n",
       "      <td>2</td>\n",
       "      <td>0</td>\n",
       "      <td>[potravinářský, komora, český, republika, lobby, mluvčí]</td>\n",
       "      <td>3</td>\n",
       "    </tr>\n",
       "    <tr>\n",
       "      <th>2</th>\n",
       "      <td>00017467-20c1-4151-9126-088f9bff86e9</td>\n",
       "      <td>BEZPP</td>\n",
       "      <td>umělec;dirigent</td>\n",
       "      <td>1</td>\n",
       "      <td>2</td>\n",
       "      <td>0</td>\n",
       "      <td>[umělec, dirigent]</td>\n",
       "      <td>15</td>\n",
       "    </tr>\n",
       "    <tr>\n",
       "      <th>3</th>\n",
       "      <td>0002bfa9-c1e6-4fae-acfd-6e32481e7fd5</td>\n",
       "      <td>BEZPP</td>\n",
       "      <td>umělec;básnířka</td>\n",
       "      <td>2</td>\n",
       "      <td>2</td>\n",
       "      <td>0</td>\n",
       "      <td>[umělec, básnířka]</td>\n",
       "      <td>15</td>\n",
       "    </tr>\n",
       "    <tr>\n",
       "      <th>4</th>\n",
       "      <td>00040844-ca87-4a12-b394-eecd78a0166f</td>\n",
       "      <td>BEZPP</td>\n",
       "      <td>mluvčí Rožnov pod Radhoštěm;umělec;grafička a výtvarnice</td>\n",
       "      <td>2</td>\n",
       "      <td>2</td>\n",
       "      <td>0</td>\n",
       "      <td>[mluvčí, rožnov, radhoštěm, umělec, grafička, výtvarnice]</td>\n",
       "      <td>15</td>\n",
       "    </tr>\n",
       "  </tbody>\n",
       "</table>\n",
       "</div>"
      ],
      "text/plain": [
       "                                     id party_name  \\\n",
       "0  00000023-93ee-4754-a3c4-5748a4f420ad       STAN   \n",
       "1  0000d8c9-28cf-457b-a1ff-751e3d1fac3c      BEZPP   \n",
       "2  00017467-20c1-4151-9126-088f9bff86e9      BEZPP   \n",
       "3  0002bfa9-c1e6-4fae-acfd-6e32481e7fd5      BEZPP   \n",
       "4  00040844-ca87-4a12-b394-eecd78a0166f      BEZPP   \n",
       "\n",
       "                                                                            descriptions  \\\n",
       "0  hasič;Všeruby (Domažlice);ex-zast_obec;ex-kandidát za \"\"ZA ROZVOJ OBCE\"\";ex-kand_obec   \n",
       "1                                      Potravinářská komora České republiky;lobby;mluvčí   \n",
       "2                                                                        umělec;dirigent   \n",
       "3                                                                        umělec;básnířka   \n",
       "4                               mluvčí Rožnov pod Radhoštěm;umělec;grafička a výtvarnice   \n",
       "\n",
       "   gender  is_foreigner  location  \\\n",
       "0       1             2    554456   \n",
       "1       2             2         0   \n",
       "2       1             2         0   \n",
       "3       2             2         0   \n",
       "4       2             2         0   \n",
       "\n",
       "                                                                                        descr_procc  \\\n",
       "0  [hasič, všeruby, (domažlice), ex-zastupitel, obec, ex-kandidát, rozvoj, obec, ex-kandidát, obec]   \n",
       "1                                          [potravinářský, komora, český, republika, lobby, mluvčí]   \n",
       "2                                                                                [umělec, dirigent]   \n",
       "3                                                                                [umělec, básnířka]   \n",
       "4                                         [mluvčí, rožnov, radhoštěm, umělec, grafička, výtvarnice]   \n",
       "\n",
       "   predictions  \n",
       "0            5  \n",
       "1            3  \n",
       "2           15  \n",
       "3           15  \n",
       "4           15  "
      ]
     },
     "execution_count": 15,
     "metadata": {},
     "output_type": "execute_result"
    }
   ],
   "source": [
    "data.head()"
   ]
  },
  {
   "cell_type": "code",
   "execution_count": 16,
   "id": "adbc0ab5",
   "metadata": {},
   "outputs": [],
   "source": [
    "bag_of_words['predictions'] = predictions"
   ]
  },
  {
   "cell_type": "code",
   "execution_count": 17,
   "id": "b123e3c0",
   "metadata": {
    "scrolled": false
   },
   "outputs": [
    {
     "name": "stdout",
     "output_type": "stream",
     "text": [
      "0\n"
     ]
    },
    {
     "data": {
      "text/plain": [
       "akademik      3313\n",
       "univerzita     954\n",
       "ústav          761\n",
       "fakulta        752\n",
       "odborník       692\n",
       "uk             508\n",
       "katedra        363\n",
       "av             326\n",
       "čr             291\n",
       "vedoucí        251\n",
       "věda           246\n",
       "čvut           212\n",
       "karlova        202\n",
       "studie         188\n",
       "reg            170\n",
       "zpr            170\n",
       "akademie       167\n",
       "historik       155\n",
       "český          149\n",
       "vědec          127\n",
       "dtype: int64"
      ]
     },
     "metadata": {},
     "output_type": "display_data"
    },
    {
     "name": "stdout",
     "output_type": "stream",
     "text": [
      "\n",
      "\n",
      "\n",
      "\n",
      "1\n"
     ]
    },
    {
     "data": {
      "text/plain": [
       "kandidát      4938\n",
       "posl          3745\n",
       "ex             788\n",
       "europol        620\n",
       "ředitel        228\n",
       "město          226\n",
       "osvč           225\n",
       "zastupitel     212\n",
       "podnikatel     210\n",
       "obec           182\n",
       "starosta       181\n",
       "manažer        171\n",
       "senát          170\n",
       "předseda       156\n",
       "senat          152\n",
       "technik        149\n",
       "pedagog        139\n",
       "živnostník     139\n",
       "vedoucí        132\n",
       "společnost     128\n",
       "dtype: int64"
      ]
     },
     "metadata": {},
     "output_type": "display_data"
    },
    {
     "name": "stdout",
     "output_type": "stream",
     "text": [
      "\n",
      "\n",
      "\n",
      "\n",
      "2\n"
     ]
    },
    {
     "data": {
      "text/plain": [
       "kultura        5945\n",
       "muzeum         1046\n",
       "odborník        723\n",
       "ředitel         668\n",
       "festival        537\n",
       "kurátorka       484\n",
       "ředitelka       450\n",
       "vedoucí         420\n",
       "kurátor         389\n",
       "výstava         370\n",
       "knihovna        226\n",
       "byznys          215\n",
       "divadlo         193\n",
       "galerie         174\n",
       "organizátor     173\n",
       "historik        166\n",
       "kulturní        160\n",
       "městský         156\n",
       "dramaturg       152\n",
       "národní         150\n",
       "dtype: int64"
      ]
     },
     "metadata": {},
     "output_type": "display_data"
    },
    {
     "name": "stdout",
     "output_type": "stream",
     "text": [
      "\n",
      "\n",
      "\n",
      "\n",
      "3\n"
     ]
    },
    {
     "data": {
      "text/plain": [
       "odborník      8003\n",
       "byznys        5589\n",
       "zdravotník    2750\n",
       "ředitel       2562\n",
       "úředník       1585\n",
       "ozbrojenec    1370\n",
       "starosta      1369\n",
       "mluvčí        1077\n",
       "politik       1030\n",
       "ředitelka     1000\n",
       "ido            819\n",
       "om             819\n",
       "společnost     780\n",
       "záchranář      776\n",
       "český          674\n",
       "zástupce       634\n",
       "učitel         580\n",
       "ngo            570\n",
       "nemocnice      550\n",
       "lékař          547\n",
       "dtype: int64"
      ]
     },
     "metadata": {},
     "output_type": "display_data"
    },
    {
     "name": "stdout",
     "output_type": "stream",
     "text": [
      "\n",
      "\n",
      "\n",
      "\n",
      "4\n"
     ]
    },
    {
     "data": {
      "text/plain": [
       "církev             1181\n",
       "farář               282\n",
       "kněz                189\n",
       "farnost              63\n",
       "evangelický          58\n",
       "římskokatolický      58\n",
       "katolický            48\n",
       "biskup               45\n",
       "duchovní             45\n",
       "odborník             42\n",
       "kaplan               42\n",
       "kostel               35\n",
       "sv                   35\n",
       "obec                 32\n",
       "om                   32\n",
       "ido                  32\n",
       "český                31\n",
       "českobratrský        30\n",
       "teolog               27\n",
       "husitský             27\n",
       "dtype: int64"
      ]
     },
     "metadata": {},
     "output_type": "display_data"
    },
    {
     "name": "stdout",
     "output_type": "stream",
     "text": [
      "\n",
      "\n",
      "\n",
      "\n",
      "5\n"
     ]
    },
    {
     "data": {
      "text/plain": [
       "ex               10144\n",
       "kandidát          8041\n",
       "obec              6878\n",
       "zastupitel        3304\n",
       "starosta          1069\n",
       "posl               793\n",
       "ředitel            631\n",
       "kdu                606\n",
       "čsl                602\n",
       "ods                553\n",
       "místostarosta      486\n",
       "město              481\n",
       "čssd               424\n",
       "stan               294\n",
       "starostka          256\n",
       "vedoucí            222\n",
       "předseda           202\n",
       "reg                200\n",
       "zpr                198\n",
       "manažer            194\n",
       "dtype: int64"
      ]
     },
     "metadata": {},
     "output_type": "display_data"
    },
    {
     "name": "stdout",
     "output_type": "stream",
     "text": [
      "\n",
      "\n",
      "\n",
      "\n",
      "6\n"
     ]
    },
    {
     "data": {
      "text/plain": [
       "reg          6282\n",
       "zpr          6282\n",
       "ředitel      1196\n",
       "odborník      680\n",
       "český         648\n",
       "sport         585\n",
       "bývalý        472\n",
       "umělec        431\n",
       "předseda      428\n",
       "čr            411\n",
       "byznys        382\n",
       "kultura       374\n",
       "novinář       344\n",
       "trenér        301\n",
       "spolek        263\n",
       "ředitelka     263\n",
       "vedoucí       256\n",
       "plzeň         252\n",
       "ústav         245\n",
       "akademik      235\n",
       "dtype: int64"
      ]
     },
     "metadata": {},
     "output_type": "display_data"
    },
    {
     "name": "stdout",
     "output_type": "stream",
     "text": [
      "\n",
      "\n",
      "\n",
      "\n",
      "7\n"
     ]
    },
    {
     "data": {
      "text/plain": [
       "kandidát         3317\n",
       "ex               3066\n",
       "zastupitel       2484\n",
       "obec             2060\n",
       "posl             1055\n",
       "starosta          619\n",
       "kraj              599\n",
       "město             526\n",
       "krajský           460\n",
       "obecní            365\n",
       "místostarosta     224\n",
       "radní             219\n",
       "reg               208\n",
       "zpr               207\n",
       "ředitel           188\n",
       "náměstek          188\n",
       "ksčm              174\n",
       "čssd              173\n",
       "ods               163\n",
       "předseda          148\n",
       "dtype: int64"
      ]
     },
     "metadata": {},
     "output_type": "display_data"
    },
    {
     "name": "stdout",
     "output_type": "stream",
     "text": [
      "\n",
      "\n",
      "\n",
      "\n",
      "8\n"
     ]
    },
    {
     "data": {
      "text/plain": [
       "social           1625\n",
       "ředitelka         359\n",
       "vedoucí           303\n",
       "sociální          264\n",
       "domov             236\n",
       "ředitel           215\n",
       "charita           198\n",
       "senior            154\n",
       "služba            151\n",
       "centr             145\n",
       "pracovnice        139\n",
       "církev             90\n",
       "koordinátorka      88\n",
       "centrum            68\n",
       "dům                55\n",
       "ido                55\n",
       "om                 55\n",
       "péče               51\n",
       "dětský             50\n",
       "ngo                50\n",
       "dtype: int64"
      ]
     },
     "metadata": {},
     "output_type": "display_data"
    },
    {
     "name": "stdout",
     "output_type": "stream",
     "text": [
      "\n",
      "\n",
      "\n",
      "\n",
      "9\n"
     ]
    },
    {
     "data": {
      "text/plain": [
       "sport            8570\n",
       "trenér           1185\n",
       "hokejista        1124\n",
       "fotbalista       1119\n",
       "fotbalový         308\n",
       "bývalý            250\n",
       "ido               237\n",
       "om                237\n",
       "ředitel           208\n",
       "český             199\n",
       "hokej             189\n",
       "fotbal            185\n",
       "basketbalista     183\n",
       "trenérka          180\n",
       "hokejový          163\n",
       "předseda          160\n",
       "byznys            159\n",
       "cyklista          153\n",
       "volejbalista      145\n",
       "sportovní         135\n",
       "dtype: int64"
      ]
     },
     "metadata": {},
     "output_type": "display_data"
    },
    {
     "name": "stdout",
     "output_type": "stream",
     "text": [
      "\n",
      "\n",
      "\n",
      "\n",
      "10\n"
     ]
    },
    {
     "data": {
      "text/plain": [
       "spolek         3864\n",
       "předseda        809\n",
       "český           511\n",
       "svaz            337\n",
       "klub            322\n",
       "předsedkyně     275\n",
       "asociace        263\n",
       "sdružení        223\n",
       "odborník        183\n",
       "člen            175\n",
       "byznys          166\n",
       "lobby           165\n",
       "sport           156\n",
       "společnost      152\n",
       "komora          124\n",
       "čr              122\n",
       "ředitel         120\n",
       "vedoucí         109\n",
       "zdravotník      103\n",
       "kultura          90\n",
       "dtype: int64"
      ]
     },
     "metadata": {},
     "output_type": "display_data"
    },
    {
     "name": "stdout",
     "output_type": "stream",
     "text": [
      "\n",
      "\n",
      "\n",
      "\n",
      "11\n"
     ]
    },
    {
     "data": {
      "text/plain": [
       "zastupitel       2615\n",
       "obec             1838\n",
       "ex               1628\n",
       "starosta         1134\n",
       "kraj              406\n",
       "krajský           302\n",
       "kandidát          252\n",
       "starostka         247\n",
       "místostarosta     229\n",
       "zpr               155\n",
       "reg               155\n",
       "město             151\n",
       "posl              147\n",
       "obecní            134\n",
       "radní             110\n",
       "předseda           91\n",
       "ředitel            85\n",
       "náměstek           82\n",
       "bývalý             56\n",
       "primátor           53\n",
       "dtype: int64"
      ]
     },
     "metadata": {},
     "output_type": "display_data"
    },
    {
     "name": "stdout",
     "output_type": "stream",
     "text": [
      "\n",
      "\n",
      "\n",
      "\n",
      "12\n"
     ]
    },
    {
     "data": {
      "text/plain": [
       "vedoucí       2060\n",
       "úředník       1132\n",
       "odbor          781\n",
       "odborník       407\n",
       "oddělení       354\n",
       "byznys         323\n",
       "zdravotník     181\n",
       "město          135\n",
       "úřad           130\n",
       "magistrát      124\n",
       "ozbrojenec     120\n",
       "prostředí      111\n",
       "životní        110\n",
       "správa         108\n",
       "centr          108\n",
       "kraj            95\n",
       "doprava         89\n",
       "rozvoj          84\n",
       "krajský         83\n",
       "český           82\n",
       "dtype: int64"
      ]
     },
     "metadata": {},
     "output_type": "display_data"
    },
    {
     "name": "stdout",
     "output_type": "stream",
     "text": [
      "\n",
      "\n",
      "\n",
      "\n",
      "13\n"
     ]
    },
    {
     "data": {
      "text/plain": [
       "mluvčí          4138\n",
       "zpr              820\n",
       "reg              820\n",
       "tiskový          433\n",
       "policie          156\n",
       "byznys           143\n",
       "kraj             141\n",
       "český            139\n",
       "ministerstvo     134\n",
       "čr               124\n",
       "úřad             111\n",
       "ozbrojenec        99\n",
       "krajský           86\n",
       "úředník           86\n",
       "město             83\n",
       "soud              74\n",
       "městský           71\n",
       "nemocnice         70\n",
       "kultura           67\n",
       "om                63\n",
       "dtype: int64"
      ]
     },
     "metadata": {},
     "output_type": "display_data"
    },
    {
     "name": "stdout",
     "output_type": "stream",
     "text": [
      "\n",
      "\n",
      "\n",
      "\n",
      "14\n"
     ]
    },
    {
     "data": {
      "text/plain": [
       "novinář          2584\n",
       "čro               973\n",
       "redaktor          542\n",
       "redaktorka        289\n",
       "publicista        204\n",
       "novinářka         193\n",
       "zpravodajství     150\n",
       "moderátor         128\n",
       "reportér          122\n",
       "reg               117\n",
       "zpr               116\n",
       "šéfredaktor       115\n",
       "odborník          112\n",
       "komentátor         98\n",
       "český              85\n",
       "moderátorka        80\n",
       "kultura            73\n",
       "publicistka        70\n",
       "rozhlas            69\n",
       "reportérka         61\n",
       "dtype: int64"
      ]
     },
     "metadata": {},
     "output_type": "display_data"
    },
    {
     "name": "stdout",
     "output_type": "stream",
     "text": [
      "\n",
      "\n",
      "\n",
      "\n",
      "15\n"
     ]
    },
    {
     "data": {
      "text/plain": [
       "umělec          8039\n",
       "herec            833\n",
       "režisér          618\n",
       "herečka          598\n",
       "kultura          408\n",
       "fotograf         340\n",
       "spisovatel       338\n",
       "hudebník         315\n",
       "zpěvačka         286\n",
       "malíř            256\n",
       "spisovatelka     252\n",
       "zpěvák           239\n",
       "výtvarník        237\n",
       "výtvarnice       230\n",
       "režisérka        215\n",
       "divadlo          165\n",
       "autor            159\n",
       "ido              157\n",
       "om               157\n",
       "malířka          145\n",
       "dtype: int64"
      ]
     },
     "metadata": {},
     "output_type": "display_data"
    },
    {
     "name": "stdout",
     "output_type": "stream",
     "text": [
      "\n",
      "\n",
      "\n",
      "\n"
     ]
    }
   ],
   "source": [
    "for a in set(predictions):\n",
    "    print(a)\n",
    "    display(bag_of_words[bag_of_words.predictions == a].loc[:, bag_of_words.columns!='predictions'].sum().sort_values(ascending=False).head(20))\n",
    "    print('\\n\\n\\n')"
   ]
  },
  {
   "cell_type": "code",
   "execution_count": null,
   "id": "6b7ced6c",
   "metadata": {},
   "outputs": [],
   "source": []
  }
 ],
 "metadata": {
  "kernelspec": {
   "display_name": "Python 3 (ipykernel)",
   "language": "python",
   "name": "python3"
  },
  "language_info": {
   "codemirror_mode": {
    "name": "ipython",
    "version": 3
   },
   "file_extension": ".py",
   "mimetype": "text/x-python",
   "name": "python",
   "nbconvert_exporter": "python",
   "pygments_lexer": "ipython3",
   "version": "3.10.12"
  }
 },
 "nbformat": 4,
 "nbformat_minor": 5
}
