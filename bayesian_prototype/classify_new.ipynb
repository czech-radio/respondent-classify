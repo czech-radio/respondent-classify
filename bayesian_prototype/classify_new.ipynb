{
 "cells": [
  {
   "cell_type": "code",
   "execution_count": 1,
   "metadata": {},
   "outputs": [],
   "source": [
    "import pickle\n",
    "\n",
    "f = open('nb_clf_2019-04-02.pickle', 'rb')\n",
    "clf = pickle.load(f)\n",
    "f.close()\n",
    "\n",
    "g = open('count_vect.pickle', 'rb')\n",
    "count_vect = pickle.load(g)\n",
    "g.close()\n",
    "\n",
    "h = open('tfidf_transformer.pickle', 'rb')\n",
    "tfidf_transformer = pickle.load(h)\n",
    "h.close()"
   ]
  },
  {
   "cell_type": "code",
   "execution_count": 2,
   "metadata": {},
   "outputs": [],
   "source": [
    "target_map = {'advokát': 0, \n",
    "              'akademik': 1, \n",
    "              'aktivista': 2, \n",
    "              'blogger': 3, \n",
    "              'byznys': 4,\n",
    "              'celebrita': 5, \n",
    "              'církev': 6, \n",
    "              'europol': 7, \n",
    "              'komentátor': 8, \n",
    "              'kontrolor': 9,\n",
    "              'kultura': 10,\n",
    "              'léčitel': 11, \n",
    "              'lobby': 12, \n",
    "              'zdravotník': 13, \n",
    "              'mluvčí': 14,\n",
    "              'ngo': 15, \n",
    "              'novinář': 16, \n",
    "              'odborník': 17, \n",
    "              'odbory': 18, \n",
    "              'ostatní': 19, \n",
    "              'ombudsman': 20,\n",
    "              'ozbrojenec': 21, \n",
    "              'politik': 22, \n",
    "              'social': 23, \n",
    "              'soudce': 24, \n",
    "              'soudce_us': 25,\n",
    "              'spolek': 26, \n",
    "              'sport': 27, \n",
    "              'starosta': 28, \n",
    "              'stát_byznys': 29, \n",
    "              'ttank': 30, \n",
    "              'umělec': 31, \n",
    "              'úředník': 32, \n",
    "              'vyslanec': 33, \n",
    "              'zaměstnavatel': 34, \n",
    "              'zástupce': 35,\n",
    "              'záchranář': 36, \n",
    "              'média': 37, \n",
    "              'mezinárodní': 38}"
   ]
  },
  {
   "cell_type": "code",
   "execution_count": 4,
   "metadata": {},
   "outputs": [
    {
     "name": "stdout",
     "output_type": "stream",
     "text": [
      "'kněz chobot' => církev\n",
      "'fotbalista útočník fk mechov' => sport\n",
      "'nevim' => odborník\n",
      "'hasič' => záchranář\n"
     ]
    }
   ],
   "source": [
    "docs_new = ['kněz chobot', 'fotbalista útočník fk mechov', 'nevim', 'hasič']\n",
    "new_counts = count_vect.transform(docs_new)\n",
    "new_tfidf = tfidf_transformer.transform(new_counts)\n",
    "predicted = clf.predict(new_tfidf)\n",
    "\n",
    "target_categories = []\n",
    "for k in target_map.keys():\n",
    "    target_categories += [k]\n",
    "\n",
    "for doc, category in zip(docs_new, predicted):\n",
    "    print('%r => %s' % (doc, target_categories[category]))"
   ]
  },
  {
   "cell_type": "code",
   "execution_count": null,
   "metadata": {},
   "outputs": [],
   "source": []
  }
 ],
 "metadata": {
  "kernelspec": {
   "display_name": "Python 3",
   "language": "python",
   "name": "python3"
  },
  "language_info": {
   "codemirror_mode": {
    "name": "ipython",
    "version": 3
   },
   "file_extension": ".py",
   "mimetype": "text/x-python",
   "name": "python",
   "nbconvert_exporter": "python",
   "pygments_lexer": "ipython3",
   "version": "3.6.2"
  }
 },
 "nbformat": 4,
 "nbformat_minor": 2
}
