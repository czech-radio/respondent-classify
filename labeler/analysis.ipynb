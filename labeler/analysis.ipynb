{
 "cells": [
  {
   "cell_type": "code",
   "execution_count": 1,
   "id": "f4939bb7",
   "metadata": {
    "ExecuteTime": {
     "end_time": "2023-11-06T09:21:55.493648547Z",
     "start_time": "2023-11-06T09:21:54.970789798Z"
    }
   },
   "outputs": [],
   "source": [
    "import pandas as pd\n",
    "import matplotlib.pyplot as plt\n",
    "import numpy as np\n",
    "import pickle"
   ]
  },
  {
   "cell_type": "code",
   "execution_count": 2,
   "id": "2f21b7ec",
   "metadata": {
    "ExecuteTime": {
     "end_time": "2023-11-06T09:21:56.989193713Z",
     "start_time": "2023-11-06T09:21:56.555642943Z"
    }
   },
   "outputs": [
    {
     "data": {
      "text/html": [
       "<div>\n",
       "<style scoped>\n",
       "    .dataframe tbody tr th:only-of-type {\n",
       "        vertical-align: middle;\n",
       "    }\n",
       "\n",
       "    .dataframe tbody tr th {\n",
       "        vertical-align: top;\n",
       "    }\n",
       "\n",
       "    .dataframe thead th {\n",
       "        text-align: right;\n",
       "    }\n",
       "</style>\n",
       "<table border=\"1\" class=\"dataframe\">\n",
       "  <thead>\n",
       "    <tr style=\"text-align: right;\">\n",
       "      <th></th>\n",
       "      <th>id</th>\n",
       "      <th>party_name</th>\n",
       "      <th>descriptions</th>\n",
       "      <th>gender</th>\n",
       "      <th>is_foreigner</th>\n",
       "      <th>location</th>\n",
       "      <th>roots</th>\n",
       "      <th>lemmatized</th>\n",
       "    </tr>\n",
       "  </thead>\n",
       "  <tbody>\n",
       "    <tr>\n",
       "      <th>0</th>\n",
       "      <td>00000023-93ee-4754-a3c4-5748a4f420ad</td>\n",
       "      <td>STAN</td>\n",
       "      <td>hasič;Všeruby (Domažlice);ex-zast_obec;ex-kand...</td>\n",
       "      <td>1</td>\n",
       "      <td>2</td>\n",
       "      <td>554456</td>\n",
       "      <td>['hasit', 'všerub', 'domažlice', 'ex', 'zastou...</td>\n",
       "      <td>['hasič', 'všerub', 'domažlice', 'ex', 'zastup...</td>\n",
       "    </tr>\n",
       "    <tr>\n",
       "      <th>1</th>\n",
       "      <td>0000d8c9-28cf-457b-a1ff-751e3d1fac3c</td>\n",
       "      <td>BEZPP</td>\n",
       "      <td>Potravinářská komora České republiky;lobby;mluvčí</td>\n",
       "      <td>2</td>\n",
       "      <td>2</td>\n",
       "      <td>0</td>\n",
       "      <td>['trávit', 'komora', 'Čech', 'republika', 'lob...</td>\n",
       "      <td>['potravinářský', 'komora', 'český', 'republik...</td>\n",
       "    </tr>\n",
       "    <tr>\n",
       "      <th>2</th>\n",
       "      <td>00017467-20c1-4151-9126-088f9bff86e9</td>\n",
       "      <td>BEZPP</td>\n",
       "      <td>umělec;dirigent</td>\n",
       "      <td>1</td>\n",
       "      <td>2</td>\n",
       "      <td>0</td>\n",
       "      <td>['umět', 'dirigovat']</td>\n",
       "      <td>['umělec', 'dirigent']</td>\n",
       "    </tr>\n",
       "    <tr>\n",
       "      <th>3</th>\n",
       "      <td>0002bfa9-c1e6-4fae-acfd-6e32481e7fd5</td>\n",
       "      <td>BEZPP</td>\n",
       "      <td>umělec;básnířka</td>\n",
       "      <td>2</td>\n",
       "      <td>2</td>\n",
       "      <td>0</td>\n",
       "      <td>['umět', 'bát']</td>\n",
       "      <td>['umělec', 'básnířka']</td>\n",
       "    </tr>\n",
       "    <tr>\n",
       "      <th>4</th>\n",
       "      <td>00040844-ca87-4a12-b394-eecd78a0166f</td>\n",
       "      <td>BEZPP</td>\n",
       "      <td>mluvčí Rožnov pod Radhoštěm;umělec;grafička a ...</td>\n",
       "      <td>2</td>\n",
       "      <td>2</td>\n",
       "      <td>0</td>\n",
       "      <td>['mluvit', 'rožnov', 'radhošten', 'umět', 'kar...</td>\n",
       "      <td>['mluvčí', 'rožnov', 'radhošten', 'umělec', 'g...</td>\n",
       "    </tr>\n",
       "  </tbody>\n",
       "</table>\n",
       "</div>"
      ],
      "text/plain": [
       "                                     id party_name  \\\n",
       "0  00000023-93ee-4754-a3c4-5748a4f420ad       STAN   \n",
       "1  0000d8c9-28cf-457b-a1ff-751e3d1fac3c      BEZPP   \n",
       "2  00017467-20c1-4151-9126-088f9bff86e9      BEZPP   \n",
       "3  0002bfa9-c1e6-4fae-acfd-6e32481e7fd5      BEZPP   \n",
       "4  00040844-ca87-4a12-b394-eecd78a0166f      BEZPP   \n",
       "\n",
       "                                        descriptions  gender  is_foreigner  \\\n",
       "0  hasič;Všeruby (Domažlice);ex-zast_obec;ex-kand...       1             2   \n",
       "1  Potravinářská komora České republiky;lobby;mluvčí       2             2   \n",
       "2                                    umělec;dirigent       1             2   \n",
       "3                                    umělec;básnířka       2             2   \n",
       "4  mluvčí Rožnov pod Radhoštěm;umělec;grafička a ...       2             2   \n",
       "\n",
       "   location                                              roots  \\\n",
       "0    554456  ['hasit', 'všerub', 'domažlice', 'ex', 'zastou...   \n",
       "1         0  ['trávit', 'komora', 'Čech', 'republika', 'lob...   \n",
       "2         0                              ['umět', 'dirigovat']   \n",
       "3         0                                    ['umět', 'bát']   \n",
       "4         0  ['mluvit', 'rožnov', 'radhošten', 'umět', 'kar...   \n",
       "\n",
       "                                          lemmatized  \n",
       "0  ['hasič', 'všerub', 'domažlice', 'ex', 'zastup...  \n",
       "1  ['potravinářský', 'komora', 'český', 'republik...  \n",
       "2                             ['umělec', 'dirigent']  \n",
       "3                             ['umělec', 'básnířka']  \n",
       "4  ['mluvčí', 'rožnov', 'radhošten', 'umělec', 'g...  "
      ]
     },
     "execution_count": 2,
     "metadata": {},
     "output_type": "execute_result"
    }
   ],
   "source": [
    "df = pd.read_csv(\"data/proccessed.csv\", index_col=0)\n",
    "df.head()"
   ]
  },
  {
   "cell_type": "code",
   "execution_count": 3,
   "id": "8b5553e5-b5df-49d5-9f42-ad0b5314aa05",
   "metadata": {
    "ExecuteTime": {
     "end_time": "2023-11-06T09:21:57.836265247Z",
     "start_time": "2023-11-06T09:21:57.832785283Z"
    }
   },
   "outputs": [
    {
     "data": {
      "text/html": [
       "<div>\n",
       "<style scoped>\n",
       "    .dataframe tbody tr th:only-of-type {\n",
       "        vertical-align: middle;\n",
       "    }\n",
       "\n",
       "    .dataframe tbody tr th {\n",
       "        vertical-align: top;\n",
       "    }\n",
       "\n",
       "    .dataframe thead th {\n",
       "        text-align: right;\n",
       "    }\n",
       "</style>\n",
       "<table border=\"1\" class=\"dataframe\">\n",
       "  <thead>\n",
       "    <tr style=\"text-align: right;\">\n",
       "      <th></th>\n",
       "      <th>party_name</th>\n",
       "      <th>gender</th>\n",
       "      <th>is_foreigner</th>\n",
       "      <th>roots</th>\n",
       "      <th>lemmatized</th>\n",
       "    </tr>\n",
       "  </thead>\n",
       "  <tbody>\n",
       "    <tr>\n",
       "      <th>0</th>\n",
       "      <td>STAN</td>\n",
       "      <td>1</td>\n",
       "      <td>2</td>\n",
       "      <td>['hasit', 'všerub', 'domažlice', 'ex', 'zastou...</td>\n",
       "      <td>['hasič', 'všerub', 'domažlice', 'ex', 'zastup...</td>\n",
       "    </tr>\n",
       "    <tr>\n",
       "      <th>1</th>\n",
       "      <td>BEZPP</td>\n",
       "      <td>2</td>\n",
       "      <td>2</td>\n",
       "      <td>['trávit', 'komora', 'Čech', 'republika', 'lob...</td>\n",
       "      <td>['potravinářský', 'komora', 'český', 'republik...</td>\n",
       "    </tr>\n",
       "    <tr>\n",
       "      <th>2</th>\n",
       "      <td>BEZPP</td>\n",
       "      <td>1</td>\n",
       "      <td>2</td>\n",
       "      <td>['umět', 'dirigovat']</td>\n",
       "      <td>['umělec', 'dirigent']</td>\n",
       "    </tr>\n",
       "    <tr>\n",
       "      <th>3</th>\n",
       "      <td>BEZPP</td>\n",
       "      <td>2</td>\n",
       "      <td>2</td>\n",
       "      <td>['umět', 'bát']</td>\n",
       "      <td>['umělec', 'básnířka']</td>\n",
       "    </tr>\n",
       "    <tr>\n",
       "      <th>4</th>\n",
       "      <td>BEZPP</td>\n",
       "      <td>2</td>\n",
       "      <td>2</td>\n",
       "      <td>['mluvit', 'rožnov', 'radhošten', 'umět', 'kar...</td>\n",
       "      <td>['mluvčí', 'rožnov', 'radhošten', 'umělec', 'g...</td>\n",
       "    </tr>\n",
       "  </tbody>\n",
       "</table>\n",
       "</div>"
      ],
      "text/plain": [
       "  party_name  gender  is_foreigner  \\\n",
       "0       STAN       1             2   \n",
       "1      BEZPP       2             2   \n",
       "2      BEZPP       1             2   \n",
       "3      BEZPP       2             2   \n",
       "4      BEZPP       2             2   \n",
       "\n",
       "                                               roots  \\\n",
       "0  ['hasit', 'všerub', 'domažlice', 'ex', 'zastou...   \n",
       "1  ['trávit', 'komora', 'Čech', 'republika', 'lob...   \n",
       "2                              ['umět', 'dirigovat']   \n",
       "3                                    ['umět', 'bát']   \n",
       "4  ['mluvit', 'rožnov', 'radhošten', 'umět', 'kar...   \n",
       "\n",
       "                                          lemmatized  \n",
       "0  ['hasič', 'všerub', 'domažlice', 'ex', 'zastup...  \n",
       "1  ['potravinářský', 'komora', 'český', 'republik...  \n",
       "2                             ['umělec', 'dirigent']  \n",
       "3                             ['umělec', 'básnířka']  \n",
       "4  ['mluvčí', 'rožnov', 'radhošten', 'umělec', 'g...  "
      ]
     },
     "execution_count": 3,
     "metadata": {},
     "output_type": "execute_result"
    }
   ],
   "source": [
    "df = df.drop(columns=['id', 'descriptions', 'location'])\n",
    "df.head()"
   ]
  },
  {
   "cell_type": "code",
   "execution_count": 4,
   "id": "485d350e-065c-4297-bf8b-0564e0a9d1f8",
   "metadata": {
    "ExecuteTime": {
     "end_time": "2023-11-06T09:22:31.147107514Z",
     "start_time": "2023-11-06T09:22:28.809140535Z"
    }
   },
   "outputs": [
    {
     "name": "stdout",
     "output_type": "stream",
     "text": [
      "INFO: Pandarallel will run on 8 workers.\n",
      "INFO: Pandarallel will use Memory file system to transfer data between the main process and workers.\n"
     ]
    }
   ],
   "source": [
    "from src.labeler._utils import string_to_list\n",
    "df.roots = df.roots.apply(string_to_list)\n",
    "df.lemmatized = df.lemmatized.apply(string_to_list)\n"
   ]
  },
  {
   "cell_type": "code",
   "execution_count": 5,
   "id": "c1316367-15dd-4bd7-94e5-d09c86b0a92e",
   "metadata": {
    "ExecuteTime": {
     "end_time": "2023-11-06T09:22:33.123349008Z",
     "start_time": "2023-11-06T09:22:33.009033197Z"
    }
   },
   "outputs": [
    {
     "data": {
      "text/html": [
       "<div>\n",
       "<style scoped>\n",
       "    .dataframe tbody tr th:only-of-type {\n",
       "        vertical-align: middle;\n",
       "    }\n",
       "\n",
       "    .dataframe tbody tr th {\n",
       "        vertical-align: top;\n",
       "    }\n",
       "\n",
       "    .dataframe thead th {\n",
       "        text-align: right;\n",
       "    }\n",
       "</style>\n",
       "<table border=\"1\" class=\"dataframe\">\n",
       "  <thead>\n",
       "    <tr style=\"text-align: right;\">\n",
       "      <th></th>\n",
       "      <th>party_name</th>\n",
       "      <th>gender</th>\n",
       "      <th>is_foreigner</th>\n",
       "      <th>roots</th>\n",
       "      <th>lemmatized</th>\n",
       "      <th>is_labeled</th>\n",
       "    </tr>\n",
       "  </thead>\n",
       "  <tbody>\n",
       "    <tr>\n",
       "      <th>0</th>\n",
       "      <td>STAN</td>\n",
       "      <td>1</td>\n",
       "      <td>2</td>\n",
       "      <td>[hasit, všerub, domažlice, ex, zastoupit, obec...</td>\n",
       "      <td>[hasič, všerub, domažlice, ex, zastupitel, obe...</td>\n",
       "      <td>False</td>\n",
       "    </tr>\n",
       "    <tr>\n",
       "      <th>1</th>\n",
       "      <td>BEZPP</td>\n",
       "      <td>2</td>\n",
       "      <td>2</td>\n",
       "      <td>[trávit, komora, Čech, republika, lobby, mluvit]</td>\n",
       "      <td>[potravinářský, komora, český, republika, lobb...</td>\n",
       "      <td>True</td>\n",
       "    </tr>\n",
       "    <tr>\n",
       "      <th>2</th>\n",
       "      <td>BEZPP</td>\n",
       "      <td>1</td>\n",
       "      <td>2</td>\n",
       "      <td>[umět, dirigovat]</td>\n",
       "      <td>[umělec, dirigent]</td>\n",
       "      <td>True</td>\n",
       "    </tr>\n",
       "    <tr>\n",
       "      <th>3</th>\n",
       "      <td>BEZPP</td>\n",
       "      <td>2</td>\n",
       "      <td>2</td>\n",
       "      <td>[umět, bát]</td>\n",
       "      <td>[umělec, básnířka]</td>\n",
       "      <td>True</td>\n",
       "    </tr>\n",
       "    <tr>\n",
       "      <th>4</th>\n",
       "      <td>BEZPP</td>\n",
       "      <td>2</td>\n",
       "      <td>2</td>\n",
       "      <td>[mluvit, rožnov, radhošten, umět, karta, tvořit]</td>\n",
       "      <td>[mluvčí, rožnov, radhošten, umělec, grafička, ...</td>\n",
       "      <td>True</td>\n",
       "    </tr>\n",
       "  </tbody>\n",
       "</table>\n",
       "</div>"
      ],
      "text/plain": [
       "  party_name  gender  is_foreigner  \\\n",
       "0       STAN       1             2   \n",
       "1      BEZPP       2             2   \n",
       "2      BEZPP       1             2   \n",
       "3      BEZPP       2             2   \n",
       "4      BEZPP       2             2   \n",
       "\n",
       "                                               roots  \\\n",
       "0  [hasit, všerub, domažlice, ex, zastoupit, obec...   \n",
       "1   [trávit, komora, Čech, republika, lobby, mluvit]   \n",
       "2                                  [umět, dirigovat]   \n",
       "3                                        [umět, bát]   \n",
       "4   [mluvit, rožnov, radhošten, umět, karta, tvořit]   \n",
       "\n",
       "                                          lemmatized  is_labeled  \n",
       "0  [hasič, všerub, domažlice, ex, zastupitel, obe...       False  \n",
       "1  [potravinářský, komora, český, republika, lobb...        True  \n",
       "2                                 [umělec, dirigent]        True  \n",
       "3                                 [umělec, básnířka]        True  \n",
       "4  [mluvčí, rožnov, radhošten, umělec, grafička, ...        True  "
      ]
     },
     "execution_count": 5,
     "metadata": {},
     "output_type": "execute_result"
    }
   ],
   "source": [
    "std = ['advokát', 'akademik', 'aktivista', 'blogger', 'byznys', \n",
    "'celebrita', 'církev', 'europol', 'komentátor', 'kontrolor', \n",
    "'kultura', 'léčitel', 'lobby', 'zdravotník', 'mluvčí', 'ngo', \n",
    "'novinář', 'odborník', 'odbory', 'ostatní', 'ombudsman', \n",
    "'ozbrojenec', 'politik', 'social', 'soudce', 'soudce_us', \n",
    "'spolek', 'sport', 'starosta', 'stát_byznys', 'ttank', \n",
    "'umělec', 'úředník', 'vyslanec', 'zaměstnavatel', 'zástupce', \n",
    "'záchranář', 'média', 'mezinárodní']\n",
    "\n",
    "df['is_labeled'] = df.lemmatized.apply(lambda row: len([x for x in row if x in std]) != 0)\n",
    "df.head()"
   ]
  },
  {
   "cell_type": "code",
   "execution_count": 6,
   "id": "5d439c2f",
   "metadata": {
    "ExecuteTime": {
     "end_time": "2023-11-06T09:22:34.149910882Z",
     "start_time": "2023-11-06T09:22:34.147460662Z"
    }
   },
   "outputs": [],
   "source": [
    "df['is_pol'] = df.party_name.apply(lambda x: x != 'BEZPP')"
   ]
  },
  {
   "cell_type": "code",
   "execution_count": 7,
   "id": "1c314171-3f29-4690-8c06-46352f1418e1",
   "metadata": {
    "ExecuteTime": {
     "end_time": "2023-11-06T09:22:34.735241663Z",
     "start_time": "2023-11-06T09:22:34.725846745Z"
    },
    "scrolled": true
   },
   "outputs": [
    {
     "data": {
      "text/html": [
       "<div>\n",
       "<style scoped>\n",
       "    .dataframe tbody tr th:only-of-type {\n",
       "        vertical-align: middle;\n",
       "    }\n",
       "\n",
       "    .dataframe tbody tr th {\n",
       "        vertical-align: top;\n",
       "    }\n",
       "\n",
       "    .dataframe thead th {\n",
       "        text-align: right;\n",
       "    }\n",
       "</style>\n",
       "<table border=\"1\" class=\"dataframe\">\n",
       "  <thead>\n",
       "    <tr style=\"text-align: right;\">\n",
       "      <th></th>\n",
       "      <th>party_name</th>\n",
       "      <th>gender</th>\n",
       "      <th>is_foreigner</th>\n",
       "      <th>roots</th>\n",
       "      <th>lemmatized</th>\n",
       "      <th>is_labeled</th>\n",
       "      <th>is_pol</th>\n",
       "    </tr>\n",
       "  </thead>\n",
       "  <tbody>\n",
       "    <tr>\n",
       "      <th>0</th>\n",
       "      <td>STAN</td>\n",
       "      <td>1</td>\n",
       "      <td>2</td>\n",
       "      <td>[hasit, všerub, domažlice, ex, zastoupit, obec...</td>\n",
       "      <td>[hasič, všerub, domažlice, ex, zastupitel, obe...</td>\n",
       "      <td>False</td>\n",
       "      <td>True</td>\n",
       "    </tr>\n",
       "    <tr>\n",
       "      <th>1</th>\n",
       "      <td>BEZPP</td>\n",
       "      <td>2</td>\n",
       "      <td>2</td>\n",
       "      <td>[trávit, komora, Čech, republika, lobby, mluvit]</td>\n",
       "      <td>[potravinářský, komora, český, republika, lobb...</td>\n",
       "      <td>True</td>\n",
       "      <td>False</td>\n",
       "    </tr>\n",
       "    <tr>\n",
       "      <th>2</th>\n",
       "      <td>BEZPP</td>\n",
       "      <td>1</td>\n",
       "      <td>2</td>\n",
       "      <td>[umět, dirigovat]</td>\n",
       "      <td>[umělec, dirigent]</td>\n",
       "      <td>True</td>\n",
       "      <td>False</td>\n",
       "    </tr>\n",
       "    <tr>\n",
       "      <th>3</th>\n",
       "      <td>BEZPP</td>\n",
       "      <td>2</td>\n",
       "      <td>2</td>\n",
       "      <td>[umět, bát]</td>\n",
       "      <td>[umělec, básnířka]</td>\n",
       "      <td>True</td>\n",
       "      <td>False</td>\n",
       "    </tr>\n",
       "    <tr>\n",
       "      <th>4</th>\n",
       "      <td>BEZPP</td>\n",
       "      <td>2</td>\n",
       "      <td>2</td>\n",
       "      <td>[mluvit, rožnov, radhošten, umět, karta, tvořit]</td>\n",
       "      <td>[mluvčí, rožnov, radhošten, umělec, grafička, ...</td>\n",
       "      <td>True</td>\n",
       "      <td>False</td>\n",
       "    </tr>\n",
       "  </tbody>\n",
       "</table>\n",
       "</div>"
      ],
      "text/plain": [
       "  party_name  gender  is_foreigner  \\\n",
       "0       STAN       1             2   \n",
       "1      BEZPP       2             2   \n",
       "2      BEZPP       1             2   \n",
       "3      BEZPP       2             2   \n",
       "4      BEZPP       2             2   \n",
       "\n",
       "                                               roots  \\\n",
       "0  [hasit, všerub, domažlice, ex, zastoupit, obec...   \n",
       "1   [trávit, komora, Čech, republika, lobby, mluvit]   \n",
       "2                                  [umět, dirigovat]   \n",
       "3                                        [umět, bát]   \n",
       "4   [mluvit, rožnov, radhošten, umět, karta, tvořit]   \n",
       "\n",
       "                                          lemmatized  is_labeled  is_pol  \n",
       "0  [hasič, všerub, domažlice, ex, zastupitel, obe...       False    True  \n",
       "1  [potravinářský, komora, český, republika, lobb...        True   False  \n",
       "2                                 [umělec, dirigent]        True   False  \n",
       "3                                 [umělec, básnířka]        True   False  \n",
       "4  [mluvčí, rožnov, radhošten, umělec, grafička, ...        True   False  "
      ]
     },
     "execution_count": 7,
     "metadata": {},
     "output_type": "execute_result"
    }
   ],
   "source": [
    "df.head()"
   ]
  },
  {
   "cell_type": "code",
   "execution_count": 8,
   "id": "3d6146e0",
   "metadata": {
    "ExecuteTime": {
     "end_time": "2023-11-06T09:22:44.543834543Z",
     "start_time": "2023-11-06T09:22:42.776751909Z"
    }
   },
   "outputs": [
    {
     "data": {
      "text/html": [
       "<div>\n",
       "<style scoped>\n",
       "    .dataframe tbody tr th:only-of-type {\n",
       "        vertical-align: middle;\n",
       "    }\n",
       "\n",
       "    .dataframe tbody tr th {\n",
       "        vertical-align: top;\n",
       "    }\n",
       "\n",
       "    .dataframe thead th {\n",
       "        text-align: right;\n",
       "    }\n",
       "</style>\n",
       "<table border=\"1\" class=\"dataframe\">\n",
       "  <thead>\n",
       "    <tr style=\"text-align: right;\">\n",
       "      <th></th>\n",
       "      <th>aaa</th>\n",
       "      <th>aalborg</th>\n",
       "      <th>aarhus</th>\n",
       "      <th>abatyše</th>\n",
       "      <th>abd</th>\n",
       "      <th>abeceda</th>\n",
       "      <th>abertam</th>\n",
       "      <th>about</th>\n",
       "      <th>abrahámova</th>\n",
       "      <th>absint</th>\n",
       "      <th>...</th>\n",
       "      <th>žár</th>\n",
       "      <th>žíla</th>\n",
       "      <th>žít</th>\n",
       "      <th>žítková</th>\n",
       "      <th>žížala</th>\n",
       "      <th>žďas</th>\n",
       "      <th>žďár</th>\n",
       "      <th>žďárce</th>\n",
       "      <th>žďársek</th>\n",
       "      <th>žďársko</th>\n",
       "    </tr>\n",
       "  </thead>\n",
       "  <tbody>\n",
       "    <tr>\n",
       "      <th>0</th>\n",
       "      <td>0</td>\n",
       "      <td>0</td>\n",
       "      <td>0</td>\n",
       "      <td>0</td>\n",
       "      <td>0</td>\n",
       "      <td>0</td>\n",
       "      <td>0</td>\n",
       "      <td>0</td>\n",
       "      <td>0</td>\n",
       "      <td>0</td>\n",
       "      <td>...</td>\n",
       "      <td>0</td>\n",
       "      <td>0</td>\n",
       "      <td>0</td>\n",
       "      <td>0</td>\n",
       "      <td>0</td>\n",
       "      <td>0</td>\n",
       "      <td>0</td>\n",
       "      <td>0</td>\n",
       "      <td>0</td>\n",
       "      <td>0</td>\n",
       "    </tr>\n",
       "    <tr>\n",
       "      <th>1</th>\n",
       "      <td>0</td>\n",
       "      <td>0</td>\n",
       "      <td>0</td>\n",
       "      <td>0</td>\n",
       "      <td>0</td>\n",
       "      <td>0</td>\n",
       "      <td>0</td>\n",
       "      <td>0</td>\n",
       "      <td>0</td>\n",
       "      <td>0</td>\n",
       "      <td>...</td>\n",
       "      <td>0</td>\n",
       "      <td>0</td>\n",
       "      <td>0</td>\n",
       "      <td>0</td>\n",
       "      <td>0</td>\n",
       "      <td>0</td>\n",
       "      <td>0</td>\n",
       "      <td>0</td>\n",
       "      <td>0</td>\n",
       "      <td>0</td>\n",
       "    </tr>\n",
       "    <tr>\n",
       "      <th>2</th>\n",
       "      <td>0</td>\n",
       "      <td>0</td>\n",
       "      <td>0</td>\n",
       "      <td>0</td>\n",
       "      <td>0</td>\n",
       "      <td>0</td>\n",
       "      <td>0</td>\n",
       "      <td>0</td>\n",
       "      <td>0</td>\n",
       "      <td>0</td>\n",
       "      <td>...</td>\n",
       "      <td>0</td>\n",
       "      <td>0</td>\n",
       "      <td>0</td>\n",
       "      <td>0</td>\n",
       "      <td>0</td>\n",
       "      <td>0</td>\n",
       "      <td>0</td>\n",
       "      <td>0</td>\n",
       "      <td>0</td>\n",
       "      <td>0</td>\n",
       "    </tr>\n",
       "    <tr>\n",
       "      <th>3</th>\n",
       "      <td>0</td>\n",
       "      <td>0</td>\n",
       "      <td>0</td>\n",
       "      <td>0</td>\n",
       "      <td>0</td>\n",
       "      <td>0</td>\n",
       "      <td>0</td>\n",
       "      <td>0</td>\n",
       "      <td>0</td>\n",
       "      <td>0</td>\n",
       "      <td>...</td>\n",
       "      <td>0</td>\n",
       "      <td>0</td>\n",
       "      <td>0</td>\n",
       "      <td>0</td>\n",
       "      <td>0</td>\n",
       "      <td>0</td>\n",
       "      <td>0</td>\n",
       "      <td>0</td>\n",
       "      <td>0</td>\n",
       "      <td>0</td>\n",
       "    </tr>\n",
       "    <tr>\n",
       "      <th>4</th>\n",
       "      <td>0</td>\n",
       "      <td>0</td>\n",
       "      <td>0</td>\n",
       "      <td>0</td>\n",
       "      <td>0</td>\n",
       "      <td>0</td>\n",
       "      <td>0</td>\n",
       "      <td>0</td>\n",
       "      <td>0</td>\n",
       "      <td>0</td>\n",
       "      <td>...</td>\n",
       "      <td>0</td>\n",
       "      <td>0</td>\n",
       "      <td>0</td>\n",
       "      <td>0</td>\n",
       "      <td>0</td>\n",
       "      <td>0</td>\n",
       "      <td>0</td>\n",
       "      <td>0</td>\n",
       "      <td>0</td>\n",
       "      <td>0</td>\n",
       "    </tr>\n",
       "  </tbody>\n",
       "</table>\n",
       "<p>5 rows × 12944 columns</p>\n",
       "</div>"
      ],
      "text/plain": [
       "   aaa  aalborg  aarhus  abatyše  abd  abeceda  abertam  about  abrahámova  \\\n",
       "0    0        0       0        0    0        0        0      0           0   \n",
       "1    0        0       0        0    0        0        0      0           0   \n",
       "2    0        0       0        0    0        0        0      0           0   \n",
       "3    0        0       0        0    0        0        0      0           0   \n",
       "4    0        0       0        0    0        0        0      0           0   \n",
       "\n",
       "   absint  ...  žár  žíla  žít  žítková  žížala  žďas  žďár  žďárce  žďársek  \\\n",
       "0       0  ...    0     0    0        0       0     0     0       0        0   \n",
       "1       0  ...    0     0    0        0       0     0     0       0        0   \n",
       "2       0  ...    0     0    0        0       0     0     0       0        0   \n",
       "3       0  ...    0     0    0        0       0     0     0       0        0   \n",
       "4       0  ...    0     0    0        0       0     0     0       0        0   \n",
       "\n",
       "   žďársko  \n",
       "0        0  \n",
       "1        0  \n",
       "2        0  \n",
       "3        0  \n",
       "4        0  \n",
       "\n",
       "[5 rows x 12944 columns]"
      ]
     },
     "execution_count": 8,
     "metadata": {},
     "output_type": "execute_result"
    }
   ],
   "source": [
    "from src.labeler._utils import to_bag_of_words\n",
    "bag_of_words = to_bag_of_words(df.roots, is_string=False)\n",
    "bag_of_words.head()"
   ]
  },
  {
   "cell_type": "code",
   "execution_count": 9,
   "id": "909b9c0a",
   "metadata": {
    "ExecuteTime": {
     "end_time": "2023-11-06T09:22:45.871711533Z",
     "start_time": "2023-11-06T09:22:44.556512654Z"
    }
   },
   "outputs": [
    {
     "name": "stdout",
     "output_type": "stream",
     "text": [
      "7253\n"
     ]
    }
   ],
   "source": [
    "print(len(bag_of_words.loc[:,bag_of_words.sum() > 1].columns))"
   ]
  },
  {
   "cell_type": "code",
   "execution_count": 10,
   "id": "6ac7ee96-21b7-4d27-ba2f-afe6e2e8e47a",
   "metadata": {
    "ExecuteTime": {
     "end_time": "2023-11-06T09:22:47.562390039Z",
     "start_time": "2023-11-06T09:22:47.553155459Z"
    }
   },
   "outputs": [],
   "source": [
    "df['roots_n'] = df.roots.apply(lambda row: len(row))"
   ]
  },
  {
   "cell_type": "code",
   "execution_count": 11,
   "id": "c59c8b2e-ae5b-49c2-ab32-625b32f8585a",
   "metadata": {
    "ExecuteTime": {
     "end_time": "2023-11-06T09:22:48.911843673Z",
     "start_time": "2023-11-06T09:22:48.906710637Z"
    }
   },
   "outputs": [
    {
     "data": {
      "text/html": [
       "<div>\n",
       "<style scoped>\n",
       "    .dataframe tbody tr th:only-of-type {\n",
       "        vertical-align: middle;\n",
       "    }\n",
       "\n",
       "    .dataframe tbody tr th {\n",
       "        vertical-align: top;\n",
       "    }\n",
       "\n",
       "    .dataframe thead th {\n",
       "        text-align: right;\n",
       "    }\n",
       "</style>\n",
       "<table border=\"1\" class=\"dataframe\">\n",
       "  <thead>\n",
       "    <tr style=\"text-align: right;\">\n",
       "      <th></th>\n",
       "      <th>party_name</th>\n",
       "      <th>gender</th>\n",
       "      <th>is_foreigner</th>\n",
       "      <th>roots</th>\n",
       "      <th>lemmatized</th>\n",
       "      <th>is_labeled</th>\n",
       "      <th>is_pol</th>\n",
       "      <th>roots_n</th>\n",
       "    </tr>\n",
       "  </thead>\n",
       "  <tbody>\n",
       "    <tr>\n",
       "      <th>14794</th>\n",
       "      <td>BEZPP</td>\n",
       "      <td>2</td>\n",
       "      <td>2</td>\n",
       "      <td>[]</td>\n",
       "      <td>[]</td>\n",
       "      <td>False</td>\n",
       "      <td>False</td>\n",
       "      <td>0</td>\n",
       "    </tr>\n",
       "    <tr>\n",
       "      <th>66373</th>\n",
       "      <td>BEZPP</td>\n",
       "      <td>1</td>\n",
       "      <td>2</td>\n",
       "      <td>[]</td>\n",
       "      <td>[]</td>\n",
       "      <td>False</td>\n",
       "      <td>False</td>\n",
       "      <td>0</td>\n",
       "    </tr>\n",
       "    <tr>\n",
       "      <th>71044</th>\n",
       "      <td>BEZPP</td>\n",
       "      <td>1</td>\n",
       "      <td>2</td>\n",
       "      <td>[]</td>\n",
       "      <td>[]</td>\n",
       "      <td>False</td>\n",
       "      <td>False</td>\n",
       "      <td>0</td>\n",
       "    </tr>\n",
       "  </tbody>\n",
       "</table>\n",
       "</div>"
      ],
      "text/plain": [
       "      party_name  gender  is_foreigner roots lemmatized  is_labeled  is_pol  \\\n",
       "14794      BEZPP       2             2    []         []       False   False   \n",
       "66373      BEZPP       1             2    []         []       False   False   \n",
       "71044      BEZPP       1             2    []         []       False   False   \n",
       "\n",
       "       roots_n  \n",
       "14794        0  \n",
       "66373        0  \n",
       "71044        0  "
      ]
     },
     "execution_count": 11,
     "metadata": {},
     "output_type": "execute_result"
    }
   ],
   "source": [
    "df[df.roots_n == 0]"
   ]
  },
  {
   "cell_type": "code",
   "execution_count": 12,
   "id": "1678346e-f9e3-48b9-8d7a-d1adb154d7a7",
   "metadata": {
    "ExecuteTime": {
     "end_time": "2023-11-06T09:23:25.031918998Z",
     "start_time": "2023-11-06T09:22:51.772830835Z"
    }
   },
   "outputs": [],
   "source": [
    "non_politic_bag = bag_of_words.loc[~df.is_pol, bag_of_words.sum() > 1].copy()"
   ]
  },
  {
   "cell_type": "code",
   "execution_count": 13,
   "id": "0cd6635e-4b04-43f0-bfb2-54dfee91ffc5",
   "metadata": {
    "ExecuteTime": {
     "end_time": "2023-11-06T09:23:25.033221710Z",
     "start_time": "2023-11-06T09:22:58.981588210Z"
    }
   },
   "outputs": [
    {
     "data": {
      "text/html": [
       "<div>\n",
       "<style scoped>\n",
       "    .dataframe tbody tr th:only-of-type {\n",
       "        vertical-align: middle;\n",
       "    }\n",
       "\n",
       "    .dataframe tbody tr th {\n",
       "        vertical-align: top;\n",
       "    }\n",
       "\n",
       "    .dataframe thead th {\n",
       "        text-align: right;\n",
       "    }\n",
       "</style>\n",
       "<table border=\"1\" class=\"dataframe\">\n",
       "  <thead>\n",
       "    <tr style=\"text-align: right;\">\n",
       "      <th></th>\n",
       "      <th>party_name</th>\n",
       "      <th>gender</th>\n",
       "      <th>is_foreigner</th>\n",
       "      <th>roots</th>\n",
       "      <th>lemmatized</th>\n",
       "      <th>is_labeled</th>\n",
       "      <th>is_pol</th>\n",
       "      <th>roots_n</th>\n",
       "    </tr>\n",
       "  </thead>\n",
       "  <tbody>\n",
       "    <tr>\n",
       "      <th>1</th>\n",
       "      <td>BEZPP</td>\n",
       "      <td>2</td>\n",
       "      <td>2</td>\n",
       "      <td>[trávit, komora, Čech, republika, lobby, mluvit]</td>\n",
       "      <td>[potravinářský, komora, český, republika, lobb...</td>\n",
       "      <td>True</td>\n",
       "      <td>False</td>\n",
       "      <td>6</td>\n",
       "    </tr>\n",
       "    <tr>\n",
       "      <th>2</th>\n",
       "      <td>BEZPP</td>\n",
       "      <td>1</td>\n",
       "      <td>2</td>\n",
       "      <td>[umět, dirigovat]</td>\n",
       "      <td>[umělec, dirigent]</td>\n",
       "      <td>True</td>\n",
       "      <td>False</td>\n",
       "      <td>2</td>\n",
       "    </tr>\n",
       "    <tr>\n",
       "      <th>3</th>\n",
       "      <td>BEZPP</td>\n",
       "      <td>2</td>\n",
       "      <td>2</td>\n",
       "      <td>[umět, bát]</td>\n",
       "      <td>[umělec, básnířka]</td>\n",
       "      <td>True</td>\n",
       "      <td>False</td>\n",
       "      <td>2</td>\n",
       "    </tr>\n",
       "    <tr>\n",
       "      <th>4</th>\n",
       "      <td>BEZPP</td>\n",
       "      <td>2</td>\n",
       "      <td>2</td>\n",
       "      <td>[mluvit, rožnov, radhošten, umět, karta, tvořit]</td>\n",
       "      <td>[mluvčí, rožnov, radhošten, umělec, grafička, ...</td>\n",
       "      <td>True</td>\n",
       "      <td>False</td>\n",
       "      <td>6</td>\n",
       "    </tr>\n",
       "    <tr>\n",
       "      <th>5</th>\n",
       "      <td>BEZPP</td>\n",
       "      <td>1</td>\n",
       "      <td>2</td>\n",
       "      <td>[hrát, umět]</td>\n",
       "      <td>[herec, umělec]</td>\n",
       "      <td>True</td>\n",
       "      <td>False</td>\n",
       "      <td>2</td>\n",
       "    </tr>\n",
       "  </tbody>\n",
       "</table>\n",
       "</div>"
      ],
      "text/plain": [
       "  party_name  gender  is_foreigner  \\\n",
       "1      BEZPP       2             2   \n",
       "2      BEZPP       1             2   \n",
       "3      BEZPP       2             2   \n",
       "4      BEZPP       2             2   \n",
       "5      BEZPP       1             2   \n",
       "\n",
       "                                              roots  \\\n",
       "1  [trávit, komora, Čech, republika, lobby, mluvit]   \n",
       "2                                 [umět, dirigovat]   \n",
       "3                                       [umět, bát]   \n",
       "4  [mluvit, rožnov, radhošten, umět, karta, tvořit]   \n",
       "5                                      [hrát, umět]   \n",
       "\n",
       "                                          lemmatized  is_labeled  is_pol  \\\n",
       "1  [potravinářský, komora, český, republika, lobb...        True   False   \n",
       "2                                 [umělec, dirigent]        True   False   \n",
       "3                                 [umělec, básnířka]        True   False   \n",
       "4  [mluvčí, rožnov, radhošten, umělec, grafička, ...        True   False   \n",
       "5                                    [herec, umělec]        True   False   \n",
       "\n",
       "   roots_n  \n",
       "1        6  \n",
       "2        2  \n",
       "3        2  \n",
       "4        6  \n",
       "5        2  "
      ]
     },
     "metadata": {},
     "output_type": "display_data"
    },
    {
     "name": "stdout",
     "output_type": "stream",
     "text": [
      "63939\n"
     ]
    }
   ],
   "source": [
    "non_politic = df.loc[~df.is_pol,:].copy()\n",
    "display(non_politic.head())\n",
    "print(len(non_politic))"
   ]
  },
  {
   "cell_type": "code",
   "execution_count": 14,
   "id": "c234db82-2c37-4b39-bc2d-a6bf543a7e05",
   "metadata": {
    "ExecuteTime": {
     "end_time": "2023-11-06T09:23:25.034457766Z",
     "start_time": "2023-11-06T09:22:59.016636102Z"
    }
   },
   "outputs": [
    {
     "data": {
      "text/html": [
       "<div>\n",
       "<style scoped>\n",
       "    .dataframe tbody tr th:only-of-type {\n",
       "        vertical-align: middle;\n",
       "    }\n",
       "\n",
       "    .dataframe tbody tr th {\n",
       "        vertical-align: top;\n",
       "    }\n",
       "\n",
       "    .dataframe thead th {\n",
       "        text-align: right;\n",
       "    }\n",
       "</style>\n",
       "<table border=\"1\" class=\"dataframe\">\n",
       "  <thead>\n",
       "    <tr style=\"text-align: right;\">\n",
       "      <th></th>\n",
       "      <th>aaa</th>\n",
       "      <th>abertam</th>\n",
       "      <th>absolvovat</th>\n",
       "      <th>absorbovat</th>\n",
       "      <th>academ</th>\n",
       "      <th>academia</th>\n",
       "      <th>accol</th>\n",
       "      <th>acidum</th>\n",
       "      <th>ackermann</th>\n",
       "      <th>acomware</th>\n",
       "      <th>...</th>\n",
       "      <th>žula</th>\n",
       "      <th>župa</th>\n",
       "      <th>žurnál</th>\n",
       "      <th>žába</th>\n",
       "      <th>žák</th>\n",
       "      <th>žár</th>\n",
       "      <th>žít</th>\n",
       "      <th>žďár</th>\n",
       "      <th>žďársek</th>\n",
       "      <th>žďársko</th>\n",
       "    </tr>\n",
       "  </thead>\n",
       "  <tbody>\n",
       "    <tr>\n",
       "      <th>1</th>\n",
       "      <td>0</td>\n",
       "      <td>0</td>\n",
       "      <td>0</td>\n",
       "      <td>0</td>\n",
       "      <td>0</td>\n",
       "      <td>0</td>\n",
       "      <td>0</td>\n",
       "      <td>0</td>\n",
       "      <td>0</td>\n",
       "      <td>0</td>\n",
       "      <td>...</td>\n",
       "      <td>0</td>\n",
       "      <td>0</td>\n",
       "      <td>0</td>\n",
       "      <td>0</td>\n",
       "      <td>0</td>\n",
       "      <td>0</td>\n",
       "      <td>0</td>\n",
       "      <td>0</td>\n",
       "      <td>0</td>\n",
       "      <td>0</td>\n",
       "    </tr>\n",
       "    <tr>\n",
       "      <th>2</th>\n",
       "      <td>0</td>\n",
       "      <td>0</td>\n",
       "      <td>0</td>\n",
       "      <td>0</td>\n",
       "      <td>0</td>\n",
       "      <td>0</td>\n",
       "      <td>0</td>\n",
       "      <td>0</td>\n",
       "      <td>0</td>\n",
       "      <td>0</td>\n",
       "      <td>...</td>\n",
       "      <td>0</td>\n",
       "      <td>0</td>\n",
       "      <td>0</td>\n",
       "      <td>0</td>\n",
       "      <td>0</td>\n",
       "      <td>0</td>\n",
       "      <td>0</td>\n",
       "      <td>0</td>\n",
       "      <td>0</td>\n",
       "      <td>0</td>\n",
       "    </tr>\n",
       "    <tr>\n",
       "      <th>3</th>\n",
       "      <td>0</td>\n",
       "      <td>0</td>\n",
       "      <td>0</td>\n",
       "      <td>0</td>\n",
       "      <td>0</td>\n",
       "      <td>0</td>\n",
       "      <td>0</td>\n",
       "      <td>0</td>\n",
       "      <td>0</td>\n",
       "      <td>0</td>\n",
       "      <td>...</td>\n",
       "      <td>0</td>\n",
       "      <td>0</td>\n",
       "      <td>0</td>\n",
       "      <td>0</td>\n",
       "      <td>0</td>\n",
       "      <td>0</td>\n",
       "      <td>0</td>\n",
       "      <td>0</td>\n",
       "      <td>0</td>\n",
       "      <td>0</td>\n",
       "    </tr>\n",
       "    <tr>\n",
       "      <th>4</th>\n",
       "      <td>0</td>\n",
       "      <td>0</td>\n",
       "      <td>0</td>\n",
       "      <td>0</td>\n",
       "      <td>0</td>\n",
       "      <td>0</td>\n",
       "      <td>0</td>\n",
       "      <td>0</td>\n",
       "      <td>0</td>\n",
       "      <td>0</td>\n",
       "      <td>...</td>\n",
       "      <td>0</td>\n",
       "      <td>0</td>\n",
       "      <td>0</td>\n",
       "      <td>0</td>\n",
       "      <td>0</td>\n",
       "      <td>0</td>\n",
       "      <td>0</td>\n",
       "      <td>0</td>\n",
       "      <td>0</td>\n",
       "      <td>0</td>\n",
       "    </tr>\n",
       "    <tr>\n",
       "      <th>5</th>\n",
       "      <td>0</td>\n",
       "      <td>0</td>\n",
       "      <td>0</td>\n",
       "      <td>0</td>\n",
       "      <td>0</td>\n",
       "      <td>0</td>\n",
       "      <td>0</td>\n",
       "      <td>0</td>\n",
       "      <td>0</td>\n",
       "      <td>0</td>\n",
       "      <td>...</td>\n",
       "      <td>0</td>\n",
       "      <td>0</td>\n",
       "      <td>0</td>\n",
       "      <td>0</td>\n",
       "      <td>0</td>\n",
       "      <td>0</td>\n",
       "      <td>0</td>\n",
       "      <td>0</td>\n",
       "      <td>0</td>\n",
       "      <td>0</td>\n",
       "    </tr>\n",
       "  </tbody>\n",
       "</table>\n",
       "<p>5 rows × 6032 columns</p>\n",
       "</div>"
      ],
      "text/plain": [
       "   aaa  abertam  absolvovat  absorbovat  academ  academia  accol  acidum  \\\n",
       "1    0        0           0           0       0         0      0       0   \n",
       "2    0        0           0           0       0         0      0       0   \n",
       "3    0        0           0           0       0         0      0       0   \n",
       "4    0        0           0           0       0         0      0       0   \n",
       "5    0        0           0           0       0         0      0       0   \n",
       "\n",
       "   ackermann  acomware  ...  žula  župa  žurnál  žába  žák  žár  žít  žďár  \\\n",
       "1          0         0  ...     0     0       0     0    0    0    0     0   \n",
       "2          0         0  ...     0     0       0     0    0    0    0     0   \n",
       "3          0         0  ...     0     0       0     0    0    0    0     0   \n",
       "4          0         0  ...     0     0       0     0    0    0    0     0   \n",
       "5          0         0  ...     0     0       0     0    0    0    0     0   \n",
       "\n",
       "   žďársek  žďársko  \n",
       "1        0        0  \n",
       "2        0        0  \n",
       "3        0        0  \n",
       "4        0        0  \n",
       "5        0        0  \n",
       "\n",
       "[5 rows x 6032 columns]"
      ]
     },
     "metadata": {},
     "output_type": "display_data"
    }
   ],
   "source": [
    "non_politic_bag = non_politic_bag.loc[:, non_politic_bag.sum() > 1]  \n",
    "display(non_politic_bag.head())"
   ]
  },
  {
   "cell_type": "code",
   "execution_count": 15,
   "id": "eb891a80-3772-4aff-a290-1c6641c8c040",
   "metadata": {
    "ExecuteTime": {
     "start_time": "2023-11-06T09:23:00.032025231Z"
    },
    "is_executing": true
   },
   "outputs": [
    {
     "name": "stdout",
     "output_type": "stream",
     "text": [
      "INFO: Pandarallel will run on 8 workers.\n",
      "INFO: Pandarallel will use Memory file system to transfer data between the main process and workers.\n"
     ]
    }
   ],
   "source": [
    "from pandarallel import pandarallel\n",
    "pandarallel.initialize()\n",
    "non_politic['useful roots'] = non_politic_bag.parallel_apply(lambda row: row.sum(), axis=1)"
   ]
  },
  {
   "cell_type": "code",
   "execution_count": 16,
   "id": "c663f573-3b7b-42a8-8e3a-b56b3f8e24ba",
   "metadata": {
    "ExecuteTime": {
     "end_time": "2023-10-15T18:06:24.087451337Z",
     "start_time": "2023-10-15T18:06:24.086646608Z"
    }
   },
   "outputs": [
    {
     "data": {
      "text/html": [
       "<div>\n",
       "<style scoped>\n",
       "    .dataframe tbody tr th:only-of-type {\n",
       "        vertical-align: middle;\n",
       "    }\n",
       "\n",
       "    .dataframe tbody tr th {\n",
       "        vertical-align: top;\n",
       "    }\n",
       "\n",
       "    .dataframe thead th {\n",
       "        text-align: right;\n",
       "    }\n",
       "</style>\n",
       "<table border=\"1\" class=\"dataframe\">\n",
       "  <thead>\n",
       "    <tr style=\"text-align: right;\">\n",
       "      <th></th>\n",
       "      <th>party_name</th>\n",
       "      <th>gender</th>\n",
       "      <th>is_foreigner</th>\n",
       "      <th>roots</th>\n",
       "      <th>lemmatized</th>\n",
       "      <th>is_labeled</th>\n",
       "      <th>is_pol</th>\n",
       "      <th>roots_n</th>\n",
       "      <th>useful roots</th>\n",
       "    </tr>\n",
       "  </thead>\n",
       "  <tbody>\n",
       "    <tr>\n",
       "      <th>165</th>\n",
       "      <td>BEZPP</td>\n",
       "      <td>1</td>\n",
       "      <td>2</td>\n",
       "      <td>[x, a]</td>\n",
       "      <td>[x, a]</td>\n",
       "      <td>False</td>\n",
       "      <td>False</td>\n",
       "      <td>2</td>\n",
       "      <td>0</td>\n",
       "    </tr>\n",
       "    <tr>\n",
       "      <th>4065</th>\n",
       "      <td>BEZPP</td>\n",
       "      <td>1</td>\n",
       "      <td>2</td>\n",
       "      <td>[procedura]</td>\n",
       "      <td>[procedura]</td>\n",
       "      <td>False</td>\n",
       "      <td>False</td>\n",
       "      <td>1</td>\n",
       "      <td>0</td>\n",
       "    </tr>\n",
       "    <tr>\n",
       "      <th>14794</th>\n",
       "      <td>BEZPP</td>\n",
       "      <td>2</td>\n",
       "      <td>2</td>\n",
       "      <td>[]</td>\n",
       "      <td>[]</td>\n",
       "      <td>False</td>\n",
       "      <td>False</td>\n",
       "      <td>0</td>\n",
       "      <td>0</td>\n",
       "    </tr>\n",
       "    <tr>\n",
       "      <th>20368</th>\n",
       "      <td>BEZPP</td>\n",
       "      <td>1</td>\n",
       "      <td>2</td>\n",
       "      <td>[jihočech]</td>\n",
       "      <td>[jihočech]</td>\n",
       "      <td>False</td>\n",
       "      <td>False</td>\n",
       "      <td>1</td>\n",
       "      <td>0</td>\n",
       "    </tr>\n",
       "    <tr>\n",
       "      <th>24819</th>\n",
       "      <td>BEZPP</td>\n",
       "      <td>1</td>\n",
       "      <td>2</td>\n",
       "      <td>[čistéměsto]</td>\n",
       "      <td>[čistéměsto]</td>\n",
       "      <td>False</td>\n",
       "      <td>False</td>\n",
       "      <td>1</td>\n",
       "      <td>0</td>\n",
       "    </tr>\n",
       "    <tr>\n",
       "      <th>27623</th>\n",
       "      <td>BEZPP</td>\n",
       "      <td>1</td>\n",
       "      <td>2</td>\n",
       "      <td>[land]</td>\n",
       "      <td>[land]</td>\n",
       "      <td>False</td>\n",
       "      <td>False</td>\n",
       "      <td>1</td>\n",
       "      <td>0</td>\n",
       "    </tr>\n",
       "    <tr>\n",
       "      <th>32001</th>\n",
       "      <td>BEZPP</td>\n",
       "      <td>2</td>\n",
       "      <td>2</td>\n",
       "      <td>[samosoud]</td>\n",
       "      <td>[samosoudkyně]</td>\n",
       "      <td>False</td>\n",
       "      <td>False</td>\n",
       "      <td>1</td>\n",
       "      <td>0</td>\n",
       "    </tr>\n",
       "    <tr>\n",
       "      <th>33516</th>\n",
       "      <td>BEZPP</td>\n",
       "      <td>1</td>\n",
       "      <td>2</td>\n",
       "      <td>[kajakářsport]</td>\n",
       "      <td>[kajakářsport]</td>\n",
       "      <td>False</td>\n",
       "      <td>False</td>\n",
       "      <td>1</td>\n",
       "      <td>0</td>\n",
       "    </tr>\n",
       "    <tr>\n",
       "      <th>36838</th>\n",
       "      <td>BEZPP</td>\n",
       "      <td>2</td>\n",
       "      <td>2</td>\n",
       "      <td>[dlouhovlasý]</td>\n",
       "      <td>[dlouhovláska]</td>\n",
       "      <td>False</td>\n",
       "      <td>False</td>\n",
       "      <td>1</td>\n",
       "      <td>0</td>\n",
       "    </tr>\n",
       "    <tr>\n",
       "      <th>66373</th>\n",
       "      <td>BEZPP</td>\n",
       "      <td>1</td>\n",
       "      <td>2</td>\n",
       "      <td>[]</td>\n",
       "      <td>[]</td>\n",
       "      <td>False</td>\n",
       "      <td>False</td>\n",
       "      <td>0</td>\n",
       "      <td>0</td>\n",
       "    </tr>\n",
       "    <tr>\n",
       "      <th>71044</th>\n",
       "      <td>BEZPP</td>\n",
       "      <td>1</td>\n",
       "      <td>2</td>\n",
       "      <td>[]</td>\n",
       "      <td>[]</td>\n",
       "      <td>False</td>\n",
       "      <td>False</td>\n",
       "      <td>0</td>\n",
       "      <td>0</td>\n",
       "    </tr>\n",
       "    <tr>\n",
       "      <th>73557</th>\n",
       "      <td>BEZPP</td>\n",
       "      <td>2</td>\n",
       "      <td>2</td>\n",
       "      <td>[reset]</td>\n",
       "      <td>[reset]</td>\n",
       "      <td>False</td>\n",
       "      <td>False</td>\n",
       "      <td>1</td>\n",
       "      <td>0</td>\n",
       "    </tr>\n",
       "  </tbody>\n",
       "</table>\n",
       "</div>"
      ],
      "text/plain": [
       "      party_name  gender  is_foreigner           roots      lemmatized  \\\n",
       "165        BEZPP       1             2          [x, a]          [x, a]   \n",
       "4065       BEZPP       1             2     [procedura]     [procedura]   \n",
       "14794      BEZPP       2             2              []              []   \n",
       "20368      BEZPP       1             2      [jihočech]      [jihočech]   \n",
       "24819      BEZPP       1             2    [čistéměsto]    [čistéměsto]   \n",
       "27623      BEZPP       1             2          [land]          [land]   \n",
       "32001      BEZPP       2             2      [samosoud]  [samosoudkyně]   \n",
       "33516      BEZPP       1             2  [kajakářsport]  [kajakářsport]   \n",
       "36838      BEZPP       2             2   [dlouhovlasý]  [dlouhovláska]   \n",
       "66373      BEZPP       1             2              []              []   \n",
       "71044      BEZPP       1             2              []              []   \n",
       "73557      BEZPP       2             2         [reset]         [reset]   \n",
       "\n",
       "       is_labeled  is_pol  roots_n  useful roots  \n",
       "165         False   False        2             0  \n",
       "4065        False   False        1             0  \n",
       "14794       False   False        0             0  \n",
       "20368       False   False        1             0  \n",
       "24819       False   False        1             0  \n",
       "27623       False   False        1             0  \n",
       "32001       False   False        1             0  \n",
       "33516       False   False        1             0  \n",
       "36838       False   False        1             0  \n",
       "66373       False   False        0             0  \n",
       "71044       False   False        0             0  \n",
       "73557       False   False        1             0  "
      ]
     },
     "execution_count": 16,
     "metadata": {},
     "output_type": "execute_result"
    }
   ],
   "source": [
    "non_politic[non_politic['useful roots'] == 0]"
   ]
  },
  {
   "cell_type": "code",
   "execution_count": 17,
   "id": "35307128-78f1-4f0f-b27e-e183c031e711",
   "metadata": {
    "ExecuteTime": {
     "end_time": "2023-10-15T18:06:24.088903891Z",
     "start_time": "2023-10-15T18:06:24.086943444Z"
    }
   },
   "outputs": [
    {
     "data": {
      "text/html": [
       "<div>\n",
       "<style scoped>\n",
       "    .dataframe tbody tr th:only-of-type {\n",
       "        vertical-align: middle;\n",
       "    }\n",
       "\n",
       "    .dataframe tbody tr th {\n",
       "        vertical-align: top;\n",
       "    }\n",
       "\n",
       "    .dataframe thead th {\n",
       "        text-align: right;\n",
       "    }\n",
       "</style>\n",
       "<table border=\"1\" class=\"dataframe\">\n",
       "  <thead>\n",
       "    <tr style=\"text-align: right;\">\n",
       "      <th></th>\n",
       "      <th>party_name</th>\n",
       "      <th>gender</th>\n",
       "      <th>is_foreigner</th>\n",
       "      <th>roots</th>\n",
       "      <th>lemmatized</th>\n",
       "      <th>is_labeled</th>\n",
       "      <th>is_pol</th>\n",
       "      <th>roots_n</th>\n",
       "      <th>useful roots</th>\n",
       "    </tr>\n",
       "  </thead>\n",
       "  <tbody>\n",
       "    <tr>\n",
       "      <th>37</th>\n",
       "      <td>BEZPP</td>\n",
       "      <td>1</td>\n",
       "      <td>2</td>\n",
       "      <td>[chránit]</td>\n",
       "      <td>[záchranář]</td>\n",
       "      <td>True</td>\n",
       "      <td>False</td>\n",
       "      <td>1</td>\n",
       "      <td>1</td>\n",
       "    </tr>\n",
       "    <tr>\n",
       "      <th>198</th>\n",
       "      <td>BEZPP</td>\n",
       "      <td>1</td>\n",
       "      <td>2</td>\n",
       "      <td>[lori, mluvit]</td>\n",
       "      <td>[lori, mluvčí]</td>\n",
       "      <td>True</td>\n",
       "      <td>False</td>\n",
       "      <td>2</td>\n",
       "      <td>1</td>\n",
       "    </tr>\n",
       "    <tr>\n",
       "      <th>219</th>\n",
       "      <td>BEZPP</td>\n",
       "      <td>1</td>\n",
       "      <td>2</td>\n",
       "      <td>[psychopatie, vzít]</td>\n",
       "      <td>[psychopat, odborník]</td>\n",
       "      <td>True</td>\n",
       "      <td>False</td>\n",
       "      <td>2</td>\n",
       "      <td>1</td>\n",
       "    </tr>\n",
       "    <tr>\n",
       "      <th>298</th>\n",
       "      <td>BEZPP</td>\n",
       "      <td>2</td>\n",
       "      <td>2</td>\n",
       "      <td>[umět, umět]</td>\n",
       "      <td>[umělkyně, umělec]</td>\n",
       "      <td>True</td>\n",
       "      <td>False</td>\n",
       "      <td>2</td>\n",
       "      <td>1</td>\n",
       "    </tr>\n",
       "    <tr>\n",
       "      <th>338</th>\n",
       "      <td>BEZPP</td>\n",
       "      <td>1</td>\n",
       "      <td>2</td>\n",
       "      <td>[soudit]</td>\n",
       "      <td>[soudce]</td>\n",
       "      <td>True</td>\n",
       "      <td>False</td>\n",
       "      <td>1</td>\n",
       "      <td>1</td>\n",
       "    </tr>\n",
       "    <tr>\n",
       "      <th>...</th>\n",
       "      <td>...</td>\n",
       "      <td>...</td>\n",
       "      <td>...</td>\n",
       "      <td>...</td>\n",
       "      <td>...</td>\n",
       "      <td>...</td>\n",
       "      <td>...</td>\n",
       "      <td>...</td>\n",
       "      <td>...</td>\n",
       "    </tr>\n",
       "    <tr>\n",
       "      <th>81505</th>\n",
       "      <td>BEZPP</td>\n",
       "      <td>1</td>\n",
       "      <td>2</td>\n",
       "      <td>[fundraiser]</td>\n",
       "      <td>[fundraiser]</td>\n",
       "      <td>False</td>\n",
       "      <td>False</td>\n",
       "      <td>1</td>\n",
       "      <td>1</td>\n",
       "    </tr>\n",
       "    <tr>\n",
       "      <th>81572</th>\n",
       "      <td>BEZPP</td>\n",
       "      <td>2</td>\n",
       "      <td>2</td>\n",
       "      <td>[stroj]</td>\n",
       "      <td>[strojovna]</td>\n",
       "      <td>False</td>\n",
       "      <td>False</td>\n",
       "      <td>1</td>\n",
       "      <td>1</td>\n",
       "    </tr>\n",
       "    <tr>\n",
       "      <th>81577</th>\n",
       "      <td>BEZPP</td>\n",
       "      <td>2</td>\n",
       "      <td>2</td>\n",
       "      <td>[advokát, advokát]</td>\n",
       "      <td>[advokát, advokátka]</td>\n",
       "      <td>True</td>\n",
       "      <td>False</td>\n",
       "      <td>2</td>\n",
       "      <td>1</td>\n",
       "    </tr>\n",
       "    <tr>\n",
       "      <th>81589</th>\n",
       "      <td>BEZPP</td>\n",
       "      <td>2</td>\n",
       "      <td>2</td>\n",
       "      <td>[nový, nový]</td>\n",
       "      <td>[novinář, novinářka]</td>\n",
       "      <td>True</td>\n",
       "      <td>False</td>\n",
       "      <td>2</td>\n",
       "      <td>1</td>\n",
       "    </tr>\n",
       "    <tr>\n",
       "      <th>81613</th>\n",
       "      <td>BEZPP</td>\n",
       "      <td>1</td>\n",
       "      <td>2</td>\n",
       "      <td>[psát]</td>\n",
       "      <td>[popis]</td>\n",
       "      <td>False</td>\n",
       "      <td>False</td>\n",
       "      <td>1</td>\n",
       "      <td>1</td>\n",
       "    </tr>\n",
       "  </tbody>\n",
       "</table>\n",
       "<p>1372 rows × 9 columns</p>\n",
       "</div>"
      ],
      "text/plain": [
       "      party_name  gender  is_foreigner                roots  \\\n",
       "37         BEZPP       1             2            [chránit]   \n",
       "198        BEZPP       1             2       [lori, mluvit]   \n",
       "219        BEZPP       1             2  [psychopatie, vzít]   \n",
       "298        BEZPP       2             2         [umět, umět]   \n",
       "338        BEZPP       1             2             [soudit]   \n",
       "...          ...     ...           ...                  ...   \n",
       "81505      BEZPP       1             2         [fundraiser]   \n",
       "81572      BEZPP       2             2              [stroj]   \n",
       "81577      BEZPP       2             2   [advokát, advokát]   \n",
       "81589      BEZPP       2             2         [nový, nový]   \n",
       "81613      BEZPP       1             2               [psát]   \n",
       "\n",
       "                  lemmatized  is_labeled  is_pol  roots_n  useful roots  \n",
       "37               [záchranář]        True   False        1             1  \n",
       "198           [lori, mluvčí]        True   False        2             1  \n",
       "219    [psychopat, odborník]        True   False        2             1  \n",
       "298       [umělkyně, umělec]        True   False        2             1  \n",
       "338                 [soudce]        True   False        1             1  \n",
       "...                      ...         ...     ...      ...           ...  \n",
       "81505           [fundraiser]       False   False        1             1  \n",
       "81572            [strojovna]       False   False        1             1  \n",
       "81577   [advokát, advokátka]        True   False        2             1  \n",
       "81589   [novinář, novinářka]        True   False        2             1  \n",
       "81613                [popis]       False   False        1             1  \n",
       "\n",
       "[1372 rows x 9 columns]"
      ]
     },
     "execution_count": 17,
     "metadata": {},
     "output_type": "execute_result"
    }
   ],
   "source": [
    "non_politic[non_politic['useful roots'] == 1]"
   ]
  },
  {
   "cell_type": "code",
   "execution_count": 18,
   "id": "c3abd76a-eb34-442c-afef-f7b39238b43d",
   "metadata": {
    "ExecuteTime": {
     "end_time": "2023-10-15T18:06:24.331648007Z",
     "start_time": "2023-10-15T18:06:24.087161503Z"
    }
   },
   "outputs": [
    {
     "data": {
      "image/png": "[encoded data removed]",
      "text/plain": [
       "<Figure size 2000x1500 with 1 Axes>"
      ]
     },
     "metadata": {},
     "output_type": "display_data"
    }
   ],
   "source": [
    "plt.figure(figsize=(20, 15))\n",
    "indexes = list(range(0, int(non_politic['useful roots'].max() + 1)))\n",
    "stuff = [non_politic['useful roots'][non_politic['useful roots'] == x].count() for x in indexes]\n",
    "plt.bar(indexes, stuff)\n",
    "plt.title('Number of people per usefull roots')\n",
    "plt.ylabel('People')\n",
    "plt.xlabel('usefull roots')\n",
    "plt.xticks(list(range(40)))\n",
    "plt.show()"
   ]
  },
  {
   "cell_type": "code",
   "execution_count": 19,
   "id": "fe95c260-49ce-4161-98e2-8e61e8179a87",
   "metadata": {
    "ExecuteTime": {
     "end_time": "2023-10-15T18:06:24.583744279Z",
     "start_time": "2023-10-15T18:06:24.333541998Z"
    }
   },
   "outputs": [
    {
     "data": {
      "text/html": [
       "<div>\n",
       "<style scoped>\n",
       "    .dataframe tbody tr th:only-of-type {\n",
       "        vertical-align: middle;\n",
       "    }\n",
       "\n",
       "    .dataframe tbody tr th {\n",
       "        vertical-align: top;\n",
       "    }\n",
       "\n",
       "    .dataframe thead th {\n",
       "        text-align: right;\n",
       "    }\n",
       "</style>\n",
       "<table border=\"1\" class=\"dataframe\">\n",
       "  <thead>\n",
       "    <tr style=\"text-align: right;\">\n",
       "      <th></th>\n",
       "      <th>party_name</th>\n",
       "      <th>gender</th>\n",
       "      <th>is_foreigner</th>\n",
       "      <th>roots</th>\n",
       "      <th>lemmatized</th>\n",
       "      <th>is_labeled</th>\n",
       "      <th>is_pol</th>\n",
       "      <th>roots_n</th>\n",
       "      <th>useful roots</th>\n",
       "    </tr>\n",
       "  </thead>\n",
       "  <tbody>\n",
       "    <tr>\n",
       "      <th>1</th>\n",
       "      <td>BEZPP</td>\n",
       "      <td>2</td>\n",
       "      <td>2</td>\n",
       "      <td>[trávit, komora, Čech, republika, lobby, mluvit]</td>\n",
       "      <td>[potravinářský, komora, český, republika, lobb...</td>\n",
       "      <td>True</td>\n",
       "      <td>False</td>\n",
       "      <td>6</td>\n",
       "      <td>6</td>\n",
       "    </tr>\n",
       "    <tr>\n",
       "      <th>2</th>\n",
       "      <td>BEZPP</td>\n",
       "      <td>1</td>\n",
       "      <td>2</td>\n",
       "      <td>[umět, dirigovat]</td>\n",
       "      <td>[umělec, dirigent]</td>\n",
       "      <td>True</td>\n",
       "      <td>False</td>\n",
       "      <td>2</td>\n",
       "      <td>2</td>\n",
       "    </tr>\n",
       "    <tr>\n",
       "      <th>3</th>\n",
       "      <td>BEZPP</td>\n",
       "      <td>2</td>\n",
       "      <td>2</td>\n",
       "      <td>[umět, bát]</td>\n",
       "      <td>[umělec, básnířka]</td>\n",
       "      <td>True</td>\n",
       "      <td>False</td>\n",
       "      <td>2</td>\n",
       "      <td>2</td>\n",
       "    </tr>\n",
       "    <tr>\n",
       "      <th>4</th>\n",
       "      <td>BEZPP</td>\n",
       "      <td>2</td>\n",
       "      <td>2</td>\n",
       "      <td>[mluvit, rožnov, radhošten, umět, karta, tvořit]</td>\n",
       "      <td>[mluvčí, rožnov, radhošten, umělec, grafička, ...</td>\n",
       "      <td>True</td>\n",
       "      <td>False</td>\n",
       "      <td>6</td>\n",
       "      <td>6</td>\n",
       "    </tr>\n",
       "    <tr>\n",
       "      <th>5</th>\n",
       "      <td>BEZPP</td>\n",
       "      <td>1</td>\n",
       "      <td>2</td>\n",
       "      <td>[hrát, umět]</td>\n",
       "      <td>[herec, umělec]</td>\n",
       "      <td>True</td>\n",
       "      <td>False</td>\n",
       "      <td>2</td>\n",
       "      <td>2</td>\n",
       "    </tr>\n",
       "    <tr>\n",
       "      <th>...</th>\n",
       "      <td>...</td>\n",
       "      <td>...</td>\n",
       "      <td>...</td>\n",
       "      <td>...</td>\n",
       "      <td>...</td>\n",
       "      <td>...</td>\n",
       "      <td>...</td>\n",
       "      <td>...</td>\n",
       "      <td>...</td>\n",
       "    </tr>\n",
       "    <tr>\n",
       "      <th>81619</th>\n",
       "      <td>BEZPP</td>\n",
       "      <td>2</td>\n",
       "      <td>2</td>\n",
       "      <td>[vzít, řídit, gymnázium]</td>\n",
       "      <td>[odborník, ředitelka, gymnázium]</td>\n",
       "      <td>True</td>\n",
       "      <td>False</td>\n",
       "      <td>3</td>\n",
       "      <td>3</td>\n",
       "    </tr>\n",
       "    <tr>\n",
       "      <th>81620</th>\n",
       "      <td>BEZPP</td>\n",
       "      <td>1</td>\n",
       "      <td>2</td>\n",
       "      <td>[sport, basebal]</td>\n",
       "      <td>[sport, baseballista]</td>\n",
       "      <td>True</td>\n",
       "      <td>False</td>\n",
       "      <td>2</td>\n",
       "      <td>2</td>\n",
       "    </tr>\n",
       "    <tr>\n",
       "      <th>81621</th>\n",
       "      <td>BEZPP</td>\n",
       "      <td>1</td>\n",
       "      <td>2</td>\n",
       "      <td>[jednat, spolu, agrese, spol, r, sanovat, podn...</td>\n",
       "      <td>[jednatel, společnost, agrese, spol, r, asanač...</td>\n",
       "      <td>True</td>\n",
       "      <td>False</td>\n",
       "      <td>9</td>\n",
       "      <td>8</td>\n",
       "    </tr>\n",
       "    <tr>\n",
       "      <th>81622</th>\n",
       "      <td>BEZPP</td>\n",
       "      <td>1</td>\n",
       "      <td>2</td>\n",
       "      <td>[sport, kužel, prezentovat]</td>\n",
       "      <td>[sport, kuželka, reprezentace]</td>\n",
       "      <td>True</td>\n",
       "      <td>False</td>\n",
       "      <td>3</td>\n",
       "      <td>3</td>\n",
       "    </tr>\n",
       "    <tr>\n",
       "      <th>81623</th>\n",
       "      <td>BEZPP</td>\n",
       "      <td>1</td>\n",
       "      <td>2</td>\n",
       "      <td>[head, of, strategic, communication, and, publ...</td>\n",
       "      <td>[head, of, strategic, communication, and, publ...</td>\n",
       "      <td>True</td>\n",
       "      <td>False</td>\n",
       "      <td>8</td>\n",
       "      <td>8</td>\n",
       "    </tr>\n",
       "  </tbody>\n",
       "</table>\n",
       "<p>58351 rows × 9 columns</p>\n",
       "</div>"
      ],
      "text/plain": [
       "      party_name  gender  is_foreigner  \\\n",
       "1          BEZPP       2             2   \n",
       "2          BEZPP       1             2   \n",
       "3          BEZPP       2             2   \n",
       "4          BEZPP       2             2   \n",
       "5          BEZPP       1             2   \n",
       "...          ...     ...           ...   \n",
       "81619      BEZPP       2             2   \n",
       "81620      BEZPP       1             2   \n",
       "81621      BEZPP       1             2   \n",
       "81622      BEZPP       1             2   \n",
       "81623      BEZPP       1             2   \n",
       "\n",
       "                                                   roots  \\\n",
       "1       [trávit, komora, Čech, republika, lobby, mluvit]   \n",
       "2                                      [umět, dirigovat]   \n",
       "3                                            [umět, bát]   \n",
       "4       [mluvit, rožnov, radhošten, umět, karta, tvořit]   \n",
       "5                                           [hrát, umět]   \n",
       "...                                                  ...   \n",
       "81619                           [vzít, řídit, gymnázium]   \n",
       "81620                                   [sport, basebal]   \n",
       "81621  [jednat, spolu, agrese, spol, r, sanovat, podn...   \n",
       "81622                        [sport, kužel, prezentovat]   \n",
       "81623  [head, of, strategic, communication, and, publ...   \n",
       "\n",
       "                                              lemmatized  is_labeled  is_pol  \\\n",
       "1      [potravinářský, komora, český, republika, lobb...        True   False   \n",
       "2                                     [umělec, dirigent]        True   False   \n",
       "3                                     [umělec, básnířka]        True   False   \n",
       "4      [mluvčí, rožnov, radhošten, umělec, grafička, ...        True   False   \n",
       "5                                        [herec, umělec]        True   False   \n",
       "...                                                  ...         ...     ...   \n",
       "81619                   [odborník, ředitelka, gymnázium]        True   False   \n",
       "81620                              [sport, baseballista]        True   False   \n",
       "81621  [jednatel, společnost, agrese, spol, r, asanač...        True   False   \n",
       "81622                     [sport, kuželka, reprezentace]        True   False   \n",
       "81623  [head, of, strategic, communication, and, publ...        True   False   \n",
       "\n",
       "       roots_n  useful roots  \n",
       "1            6             6  \n",
       "2            2             2  \n",
       "3            2             2  \n",
       "4            6             6  \n",
       "5            2             2  \n",
       "...        ...           ...  \n",
       "81619        3             3  \n",
       "81620        2             2  \n",
       "81621        9             8  \n",
       "81622        3             3  \n",
       "81623        8             8  \n",
       "\n",
       "[58351 rows x 9 columns]"
      ]
     },
     "metadata": {},
     "output_type": "display_data"
    },
    {
     "data": {
      "text/plain": [
       "Index(['party_name', 'gender', 'is_foreigner', 'roots', 'lemmatized',\n",
       "       'is_labeled', 'is_pol', 'roots_n', 'useful roots'],\n",
       "      dtype='object')"
      ]
     },
     "metadata": {},
     "output_type": "display_data"
    },
    {
     "name": "stdout",
     "output_type": "stream",
     "text": [
      "[0, 1146, 15784, 10656, 9098, 7437, 5040, 3260, 1981, 1301, 798, 588, 361, 257, 177, 135, 100, 66, 51, 24, 28, 14, 11, 8, 5, 8, 3, 4, 2, 1, 0, 2, 1, 2, 0, 0, 0, 0, 0, 0, 2]\n"
     ]
    },
    {
     "data": {
      "image/png": "[encoded data removed]",
      "text/plain": [
       "<Figure size 2000x1500 with 1 Axes>"
      ]
     },
     "metadata": {},
     "output_type": "display_data"
    }
   ],
   "source": [
    "plt.figure(figsize=(20, 15))\n",
    "indexes = list(range(0, int(non_politic['useful roots'].max() + 1)))\n",
    "unlabeled_non_pol = non_politic[non_politic.is_labeled]\n",
    "display(unlabeled_non_pol)\n",
    "display(unlabeled_non_pol.columns)\n",
    "stuff = [unlabeled_non_pol['useful roots'][unlabeled_non_pol['useful roots'] == x].count() for x in indexes]\n",
    "print(stuff)\n",
    "plt.bar(indexes, stuff)\n",
    "plt.title('Number of people per usefull roots')\n",
    "plt.ylabel('People')\n",
    "plt.xlabel('usefull roots')\n",
    "plt.xticks(list(range(40)))\n",
    "plt.show()"
   ]
  },
  {
   "cell_type": "code",
   "execution_count": 20,
   "id": "b12086db-9de0-4446-bc65-8599b6169756",
   "metadata": {
    "ExecuteTime": {
     "end_time": "2023-10-15T18:06:24.800949956Z",
     "start_time": "2023-10-15T18:06:24.554926792Z"
    }
   },
   "outputs": [
    {
     "data": {
      "image/png": "[encoded data removed]",
      "text/plain": [
       "<Figure size 2000x1500 with 1 Axes>"
      ]
     },
     "metadata": {},
     "output_type": "display_data"
    }
   ],
   "source": [
    "plt.figure(figsize=(20, 15))\n",
    "indexes = list(range(0, int(non_politic['useful roots'].max() + 1)))\n",
    "stuff = [non_politic['useful roots'][non_politic['useful roots'] == x][~non_politic.is_labeled].count() for x in indexes]\n",
    "plt.bar(indexes, stuff)\n",
    "plt.title('Number of people per usefull roots')\n",
    "plt.ylabel('People')\n",
    "plt.xlabel('usefull roots')\n",
    "plt.xticks(list(range(40)))\n",
    "plt.show()"
   ]
  },
  {
   "cell_type": "code",
   "execution_count": 21,
   "id": "0ea5e3d9",
   "metadata": {
    "ExecuteTime": {
     "end_time": "2023-10-15T18:06:24.980075960Z",
     "start_time": "2023-10-15T18:06:24.775555890Z"
    }
   },
   "outputs": [
    {
     "data": {
      "image/png": "[encoded data removed]",
      "text/plain": [
       "<Figure size 640x480 with 1 Axes>"
      ]
     },
     "metadata": {},
     "output_type": "display_data"
    }
   ],
   "source": [
    "labels = 'Labeled', 'No standard label'\n",
    "total_size = len(df.index)\n",
    "labeled_size = df.is_labeled.sum()\n",
    "unlabeled_size = total_size - labeled_size\n",
    "\n",
    "sizes = [labeled_size/total_size, unlabeled_size/total_size]\n",
    "fig, ax = plt.subplots()\n",
    "ax.pie(sizes, labels=labels)\n",
    "ax.set_title(\"Persons in database having standard Label\")\n",
    "plt.show()"
   ]
  },
  {
   "cell_type": "code",
   "execution_count": 22,
   "id": "9aebc31c",
   "metadata": {
    "ExecuteTime": {
     "end_time": "2023-10-15T18:06:24.980428101Z",
     "start_time": "2023-10-15T18:06:24.827876537Z"
    }
   },
   "outputs": [
    {
     "data": {
      "image/png": "[encoded data removed]",
      "text/plain": [
       "<Figure size 640x480 with 1 Axes>"
      ]
     },
     "metadata": {},
     "output_type": "display_data"
    }
   ],
   "source": [
    "labels = 'Politician', 'Unaffiliated'\n",
    "total_size = len(df.index)\n",
    "labeled_size = df.is_pol.sum()\n",
    "unlabeled_size = total_size - labeled_size\n",
    "\n",
    "sizes = [labeled_size/total_size, unlabeled_size/total_size]\n",
    "fig, ax = plt.subplots()\n",
    "ax.pie(sizes, labels=labels)\n",
    "ax.set_title(\"Persons in database who are politicians\")\n",
    "plt.show()"
   ]
  },
  {
   "cell_type": "code",
   "execution_count": 23,
   "id": "b8958ef5",
   "metadata": {
    "ExecuteTime": {
     "end_time": "2023-10-15T18:06:25.393157951Z",
     "start_time": "2023-10-15T18:06:24.880484554Z"
    }
   },
   "outputs": [
    {
     "data": {
      "text/plain": [
       "vzít        12398\n",
       "sport        8495\n",
       "umět         8303\n",
       "zp           7015\n",
       "registr      7005\n",
       "řídit        6940\n",
       "business     6854\n",
       "kult         6821\n",
       "spolu        4590\n",
       "vést         4112\n",
       "řada         3653\n",
       "akademie     3619\n",
       "zdravý       3570\n",
       "mluvit       3087\n",
       "nový         2986\n",
       "čech         2697\n",
       "tát          2504\n",
       "sedět        2444\n",
       "pravý        2062\n",
       "hrát         1764\n",
       "dtype: Sparse[int64, 0]"
      ]
     },
     "execution_count": 23,
     "metadata": {},
     "output_type": "execute_result"
    }
   ],
   "source": [
    "non_politic_bag.sum().sort_values(ascending=False).head(20)"
   ]
  },
  {
   "cell_type": "code",
   "execution_count": 24,
   "id": "7a0c5f1d",
   "metadata": {
    "ExecuteTime": {
     "end_time": "2023-10-15T18:06:29.863827484Z",
     "start_time": "2023-10-15T18:06:25.393580003Z"
    }
   },
   "outputs": [
    {
     "data": {
      "text/plain": [
       "vzít        12074\n",
       "sport        8470\n",
       "umět         8271\n",
       "business     6850\n",
       "kult         6809\n",
       "řídit        5726\n",
       "spolu        4486\n",
       "zp           4423\n",
       "registr      4411\n",
       "vést         3627\n",
       "akademie     3596\n",
       "řada         3566\n",
       "zdravý       3493\n",
       "mluvit       3080\n",
       "nový         2966\n",
       "čech         2428\n",
       "tát          2339\n",
       "sedět        2115\n",
       "pravý        1779\n",
       "hrát         1726\n",
       "dtype: Sparse[int64, 0]"
      ]
     },
     "execution_count": 24,
     "metadata": {},
     "output_type": "execute_result"
    }
   ],
   "source": [
    "non_politic_bag[non_politic.is_labeled].sum().sort_values(ascending=False).head(20)"
   ]
  },
  {
   "cell_type": "code",
   "execution_count": 25,
   "id": "cde4a089",
   "metadata": {
    "ExecuteTime": {
     "end_time": "2023-10-15T18:06:31.053305495Z",
     "start_time": "2023-10-15T18:06:29.863583627Z"
    }
   },
   "outputs": [
    {
     "data": {
      "text/plain": [
       "registr        2594\n",
       "zp             2592\n",
       "sociál         1351\n",
       "řídit          1214\n",
       "no              572\n",
       "vést            485\n",
       "sedět           329\n",
       "vzít            324\n",
       "dům             288\n",
       "pravý           283\n",
       "učit            269\n",
       "čech            269\n",
       "centr           266\n",
       "sociální        264\n",
       "práce           256\n",
       "nadace          189\n",
       "plzeň           187\n",
       "organizovat     171\n",
       "ordinovat       167\n",
       "tát             165\n",
       "rada            164\n",
       "sloužit         163\n",
       "senior          150\n",
       "charita         144\n",
       "manager         135\n",
       "dítě            130\n",
       "projekt         130\n",
       "být             128\n",
       "město           118\n",
       "škola           114\n",
       "dtype: Sparse[int64, 0]"
      ]
     },
     "execution_count": 25,
     "metadata": {},
     "output_type": "execute_result"
    }
   ],
   "source": [
    "non_politic_bag[~non_politic.is_labeled].sum().sort_values(ascending=False).head(30)"
   ]
  },
  {
   "cell_type": "code",
   "execution_count": 26,
   "id": "014212b5-8a1f-4d51-b437-6873d6881679",
   "metadata": {
    "ExecuteTime": {
     "end_time": "2023-10-15T18:06:35.711554124Z",
     "start_time": "2023-10-15T18:06:31.053903225Z"
    }
   },
   "outputs": [
    {
     "name": "stdout",
     "output_type": "stream",
     "text": [
      "5588\n",
      "58351\n"
     ]
    }
   ],
   "source": [
    "print(len(non_politic_bag[~non_politic.is_labeled]))\n",
    "print(len(non_politic_bag[non_politic.is_labeled]))"
   ]
  },
  {
   "cell_type": "code",
   "execution_count": 27,
   "id": "f4325ed8-a30f-433f-940b-04a4239cc446",
   "metadata": {
    "ExecuteTime": {
     "end_time": "2023-10-15T18:06:35.756313563Z",
     "start_time": "2023-10-15T18:06:35.715360882Z"
    }
   },
   "outputs": [
    {
     "data": {
      "image/png": "[encoded data removed]",
      "text/plain": [
       "<Figure size 640x480 with 1 Axes>"
      ]
     },
     "metadata": {},
     "output_type": "display_data"
    }
   ],
   "source": [
    "labels = 'Labeled', 'No standard label'\n",
    "total_size = len(non_politic)\n",
    "labeled_size = non_politic.is_labeled.sum()\n",
    "unlabeled_size = total_size - labeled_size\n",
    "\n",
    "sizes = [labeled_size/total_size, unlabeled_size/total_size]\n",
    "fig, ax = plt.subplots()\n",
    "ax.pie(sizes, labels=labels)\n",
    "ax.set_title(\"Non political persons who are unlabeled\")\n",
    "plt.show()"
   ]
  },
  {
   "cell_type": "code",
   "execution_count": 28,
   "id": "0d607d89-a583-48c1-8649-2f51aacf95d3",
   "metadata": {
    "ExecuteTime": {
     "end_time": "2023-10-15T18:06:35.768378667Z",
     "start_time": "2023-10-15T18:06:35.756587677Z"
    }
   },
   "outputs": [],
   "source": [
    "politic = df[df.is_pol].copy()"
   ]
  },
  {
   "cell_type": "code",
   "execution_count": 29,
   "id": "00f7771c-032e-4957-9ea1-414d76e333a1",
   "metadata": {
    "ExecuteTime": {
     "end_time": "2023-10-15T18:06:35.814051078Z",
     "start_time": "2023-10-15T18:06:35.767328417Z"
    }
   },
   "outputs": [
    {
     "data": {
      "image/png": "[encoded data removed]",
      "text/plain": [
       "<Figure size 640x480 with 1 Axes>"
      ]
     },
     "metadata": {},
     "output_type": "display_data"
    }
   ],
   "source": [
    "labels = 'Labeled', 'No standard label'\n",
    "total_size = len(politic)\n",
    "labeled_size = politic.is_labeled.sum()\n",
    "unlabeled_size = total_size - labeled_size\n",
    "\n",
    "sizes = [labeled_size/total_size, unlabeled_size/total_size]\n",
    "fig, ax = plt.subplots()\n",
    "ax.pie(sizes, labels=labels)\n",
    "ax.set_title(\"Politicians without label\")\n",
    "plt.show()"
   ]
  },
  {
   "cell_type": "code",
   "execution_count": 30,
   "id": "00bf5548",
   "metadata": {
    "ExecuteTime": {
     "end_time": "2023-10-15T18:06:36.279065388Z",
     "start_time": "2023-10-15T18:06:35.814587214Z"
    }
   },
   "outputs": [
    {
     "data": {
      "text/plain": [
       "žďársko         2\n",
       "jablotron       2\n",
       "jablonný        2\n",
       "spravedlivý     2\n",
       "jabkenice       2\n",
       "spíš            2\n",
       "squash          2\n",
       "israel          2\n",
       "squater         2\n",
       "island          2\n",
       "iráčan          2\n",
       "irán            2\n",
       "srbsko          2\n",
       "irsku           2\n",
       "iron            2\n",
       "iris            2\n",
       "srnec           2\n",
       "inzert          2\n",
       "intelligence    2\n",
       "interagovat     2\n",
       "dtype: Sparse[int64, 0]"
      ]
     },
     "execution_count": 30,
     "metadata": {},
     "output_type": "execute_result"
    }
   ],
   "source": [
    "non_politic_bag.sum().sort_values(ascending=True).head(20)"
   ]
  },
  {
   "cell_type": "code",
   "execution_count": 31,
   "id": "766983a8d099784",
   "metadata": {
    "collapsed": false,
    "jupyter": {
     "outputs_hidden": false
    }
   },
   "outputs": [],
   "source": [
    "with open('model/non_pol_columns', 'wb') as f:\n",
    "    pickle.dump(non_politic_bag.columns, f)"
   ]
  },
  {
   "cell_type": "code",
   "execution_count": 32,
   "id": "ddc0f593",
   "metadata": {
    "ExecuteTime": {
     "end_time": "2023-10-15T18:06:36.414864779Z",
     "start_time": "2023-10-15T18:06:36.335838154Z"
    }
   },
   "outputs": [],
   "source": [
    "from scipy.sparse import csr_matrix\n",
    "\n",
    "data_matrix = csr_matrix(non_politic_bag.sparse.to_coo())"
   ]
  },
  {
   "cell_type": "code",
   "execution_count": 33,
   "id": "456bf62f",
   "metadata": {
    "ExecuteTime": {
     "end_time": "2023-10-15T18:06:36.690762232Z",
     "start_time": "2023-10-15T18:06:36.415704143Z"
    }
   },
   "outputs": [],
   "source": [
    "from sklearn.cluster import KMeans\n",
    "\n",
    "def kmean_explore(data, max_clusters: int) -> list:\n",
    "    scores = []\n",
    "    \n",
    "    for i in range(2, max_clusters+1):\n",
    "        km = KMeans(n_clusters=i, n_init=10)\n",
    "        km.fit(data_matrix)\n",
    "        score = km.score(data_matrix)\n",
    "        scores.append(np.abs(score))\n",
    "    return scores"
   ]
  },
  {
   "cell_type": "code",
   "execution_count": 34,
   "id": "c174eec5",
   "metadata": {
    "ExecuteTime": {
     "end_time": "2023-10-15T18:07:33.812093947Z",
     "start_time": "2023-10-15T18:06:36.692462680Z"
    }
   },
   "outputs": [
    {
     "data": {
      "image/png": "[encoded data removed]",
      "text/plain": [
       "<Figure size 640x480 with 1 Axes>"
      ]
     },
     "metadata": {},
     "output_type": "display_data"
    },
    {
     "name": "stdout",
     "output_type": "stream",
     "text": [
      "CPU times: user 4min 58s, sys: 6min 10s, total: 11min 9s\n",
      "Wall time: 52.9 s\n"
     ]
    }
   ],
   "source": [
    "%%time\n",
    "max_cluster = 40\n",
    "cluster_n = list(range(2, max_cluster+1))\n",
    "scores = kmean_explore(data_matrix, max_cluster)\n",
    "\n",
    "plt.plot(cluster_n, scores)\n",
    "plt.xticks(list(range(0, max_cluster, 2)))\n",
    "plt.show()"
   ]
  },
  {
   "cell_type": "code",
   "execution_count": 35,
   "id": "b7f54a53",
   "metadata": {
    "ExecuteTime": {
     "end_time": "2023-10-15T18:07:34.974264863Z",
     "start_time": "2023-10-15T18:07:33.769874761Z"
    }
   },
   "outputs": [],
   "source": [
    "km = KMeans(n_clusters=18, n_init=10)\n",
    "\n",
    "predictions = km.fit_predict(data_matrix)"
   ]
  },
  {
   "cell_type": "code",
   "execution_count": 36,
   "id": "c06389b5",
   "metadata": {
    "ExecuteTime": {
     "end_time": "2023-10-15T18:08:05.289405443Z",
     "start_time": "2023-10-15T18:07:34.979686870Z"
    }
   },
   "outputs": [
    {
     "name": "stdout",
     "output_type": "stream",
     "text": [
      "0\n",
      "2808\n"
     ]
    },
    {
     "data": {
      "text/plain": [
       "spolu          2799\n",
       "sedět          1122\n",
       "čech            536\n",
       "club            320\n",
       "vázat           290\n",
       "člen            224\n",
       "asociovat       220\n",
       "družit          210\n",
       "vzít            210\n",
       "řídit           157\n",
       "lobby           142\n",
       "sport           126\n",
       "vést            120\n",
       "organizovat     109\n",
       "zdravý          103\n",
       "čr               99\n",
       "obec             91\n",
       "no               90\n",
       "přítel           89\n",
       "kult             81\n",
       "dtype: Sparse[int64, 0]"
      ]
     },
     "metadata": {},
     "output_type": "display_data"
    },
    {
     "name": "stdout",
     "output_type": "stream",
     "text": [
      "\n",
      "\n",
      "\n",
      "\n",
      "1\n",
      "5434\n"
     ]
    },
    {
     "data": {
      "text/plain": [
       "kult           5434\n",
       "muzeum         1030\n",
       "řídit           960\n",
       "kurátor         883\n",
       "vzít            843\n",
       "festival        482\n",
       "vést            466\n",
       "tát             417\n",
       "umět            319\n",
       "kniha           299\n",
       "organizovat     293\n",
       "drama           288\n",
       "historie        264\n",
       "dívat           225\n",
       "galerie         210\n",
       "město           205\n",
       "řada            161\n",
       "autor           156\n",
       "kastelán        155\n",
       "čech            150\n",
       "dtype: Sparse[int64, 0]"
      ]
     },
     "metadata": {},
     "output_type": "display_data"
    },
    {
     "name": "stdout",
     "output_type": "stream",
     "text": [
      "\n",
      "\n",
      "\n",
      "\n",
      "2\n",
      "2744\n"
     ]
    },
    {
     "data": {
      "text/plain": [
       "řada        2744\n",
       "vzít         899\n",
       "vést         819\n",
       "řídit        500\n",
       "město        406\n",
       "správa       236\n",
       "kraj         215\n",
       "díl          207\n",
       "pravý        201\n",
       "magistr      163\n",
       "mít          155\n",
       "střed        152\n",
       "ministr      150\n",
       "čech         141\n",
       "práce        131\n",
       "sloužit      121\n",
       "kult         120\n",
       "žít          115\n",
       "náměstek     110\n",
       "rozvoj       109\n",
       "dtype: Sparse[int64, 0]"
      ]
     },
     "metadata": {},
     "output_type": "display_data"
    },
    {
     "name": "stdout",
     "output_type": "stream",
     "text": [
      "\n",
      "\n",
      "\n",
      "\n",
      "3\n",
      "6992\n"
     ]
    },
    {
     "data": {
      "text/plain": [
       "nový            1892\n",
       "brojit           944\n",
       "církev           802\n",
       "čro              771\n",
       "pravý            734\n",
       "redigovat        620\n",
       "chránit          575\n",
       "stát             496\n",
       "advokát          421\n",
       "policie          365\n",
       "no               349\n",
       "zastoupit        331\n",
       "vést             316\n",
       "fara             302\n",
       "aktivní          288\n",
       "velet            279\n",
       "soudit           275\n",
       "hasit            243\n",
       "čech             199\n",
       "publicistika     189\n",
       "dtype: Sparse[int64, 0]"
      ]
     },
     "metadata": {},
     "output_type": "display_data"
    },
    {
     "name": "stdout",
     "output_type": "stream",
     "text": [
      "\n",
      "\n",
      "\n",
      "\n",
      "4\n",
      "7793\n"
     ]
    },
    {
     "data": {
      "text/plain": [
       "vzít            7793\n",
       "řídit            954\n",
       "historie         585\n",
       "architektura     432\n",
       "učit             431\n",
       "vést             378\n",
       "škola            356\n",
       "tát              242\n",
       "id               238\n",
       "psychologie      224\n",
       "archeologie      179\n",
       "rada             173\n",
       "restaurovat      161\n",
       "umět             157\n",
       "pravý            156\n",
       "koumat           155\n",
       "čech             151\n",
       "střed            147\n",
       "autor            144\n",
       "zdravý           141\n",
       "dtype: Sparse[int64, 0]"
      ]
     },
     "metadata": {},
     "output_type": "display_data"
    },
    {
     "name": "stdout",
     "output_type": "stream",
     "text": [
      "\n",
      "\n",
      "\n",
      "\n",
      "5\n",
      "1985\n"
     ]
    },
    {
     "data": {
      "text/plain": [
       "řídit        1985\n",
       "business     1429\n",
       "spolu         196\n",
       "stát          165\n",
       "brojit        155\n",
       "generel       140\n",
       "jít           131\n",
       "učit          109\n",
       "čech          101\n",
       "konat          89\n",
       "no             85\n",
       "kraj           80\n",
       "tát            79\n",
       "id             69\n",
       "firma          64\n",
       "vzít           63\n",
       "marketing      60\n",
       "vézt           58\n",
       "centr          58\n",
       "policie        55\n",
       "dtype: Sparse[int64, 0]"
      ]
     },
     "metadata": {},
     "output_type": "display_data"
    },
    {
     "name": "stdout",
     "output_type": "stream",
     "text": [
      "\n",
      "\n",
      "\n",
      "\n",
      "6\n",
      "5909\n"
     ]
    },
    {
     "data": {
      "text/plain": [
       "sport          5909\n",
       "hokej          1209\n",
       "trenér          978\n",
       "vést            315\n",
       "volejbal        296\n",
       "basketbal       267\n",
       "hodit           222\n",
       "cyklistika      199\n",
       "tennis          196\n",
       "atletika        186\n",
       "lyže            185\n",
       "florbal         180\n",
       "řídit           153\n",
       "čech            149\n",
       "běžet           141\n",
       "být             133\n",
       "sedět           130\n",
       "prezentovat     116\n",
       "spolu            97\n",
       "organizovat      97\n",
       "dtype: Sparse[int64, 0]"
      ]
     },
     "metadata": {},
     "output_type": "display_data"
    },
    {
     "name": "stdout",
     "output_type": "stream",
     "text": [
      "\n",
      "\n",
      "\n",
      "\n",
      "7\n",
      "562\n"
     ]
    },
    {
     "data": {
      "text/plain": [
       "id             562\n",
       "sport          200\n",
       "business       156\n",
       "spolu           58\n",
       "trenér          56\n",
       "vést            44\n",
       "nový            33\n",
       "církev          29\n",
       "vzít            28\n",
       "hokej           24\n",
       "brojit          24\n",
       "řídit           24\n",
       "jednat          23\n",
       "čech            22\n",
       "pravý           21\n",
       "manager         20\n",
       "chránit         17\n",
       "organizovat     17\n",
       "mít             16\n",
       "sedět           16\n",
       "dtype: Sparse[int64, 0]"
      ]
     },
     "metadata": {},
     "output_type": "display_data"
    },
    {
     "name": "stdout",
     "output_type": "stream",
     "text": [
      "\n",
      "\n",
      "\n",
      "\n",
      "8\n",
      "4619\n"
     ]
    },
    {
     "data": {
      "text/plain": [
       "business      4619\n",
       "spolu          505\n",
       "mít            474\n",
       "manager        342\n",
       "vést           333\n",
       "jednat         319\n",
       "vzít           302\n",
       "stát           296\n",
       "mluvit         262\n",
       "firma          260\n",
       "tát            199\n",
       "vézt           194\n",
       "sedět          173\n",
       "čech           150\n",
       "kult           150\n",
       "podniknout     142\n",
       "pravý          116\n",
       "zastoupit      106\n",
       "sport           99\n",
       "jít             94\n",
       "dtype: Sparse[int64, 0]"
      ]
     },
     "metadata": {},
     "output_type": "display_data"
    },
    {
     "name": "stdout",
     "output_type": "stream",
     "text": [
      "\n",
      "\n",
      "\n",
      "\n",
      "9\n",
      "1729\n"
     ]
    },
    {
     "data": {
      "text/plain": [
       "mluvit       1729\n",
       "tiskat        256\n",
       "brojit        186\n",
       "policie       147\n",
       "řada          144\n",
       "kult          137\n",
       "kraj          119\n",
       "město         100\n",
       "chránit        80\n",
       "čech           66\n",
       "id             60\n",
       "spolu          55\n",
       "soudit         55\n",
       "festival       51\n",
       "čr             50\n",
       "zastoupit      50\n",
       "rada           48\n",
       "ministr        47\n",
       "práh           46\n",
       "díl            44\n",
       "dtype: Sparse[int64, 0]"
      ]
     },
     "metadata": {},
     "output_type": "display_data"
    },
    {
     "name": "stdout",
     "output_type": "stream",
     "text": [
      "\n",
      "\n",
      "\n",
      "\n",
      "10\n",
      "392\n"
     ]
    },
    {
     "data": {
      "text/plain": [
       "kládat         392\n",
       "vzít           325\n",
       "škola          129\n",
       "řídit          117\n",
       "učit            63\n",
       "kult            29\n",
       "umět            28\n",
       "id              21\n",
       "no              18\n",
       "organizovat     15\n",
       "aktivní         14\n",
       "projekt         13\n",
       "mateř           12\n",
       "sedět           12\n",
       "spolu           11\n",
       "čech            11\n",
       "rada            11\n",
       "nadace          10\n",
       "redigovat       10\n",
       "nový            10\n",
       "dtype: Sparse[int64, 0]"
      ]
     },
     "metadata": {},
     "output_type": "display_data"
    },
    {
     "name": "stdout",
     "output_type": "stream",
     "text": [
      "\n",
      "\n",
      "\n",
      "\n",
      "11\n",
      "1529\n"
     ]
    },
    {
     "data": {
      "text/plain": [
       "sociál         1529\n",
       "řídit           531\n",
       "vést            313\n",
       "dům             265\n",
       "sociální        250\n",
       "centr           197\n",
       "charita         197\n",
       "práce           193\n",
       "senior          143\n",
       "sloužit         129\n",
       "ordinovat       103\n",
       "církev           94\n",
       "dítě             84\n",
       "pečovat          75\n",
       "rada             64\n",
       "organizovat      56\n",
       "projekt          55\n",
       "dom              51\n",
       "rod              50\n",
       "id               46\n",
       "dtype: Sparse[int64, 0]"
      ]
     },
     "metadata": {},
     "output_type": "display_data"
    },
    {
     "name": "stdout",
     "output_type": "stream",
     "text": [
      "\n",
      "\n",
      "\n",
      "\n",
      "12\n",
      "431\n"
     ]
    },
    {
     "data": {
      "text/plain": [
       "čr          430\n",
       "akademie    302\n",
       "tát         235\n",
       "vědět       117\n",
       "vzít        102\n",
       "brojit       57\n",
       "zp           47\n",
       "registr      46\n",
       "policie      41\n",
       "vést         34\n",
       "biologie     30\n",
       "centr        30\n",
       "řídit        28\n",
       "čech         27\n",
       "historie     27\n",
       "díl          27\n",
       "koumat       26\n",
       "práce        26\n",
       "vyslat       25\n",
       "fyzický      22\n",
       "dtype: Sparse[int64, 0]"
      ]
     },
     "metadata": {},
     "output_type": "display_data"
    },
    {
     "name": "stdout",
     "output_type": "stream",
     "text": [
      "\n",
      "\n",
      "\n",
      "\n",
      "13\n",
      "2857\n"
     ]
    },
    {
     "data": {
      "text/plain": [
       "zdravý        2855\n",
       "lék           1109\n",
       "moci           601\n",
       "prima          353\n",
       "klinika        238\n",
       "díl            237\n",
       "sestřenice     222\n",
       "řídit          183\n",
       "vést           174\n",
       "centr          127\n",
       "dítě           113\n",
       "fakulta        108\n",
       "id             101\n",
       "tát             99\n",
       "vrch            87\n",
       "vzít            81\n",
       "oko             81\n",
       "urologie        80\n",
       "chirurgie       79\n",
       "přední          78\n",
       "dtype: Sparse[int64, 0]"
      ]
     },
     "metadata": {},
     "output_type": "display_data"
    },
    {
     "name": "stdout",
     "output_type": "stream",
     "text": [
      "\n",
      "\n",
      "\n",
      "\n",
      "14\n",
      "1439\n"
     ]
    },
    {
     "data": {
      "text/plain": [
       "fotbal      1439\n",
       "sport       1434\n",
       "trenér       187\n",
       "zp           146\n",
       "registr      146\n",
       "být           91\n",
       "fungovat      44\n",
       "id            39\n",
       "sigm          38\n",
       "olomouc       33\n",
       "spolu         33\n",
       "čech          30\n",
       "mrk           29\n",
       "sedět         28\n",
       "rozhodit      28\n",
       "club          27\n",
       "mladý         24\n",
       "brána         23\n",
       "karviná       22\n",
       "desky         21\n",
       "dtype: Sparse[int64, 0]"
      ]
     },
     "metadata": {},
     "output_type": "display_data"
    },
    {
     "name": "stdout",
     "output_type": "stream",
     "text": [
      "\n",
      "\n",
      "\n",
      "\n",
      "15\n",
      "6726\n"
     ]
    },
    {
     "data": {
      "text/plain": [
       "registr     6726\n",
       "zp          6726\n",
       "řídit       1177\n",
       "vzít        1021\n",
       "mluvit       863\n",
       "čech         680\n",
       "sport        502\n",
       "nový         496\n",
       "umět         482\n",
       "sedět        478\n",
       "business     448\n",
       "spolu        444\n",
       "pravý        439\n",
       "kult         430\n",
       "vést         419\n",
       "řada         412\n",
       "tát          373\n",
       "být          369\n",
       "plzeň        334\n",
       "čr           333\n",
       "dtype: Sparse[int64, 0]"
      ]
     },
     "metadata": {},
     "output_type": "display_data"
    },
    {
     "name": "stdout",
     "output_type": "stream",
     "text": [
      "\n",
      "\n",
      "\n",
      "\n",
      "16\n",
      "2787\n"
     ]
    },
    {
     "data": {
      "text/plain": [
       "akademie       2787\n",
       "univerzita      758\n",
       "fakulta         625\n",
       "vzít            598\n",
       "tát             503\n",
       "uk              400\n",
       "vědět           328\n",
       "katedra         303\n",
       "vést            226\n",
       "čt              210\n",
       "děkan           171\n",
       "koumat          170\n",
       "čech            168\n",
       "historie        158\n",
       "karlov          144\n",
       "studio          141\n",
       "všechen         121\n",
       "přírodověda     117\n",
       "pedagogie       107\n",
       "centr           104\n",
       "dtype: Sparse[int64, 0]"
      ]
     },
     "metadata": {},
     "output_type": "display_data"
    },
    {
     "name": "stdout",
     "output_type": "stream",
     "text": [
      "\n",
      "\n",
      "\n",
      "\n",
      "17\n",
      "7203\n"
     ]
    },
    {
     "data": {
      "text/plain": [
       "umět          7203\n",
       "hrát          1354\n",
       "režie          707\n",
       "tvořit         501\n",
       "psát           493\n",
       "housle         492\n",
       "zpívat         482\n",
       "fotografie     400\n",
       "malovat        393\n",
       "kult           334\n",
       "autor          232\n",
       "dívat          192\n",
       "socha          173\n",
       "tanec          152\n",
       "id             140\n",
       "muzika         131\n",
       "kapela         129\n",
       "skládat        125\n",
       "scéna          115\n",
       "bát            109\n",
       "dtype: Sparse[int64, 0]"
      ]
     },
     "metadata": {},
     "output_type": "display_data"
    },
    {
     "name": "stdout",
     "output_type": "stream",
     "text": [
      "\n",
      "\n",
      "\n",
      "\n"
     ]
    }
   ],
   "source": [
    "for a in set(predictions):\n",
    "    print(a)\n",
    "    print(len(non_politic_bag[predictions == a]))\n",
    "    display(non_politic_bag[predictions == a].sum().sort_values(ascending=False).head(20))\n",
    "    print('\\n\\n\\n')"
   ]
  },
  {
   "cell_type": "code",
   "execution_count": 37,
   "id": "b31134b1-9f5d-41ad-a859-f3b65730c48b",
   "metadata": {
    "ExecuteTime": {
     "end_time": "2023-10-15T18:08:05.295708973Z",
     "start_time": "2023-10-15T18:08:05.289051329Z"
    }
   },
   "outputs": [],
   "source": [
    "with open('model/non_pol.model', 'bw+') as f:\n",
    "    pickle.dump(km, f)"
   ]
  },
  {
   "cell_type": "code",
   "execution_count": 38,
   "id": "3d271f9b",
   "metadata": {
    "ExecuteTime": {
     "end_time": "2023-10-15T18:08:17.154382611Z",
     "start_time": "2023-10-15T18:08:05.295186142Z"
    }
   },
   "outputs": [],
   "source": [
    "normal_bag = to_bag_of_words(df.lemmatized, is_string=False)[~df.is_pol]"
   ]
  },
  {
   "cell_type": "code",
   "execution_count": 39,
   "id": "33bb1585-f75a-4687-88de-0f7bbe12f1f3",
   "metadata": {
    "ExecuteTime": {
     "end_time": "2023-10-15T18:09:46.624366867Z",
     "start_time": "2023-10-15T18:08:17.159162884Z"
    }
   },
   "outputs": [
    {
     "name": "stdout",
     "output_type": "stream",
     "text": [
      "0\n",
      "2808\n"
     ]
    },
    {
     "data": {
      "text/plain": [
       "spolek         2652\n",
       "předseda        749\n",
       "český           513\n",
       "klub            298\n",
       "svaz            283\n",
       "předsedkyně     260\n",
       "společnost      251\n",
       "asociace        220\n",
       "sdružení        194\n",
       "člen            148\n",
       "dtype: Sparse[int64, 0]"
      ]
     },
     "metadata": {},
     "output_type": "display_data"
    },
    {
     "name": "stdout",
     "output_type": "stream",
     "text": [
      "\n",
      "\n",
      "\n",
      "\n",
      "1\n",
      "5434\n"
     ]
    },
    {
     "data": {
      "text/plain": [
       "kultura      5398\n",
       "muzeum        978\n",
       "odborník      693\n",
       "ředitel       541\n",
       "kurátorka     487\n",
       "festival      475\n",
       "vedoucí       421\n",
       "ředitelka     408\n",
       "kurátor       395\n",
       "výstav        363\n",
       "dtype: Sparse[int64, 0]"
      ]
     },
     "metadata": {},
     "output_type": "display_data"
    },
    {
     "name": "stdout",
     "output_type": "stream",
     "text": [
      "\n",
      "\n",
      "\n",
      "\n",
      "2\n",
      "2744\n"
     ]
    },
    {
     "data": {
      "text/plain": [
       "úředník     2583\n",
       "vedoucí      790\n",
       "odbor        678\n",
       "ředitel      337\n",
       "úřad         333\n",
       "město        239\n",
       "odborník     210\n",
       "oddělení     207\n",
       "správa       207\n",
       "městský      167\n",
       "dtype: Sparse[int64, 0]"
      ]
     },
     "metadata": {},
     "output_type": "display_data"
    },
    {
     "name": "stdout",
     "output_type": "stream",
     "text": [
      "\n",
      "\n",
      "\n",
      "\n",
      "3\n",
      "6992\n"
     ]
    },
    {
     "data": {
      "text/plain": [
       "novinář       1877\n",
       "ozbrojenec     944\n",
       "církev         802\n",
       "čro            771\n",
       "záchranář      519\n",
       "redaktor       426\n",
       "advokát        412\n",
       "právník        407\n",
       "no             349\n",
       "zástupce       285\n",
       "dtype: Sparse[int64, 0]"
      ]
     },
     "metadata": {},
     "output_type": "display_data"
    },
    {
     "name": "stdout",
     "output_type": "stream",
     "text": [
      "\n",
      "\n",
      "\n",
      "\n",
      "4\n",
      "7793\n"
     ]
    },
    {
     "data": {
      "text/plain": [
       "odborník     7386\n",
       "ředitel       537\n",
       "historik      409\n",
       "ředitelka     394\n",
       "vedoucí       353\n",
       "architekt     321\n",
       "škola         313\n",
       "učitel        310\n",
       "id            238\n",
       "odbor         221\n",
       "dtype: Sparse[int64, 0]"
      ]
     },
     "metadata": {},
     "output_type": "display_data"
    },
    {
     "name": "stdout",
     "output_type": "stream",
     "text": [
      "\n",
      "\n",
      "\n",
      "\n",
      "5\n",
      "1985\n"
     ]
    },
    {
     "data": {
      "text/plain": [
       "ředitel       1522\n",
       "byznys        1429\n",
       "ředitelka      408\n",
       "společnost     174\n",
       "ozbrojenec     153\n",
       "stát           139\n",
       "generální      139\n",
       "obchodní       110\n",
       "učitel         105\n",
       "český           89\n",
       "dtype: Sparse[int64, 0]"
      ]
     },
     "metadata": {},
     "output_type": "display_data"
    },
    {
     "name": "stdout",
     "output_type": "stream",
     "text": [
      "\n",
      "\n",
      "\n",
      "\n",
      "6\n",
      "5909\n"
     ]
    },
    {
     "data": {
      "text/plain": [
       "sport            5885\n",
       "hokejista         969\n",
       "trenér            815\n",
       "hokej             164\n",
       "trenérka          163\n",
       "český             145\n",
       "basketbalista     141\n",
       "hokejový          135\n",
       "ředitel           134\n",
       "bývalý            132\n",
       "dtype: Sparse[int64, 0]"
      ]
     },
     "metadata": {},
     "output_type": "display_data"
    },
    {
     "name": "stdout",
     "output_type": "stream",
     "text": [
      "\n",
      "\n",
      "\n",
      "\n",
      "7\n",
      "562\n"
     ]
    },
    {
     "data": {
      "text/plain": [
       "id            562\n",
       "sport         199\n",
       "byznys        156\n",
       "trenér         46\n",
       "spolek         39\n",
       "vedoucí        33\n",
       "novinář        33\n",
       "církev         29\n",
       "ozbrojenec     24\n",
       "odborník       24\n",
       "dtype: Sparse[int64, 0]"
      ]
     },
     "metadata": {},
     "output_type": "display_data"
    },
    {
     "name": "stdout",
     "output_type": "stream",
     "text": [
      "\n",
      "\n",
      "\n",
      "\n",
      "8\n",
      "4619\n"
     ]
    },
    {
     "data": {
      "text/plain": [
       "byznys        4612\n",
       "společnost     420\n",
       "majitel        355\n",
       "vedoucí        305\n",
       "jednatel       275\n",
       "odborník       274\n",
       "stát           269\n",
       "mluvčí         262\n",
       "firma          259\n",
       "manažer        200\n",
       "dtype: Sparse[int64, 0]"
      ]
     },
     "metadata": {},
     "output_type": "display_data"
    },
    {
     "name": "stdout",
     "output_type": "stream",
     "text": [
      "\n",
      "\n",
      "\n",
      "\n",
      "9\n",
      "1729\n"
     ]
    },
    {
     "data": {
      "text/plain": [
       "mluvčí        1724\n",
       "tiskový        251\n",
       "ozbrojenec     185\n",
       "kultura        136\n",
       "policie        108\n",
       "úředník        100\n",
       "kraj            77\n",
       "záchranář       65\n",
       "id              60\n",
       "úřad            59\n",
       "dtype: Sparse[int64, 0]"
      ]
     },
     "metadata": {},
     "output_type": "display_data"
    },
    {
     "name": "stdout",
     "output_type": "stream",
     "text": [
      "\n",
      "\n",
      "\n",
      "\n",
      "10\n",
      "392\n"
     ]
    },
    {
     "data": {
      "text/plain": [
       "odborník         310\n",
       "základní         130\n",
       "škola            128\n",
       "překladatelka     97\n",
       "překladatel       71\n",
       "ředitelka         59\n",
       "ředitel           58\n",
       "učitel            57\n",
       "zakladatel        52\n",
       "zakladatelka      36\n",
       "dtype: Sparse[int64, 0]"
      ]
     },
     "metadata": {},
     "output_type": "display_data"
    },
    {
     "name": "stdout",
     "output_type": "stream",
     "text": [
      "\n",
      "\n",
      "\n",
      "\n",
      "11\n",
      "1529\n"
     ]
    },
    {
     "data": {
      "text/plain": [
       "sociál        1529\n",
       "ředitelka      311\n",
       "vedoucí        307\n",
       "sociální       249\n",
       "domov          217\n",
       "ředitel        204\n",
       "centr          197\n",
       "charita        187\n",
       "senior         142\n",
       "pracovnice     141\n",
       "dtype: Sparse[int64, 0]"
      ]
     },
     "metadata": {},
     "output_type": "display_data"
    },
    {
     "name": "stdout",
     "output_type": "stream",
     "text": [
      "\n",
      "\n",
      "\n",
      "\n",
      "12\n",
      "431\n"
     ]
    },
    {
     "data": {
      "text/plain": [
       "čr             430\n",
       "akademik       286\n",
       "ústav          224\n",
       "odborník        98\n",
       "akademie        88\n",
       "věda            87\n",
       "ozbrojenec      57\n",
       "zp              47\n",
       "registrovat     46\n",
       "policie         36\n",
       "dtype: Sparse[int64, 0]"
      ]
     },
     "metadata": {},
     "output_type": "display_data"
    },
    {
     "name": "stdout",
     "output_type": "stream",
     "text": [
      "\n",
      "\n",
      "\n",
      "\n",
      "13\n",
      "2857\n"
     ]
    },
    {
     "data": {
      "text/plain": [
       "zdravotník    2807\n",
       "lékař          587\n",
       "nemocnice      569\n",
       "lékařka        374\n",
       "primář         239\n",
       "oddělení       234\n",
       "sestra         222\n",
       "klinik         201\n",
       "vedoucí        170\n",
       "ředitel        127\n",
       "dtype: Sparse[int64, 0]"
      ]
     },
     "metadata": {},
     "output_type": "display_data"
    },
    {
     "name": "stdout",
     "output_type": "stream",
     "text": [
      "\n",
      "\n",
      "\n",
      "\n",
      "14\n",
      "1439\n"
     ]
    },
    {
     "data": {
      "text/plain": [
       "sport          1434\n",
       "fotbalista     1002\n",
       "fotbalový       308\n",
       "trenér          185\n",
       "fotbal          173\n",
       "zp              146\n",
       "registrovat     146\n",
       "bývalý           91\n",
       "funkcionář       43\n",
       "id               39\n",
       "dtype: Sparse[int64, 0]"
      ]
     },
     "metadata": {},
     "output_type": "display_data"
    },
    {
     "name": "stdout",
     "output_type": "stream",
     "text": [
      "\n",
      "\n",
      "\n",
      "\n",
      "15\n",
      "6726\n"
     ]
    },
    {
     "data": {
      "text/plain": [
       "zp             6726\n",
       "registrovat    6726\n",
       "ředitel         902\n",
       "mluvčí          854\n",
       "odborník        703\n",
       "český           584\n",
       "sport           475\n",
       "novinář         469\n",
       "byznys          446\n",
       "umělec          439\n",
       "dtype: Sparse[int64, 0]"
      ]
     },
     "metadata": {},
     "output_type": "display_data"
    },
    {
     "name": "stdout",
     "output_type": "stream",
     "text": [
      "\n",
      "\n",
      "\n",
      "\n",
      "16\n",
      "2787\n"
     ]
    },
    {
     "data": {
      "text/plain": [
       "akademik      2744\n",
       "univerzita     749\n",
       "fakulta        622\n",
       "odborník       536\n",
       "ústav          464\n",
       "uk             400\n",
       "katedra        302\n",
       "vedoucí        221\n",
       "čt             210\n",
       "věda           151\n",
       "dtype: Sparse[int64, 0]"
      ]
     },
     "metadata": {},
     "output_type": "display_data"
    },
    {
     "name": "stdout",
     "output_type": "stream",
     "text": [
      "\n",
      "\n",
      "\n",
      "\n",
      "17\n",
      "7203\n"
     ]
    },
    {
     "data": {
      "text/plain": [
       "umělec        7155\n",
       "herec          763\n",
       "herečka        561\n",
       "režisér        514\n",
       "kultura        333\n",
       "fotograf       327\n",
       "hudebník       295\n",
       "spisovatel     273\n",
       "zpěvačka       268\n",
       "malíř          248\n",
       "dtype: Sparse[int64, 0]"
      ]
     },
     "metadata": {},
     "output_type": "display_data"
    },
    {
     "name": "stdout",
     "output_type": "stream",
     "text": [
      "\n",
      "\n",
      "\n",
      "\n"
     ]
    }
   ],
   "source": [
    "for a in set(predictions):\n",
    "    print(a)\n",
    "    print(len(normal_bag[predictions == a]))\n",
    "    display(normal_bag[predictions == a].sum().sort_values(ascending=False).head(10))\n",
    "    print('\\n\\n\\n')"
   ]
  },
  {
   "cell_type": "markdown",
   "id": "c1b22bc0-ae90-4399-af62-e50012e1b7ef",
   "metadata": {},
   "source": [
    "## Politician Analysis"
   ]
  },
  {
   "cell_type": "code",
   "execution_count": 40,
   "id": "e4598a38-a53d-40b8-bbd6-a9377c7a4cb1",
   "metadata": {
    "ExecuteTime": {
     "end_time": "2023-10-15T18:09:47.690820942Z",
     "start_time": "2023-10-15T18:09:46.675584066Z"
    }
   },
   "outputs": [],
   "source": [
    "politic_bag = to_bag_of_words(politic.roots, is_string=False)\n",
    "politic_bag = politic_bag.loc[:, politic_bag.sum() > 1].copy()"
   ]
  },
  {
   "cell_type": "code",
   "execution_count": 41,
   "id": "cc682e45-a66b-42e6-9a52-edc72f9e627e",
   "metadata": {
    "ExecuteTime": {
     "end_time": "2023-10-15T18:09:47.926470695Z",
     "start_time": "2023-10-15T18:09:47.803502514Z"
    }
   },
   "outputs": [
    {
     "data": {
      "text/plain": [
       "kandidát         9345\n",
       "ex               6853\n",
       "zastoupit        6624\n",
       "obec             6539\n",
       "poslat           5671\n",
       "starat           3877\n",
       "město            1481\n",
       "řídit            1332\n",
       "politika         1222\n",
       "místostarosta    1180\n",
       "zp               1139\n",
       "registr          1136\n",
       "kraj             1132\n",
       "sport            1108\n",
       "sedět            1095\n",
       "vzít             1088\n",
       "rada              846\n",
       "akropole          825\n",
       "umět              747\n",
       "senát             745\n",
       "dtype: Sparse[int64, 0]"
      ]
     },
     "execution_count": 41,
     "metadata": {},
     "output_type": "execute_result"
    }
   ],
   "source": [
    "politic_bag.sum().sort_values(ascending=False).head(20)"
   ]
  },
  {
   "cell_type": "code",
   "execution_count": 42,
   "id": "ba2e0d98-7fef-4cab-b517-4e3e84f12565",
   "metadata": {
    "ExecuteTime": {
     "end_time": "2023-10-15T18:09:47.928511291Z",
     "start_time": "2023-10-15T18:09:47.925898542Z"
    }
   },
   "outputs": [
    {
     "data": {
      "text/plain": [
       "17686"
      ]
     },
     "execution_count": 42,
     "metadata": {},
     "output_type": "execute_result"
    }
   ],
   "source": [
    "len(politic)"
   ]
  },
  {
   "cell_type": "code",
   "execution_count": 43,
   "id": "1ddff3ba-8838-4039-91c7-562d7b663ddf",
   "metadata": {
    "ExecuteTime": {
     "end_time": "2023-10-15T18:10:34.490118232Z",
     "start_time": "2023-10-15T18:09:47.928616298Z"
    }
   },
   "outputs": [],
   "source": [
    "politic['useful roots'] = politic_bag.parallel_apply(lambda row: row.sum(), axis=1)"
   ]
  },
  {
   "cell_type": "code",
   "execution_count": 44,
   "id": "248fca88-1147-47c0-9437-bbf1ad6ae888",
   "metadata": {
    "ExecuteTime": {
     "end_time": "2023-10-15T18:10:34.659995924Z",
     "start_time": "2023-10-15T18:10:34.489910562Z"
    }
   },
   "outputs": [
    {
     "data": {
      "image/png": "[encoded data removed]",
      "text/plain": [
       "<Figure size 2000x1500 with 1 Axes>"
      ]
     },
     "metadata": {},
     "output_type": "display_data"
    }
   ],
   "source": [
    "plt.figure(figsize=(20, 15))\n",
    "indexes = list(range(0, int(politic['useful roots'].max() + 1)))\n",
    "stuff = [politic['useful roots'][politic['useful roots'] == x].count() for x in indexes]\n",
    "plt.bar(indexes, stuff)\n",
    "plt.title('Number of people per usefull roots')\n",
    "plt.ylabel('People')\n",
    "plt.xlabel('usefull roots')\n",
    "plt.xticks(list(range(40)))\n",
    "plt.show()"
   ]
  },
  {
   "cell_type": "code",
   "execution_count": 45,
   "id": "86e35416-b7d7-4150-ab0e-5a52436ea210",
   "metadata": {
    "ExecuteTime": {
     "end_time": "2023-10-15T18:10:34.874459440Z",
     "start_time": "2023-10-15T18:10:34.660429988Z"
    }
   },
   "outputs": [
    {
     "data": {
      "image/png": "[encoded data removed]",
      "text/plain": [
       "<Figure size 2000x1500 with 1 Axes>"
      ]
     },
     "metadata": {},
     "output_type": "display_data"
    }
   ],
   "source": [
    "used = politic[politic.is_labeled]\n",
    "plt.figure(figsize=(20, 15))\n",
    "indexes = list(range(0, int(politic['useful roots'].max() + 1)))\n",
    "stuff = [used['useful roots'][used['useful roots'] == x].count() for x in indexes]\n",
    "plt.bar(indexes, stuff)\n",
    "plt.title('Number of people per usefull roots')\n",
    "plt.ylabel('People')\n",
    "plt.xlabel('usefull roots')\n",
    "plt.xticks(list(range(40)))\n",
    "plt.show()"
   ]
  },
  {
   "cell_type": "code",
   "execution_count": 46,
   "id": "9ccb66d5-b242-4475-88fa-ad46a880584b",
   "metadata": {
    "ExecuteTime": {
     "end_time": "2023-10-15T18:10:35.085909876Z",
     "start_time": "2023-10-15T18:10:34.850987637Z"
    }
   },
   "outputs": [
    {
     "data": {
      "image/png": "[encoded data removed]",
      "text/plain": [
       "<Figure size 2000x1500 with 1 Axes>"
      ]
     },
     "metadata": {},
     "output_type": "display_data"
    }
   ],
   "source": [
    "used = politic[~politic.is_labeled]\n",
    "plt.figure(figsize=(20, 15))\n",
    "indexes = list(range(0, int(politic['useful roots'].max() + 1)))\n",
    "stuff = [used['useful roots'][used['useful roots'] == x].count() for x in indexes]\n",
    "plt.bar(indexes, stuff)\n",
    "plt.title('Number of people per usefull roots')\n",
    "plt.ylabel('People')\n",
    "plt.xlabel('usefull roots')\n",
    "plt.xticks(list(range(40)))\n",
    "plt.show()"
   ]
  },
  {
   "cell_type": "code",
   "execution_count": 47,
   "id": "bed4c30558bcff22",
   "metadata": {
    "collapsed": false,
    "jupyter": {
     "outputs_hidden": false
    }
   },
   "outputs": [],
   "source": [
    "with open('model/pol_columns', 'wb') as f:\n",
    "    pickle.dump(politic_bag.columns, f)"
   ]
  },
  {
   "cell_type": "code",
   "execution_count": 48,
   "id": "fb3e3955-d551-4dac-a259-b7c1261fdf5c",
   "metadata": {
    "ExecuteTime": {
     "end_time": "2023-10-15T18:10:35.340126695Z",
     "start_time": "2023-10-15T18:10:35.066147409Z"
    }
   },
   "outputs": [],
   "source": [
    "\n",
    "data_matrix = csr_matrix(politic_bag.sparse.to_coo())"
   ]
  },
  {
   "cell_type": "code",
   "execution_count": 49,
   "id": "cff575f2-f9c6-48c2-ade3-53b7771577ed",
   "metadata": {
    "ExecuteTime": {
     "end_time": "2023-10-15T18:11:15.464701876Z",
     "start_time": "2023-10-15T18:10:35.119286441Z"
    }
   },
   "outputs": [
    {
     "data": {
      "image/png": "[encoded data removed]",
      "text/plain": [
       "<Figure size 640x480 with 1 Axes>"
      ]
     },
     "metadata": {},
     "output_type": "display_data"
    },
    {
     "name": "stdout",
     "output_type": "stream",
     "text": [
      "CPU times: user 3min 49s, sys: 5min 33s, total: 9min 23s\n",
      "Wall time: 39.8 s\n"
     ]
    }
   ],
   "source": [
    "%%time\n",
    "max_cluster = 40\n",
    "cluster_n = list(range(2, max_cluster+1))\n",
    "scores = kmean_explore(data_matrix, max_cluster)\n",
    "\n",
    "plt.plot(cluster_n, scores)\n",
    "plt.xticks(list(range(0, max_cluster, 2)))\n",
    "plt.show()"
   ]
  },
  {
   "cell_type": "code",
   "execution_count": 50,
   "id": "54512759-2e51-4a64-ba69-eef6bca3d857",
   "metadata": {
    "ExecuteTime": {
     "end_time": "2023-10-15T18:11:16.386515051Z",
     "start_time": "2023-10-15T18:11:15.436458015Z"
    }
   },
   "outputs": [],
   "source": [
    "km = KMeans(n_clusters=18, n_init=10)\n",
    "\n",
    "predictions = km.fit_predict(data_matrix)"
   ]
  },
  {
   "cell_type": "code",
   "execution_count": 51,
   "id": "1725fc92-0abc-4353-b48b-6938210b0d39",
   "metadata": {
    "ExecuteTime": {
     "end_time": "2023-10-15T18:11:29.721317516Z",
     "start_time": "2023-10-15T18:11:16.388674891Z"
    }
   },
   "outputs": [
    {
     "name": "stdout",
     "output_type": "stream",
     "text": [
      "0\n",
      "553\n"
     ]
    },
    {
     "data": {
      "text/plain": [
       "registr      553\n",
       "zp           552\n",
       "ex           532\n",
       "obec         522\n",
       "zastoupit    500\n",
       "kandidát     453\n",
       "poslat       279\n",
       "kraj         211\n",
       "starat       200\n",
       "město        166\n",
       "sedět        154\n",
       "vzít         102\n",
       "řídit         88\n",
       "senát         87\n",
       "rada          84\n",
       "náměstek      79\n",
       "být           66\n",
       "čech          62\n",
       "spolu         56\n",
       "hejtman       53\n",
       "dtype: Sparse[int64, 0]"
      ]
     },
     "metadata": {},
     "output_type": "display_data"
    },
    {
     "name": "stdout",
     "output_type": "stream",
     "text": [
      "\n",
      "\n",
      "\n",
      "\n",
      "1\n",
      "2964\n"
     ]
    },
    {
     "data": {
      "text/plain": [
       "kandidát      2940\n",
       "poslat        2865\n",
       "co             184\n",
       "podniknout     182\n",
       "město          160\n",
       "práce          159\n",
       "pravý          148\n",
       "učit           146\n",
       "technika       145\n",
       "manager        141\n",
       "senát          137\n",
       "zastoupit      137\n",
       "vzít           131\n",
       "sedět          126\n",
       "živit          117\n",
       "vést           114\n",
       "pedagogie      110\n",
       "rada           108\n",
       "spolu          104\n",
       "special        100\n",
       "dtype: Sparse[int64, 0]"
      ]
     },
     "metadata": {},
     "output_type": "display_data"
    },
    {
     "name": "stdout",
     "output_type": "stream",
     "text": [
      "\n",
      "\n",
      "\n",
      "\n",
      "2\n",
      "1888\n"
     ]
    },
    {
     "data": {
      "text/plain": [
       "obec             1887\n",
       "kandidát         1885\n",
       "ex               1880\n",
       "zastoupit        1655\n",
       "řídit             279\n",
       "místostarosta     129\n",
       "vzít              128\n",
       "vést              128\n",
       "technika          125\n",
       "učit              110\n",
       "spolu             104\n",
       "manager           103\n",
       "co                 93\n",
       "viset              85\n",
       "kult               81\n",
       "pravý              79\n",
       "lék                77\n",
       "podniknout         75\n",
       "čech               74\n",
       "tát                74\n",
       "dtype: Sparse[int64, 0]"
      ]
     },
     "metadata": {},
     "output_type": "display_data"
    },
    {
     "name": "stdout",
     "output_type": "stream",
     "text": [
      "\n",
      "\n",
      "\n",
      "\n",
      "3\n",
      "26\n"
     ]
    },
    {
     "data": {
      "text/plain": [
       "bílý          26\n",
       "starat        12\n",
       "dom           10\n",
       "mluvit         6\n",
       "vzít           4\n",
       "politika       3\n",
       "amerika        3\n",
       "historie       2\n",
       "řídit          2\n",
       "vést           2\n",
       "kámen          2\n",
       "prezident      2\n",
       "stát           2\n",
       "čech           2\n",
       "tiskat         1\n",
       "univerzita     1\n",
       "obec           1\n",
       "zastoupit      1\n",
       "šéf            1\n",
       "starý          1\n",
       "dtype: Sparse[int64, 0]"
      ]
     },
     "metadata": {},
     "output_type": "display_data"
    },
    {
     "name": "stdout",
     "output_type": "stream",
     "text": [
      "\n",
      "\n",
      "\n",
      "\n",
      "4\n",
      "896\n"
     ]
    },
    {
     "data": {
      "text/plain": [
       "sport          896\n",
       "fotbal         317\n",
       "trenér         147\n",
       "hokej          147\n",
       "basketbal       55\n",
       "tennis          55\n",
       "být             53\n",
       "lyže            29\n",
       "atletika        28\n",
       "biatlon         26\n",
       "pilot           26\n",
       "cyklistika      22\n",
       "šéf             18\n",
       "volejbal        18\n",
       "sedět           17\n",
       "slovensko       15\n",
       "business        15\n",
       "vzít            12\n",
       "mezinárodní     12\n",
       "řídit           12\n",
       "dtype: Sparse[int64, 0]"
      ]
     },
     "metadata": {},
     "output_type": "display_data"
    },
    {
     "name": "stdout",
     "output_type": "stream",
     "text": [
      "\n",
      "\n",
      "\n",
      "\n",
      "5\n",
      "2888\n"
     ]
    },
    {
     "data": {
      "text/plain": [
       "politika     970\n",
       "zastoupit    342\n",
       "vzít         317\n",
       "ministr      314\n",
       "sedět        232\n",
       "řídit        173\n",
       "prezident    162\n",
       "mluvit       157\n",
       "business     150\n",
       "nový         147\n",
       "být          143\n",
       "kult         142\n",
       "rada         141\n",
       "akademie     130\n",
       "šéf          106\n",
       "kraj         102\n",
       "spolu        100\n",
       "vyslat        95\n",
       "slovensko     94\n",
       "evropa        92\n",
       "dtype: Sparse[int64, 0]"
      ]
     },
     "metadata": {},
     "output_type": "display_data"
    },
    {
     "name": "stdout",
     "output_type": "stream",
     "text": [
      "\n",
      "\n",
      "\n",
      "\n",
      "6\n",
      "142\n"
     ]
    },
    {
     "data": {
      "text/plain": [
       "zdravý        135\n",
       "kandidát      121\n",
       "poslat         79\n",
       "lék            67\n",
       "senát          43\n",
       "sestřenice     29\n",
       "ex             28\n",
       "vzít           17\n",
       "moci           17\n",
       "obec           14\n",
       "kraj           12\n",
       "prima          12\n",
       "zastoupit      11\n",
       "město          10\n",
       "chránit         9\n",
       "řídit           9\n",
       "díl             9\n",
       "sedět           8\n",
       "člen            7\n",
       "sport           7\n",
       "dtype: Sparse[int64, 0]"
      ]
     },
     "metadata": {},
     "output_type": "display_data"
    },
    {
     "name": "stdout",
     "output_type": "stream",
     "text": [
      "\n",
      "\n",
      "\n",
      "\n",
      "7\n",
      "294\n"
     ]
    },
    {
     "data": {
      "text/plain": [
       "kandidát     294\n",
       "řídit        294\n",
       "poslat       270\n",
       "škola         46\n",
       "zastoupit     34\n",
       "spolu         33\n",
       "senát         33\n",
       "vzít          32\n",
       "město         28\n",
       "kládat        21\n",
       "rada          17\n",
       "dům           15\n",
       "střed         15\n",
       "vézt          12\n",
       "tát           12\n",
       "kraj          12\n",
       "sloužit       11\n",
       "zdravý        11\n",
       "sedět         11\n",
       "pedagogie     11\n",
       "dtype: Sparse[int64, 0]"
      ]
     },
     "metadata": {},
     "output_type": "display_data"
    },
    {
     "name": "stdout",
     "output_type": "stream",
     "text": [
      "\n",
      "\n",
      "\n",
      "\n",
      "8\n",
      "1623\n"
     ]
    },
    {
     "data": {
      "text/plain": [
       "obec             1623\n",
       "zastoupit        1593\n",
       "ex               1444\n",
       "starat           1279\n",
       "kandidát          428\n",
       "místostarosta     154\n",
       "družit             59\n",
       "viset              51\n",
       "sedět              51\n",
       "spolu              50\n",
       "rada               44\n",
       "okres              41\n",
       "čech               30\n",
       "hora               27\n",
       "řídit              27\n",
       "vzít               27\n",
       "senát              25\n",
       "sen                24\n",
       "být                24\n",
       "prah               24\n",
       "dtype: Sparse[int64, 0]"
      ]
     },
     "metadata": {},
     "output_type": "display_data"
    },
    {
     "name": "stdout",
     "output_type": "stream",
     "text": [
      "\n",
      "\n",
      "\n",
      "\n",
      "9\n",
      "717\n"
     ]
    },
    {
     "data": {
      "text/plain": [
       "kandidát      717\n",
       "ex            717\n",
       "akropole      674\n",
       "poslat        164\n",
       "senát          75\n",
       "podniknout     65\n",
       "sedět          64\n",
       "pravý          56\n",
       "řídit          47\n",
       "spolu          46\n",
       "manager        42\n",
       "rada           41\n",
       "ekonomie       38\n",
       "special        33\n",
       "vést           31\n",
       "učit           31\n",
       "studovat       29\n",
       "vzít           29\n",
       "živit          28\n",
       "co             27\n",
       "dtype: Sparse[int64, 0]"
      ]
     },
     "metadata": {},
     "output_type": "display_data"
    },
    {
     "name": "stdout",
     "output_type": "stream",
     "text": [
      "\n",
      "\n",
      "\n",
      "\n",
      "10\n",
      "558\n"
     ]
    },
    {
     "data": {
      "text/plain": [
       "registr      558\n",
       "zp           558\n",
       "poslat       186\n",
       "kandidát     147\n",
       "starat       124\n",
       "sedět        119\n",
       "být          111\n",
       "vzít          73\n",
       "senát         72\n",
       "řídit         65\n",
       "ministr       63\n",
       "politika      58\n",
       "čr            56\n",
       "ex            54\n",
       "kraj          53\n",
       "čech          52\n",
       "zastoupit     52\n",
       "město         51\n",
       "rada          46\n",
       "jmout         44\n",
       "dtype: Sparse[int64, 0]"
      ]
     },
     "metadata": {},
     "output_type": "display_data"
    },
    {
     "name": "stdout",
     "output_type": "stream",
     "text": [
      "\n",
      "\n",
      "\n",
      "\n",
      "11\n",
      "1568\n"
     ]
    },
    {
     "data": {
      "text/plain": [
       "starat       1568\n",
       "obec          120\n",
       "id             62\n",
       "město          40\n",
       "politika       30\n",
       "hora           25\n",
       "sokol          24\n",
       "velký          23\n",
       "dolů           18\n",
       "spolu          15\n",
       "sedět          15\n",
       "zastoupit      14\n",
       "nový           14\n",
       "být            14\n",
       "černý          13\n",
       "družit         13\n",
       "rada           11\n",
       "vzít           11\n",
       "čech           11\n",
       "lhot           11\n",
       "dtype: Sparse[int64, 0]"
      ]
     },
     "metadata": {},
     "output_type": "display_data"
    },
    {
     "name": "stdout",
     "output_type": "stream",
     "text": [
      "\n",
      "\n",
      "\n",
      "\n",
      "12\n",
      "844\n"
     ]
    },
    {
     "data": {
      "text/plain": [
       "poslat           844\n",
       "obec             842\n",
       "kandidát         841\n",
       "ex               811\n",
       "zastoupit        790\n",
       "starat           192\n",
       "řídit            129\n",
       "manager           82\n",
       "spolu             80\n",
       "sedět             73\n",
       "místostarosta     71\n",
       "prah              67\n",
       "vzít              66\n",
       "učit              60\n",
       "rada              58\n",
       "vést              56\n",
       "podniknout        54\n",
       "top               54\n",
       "pedagogie         52\n",
       "senát             52\n",
       "dtype: Sparse[int64, 0]"
      ]
     },
     "metadata": {},
     "output_type": "display_data"
    },
    {
     "name": "stdout",
     "output_type": "stream",
     "text": [
      "\n",
      "\n",
      "\n",
      "\n",
      "13\n",
      "227\n"
     ]
    },
    {
     "data": {
      "text/plain": [
       "jít           227\n",
       "kandidát      227\n",
       "poslat        225\n",
       "zastoupit      25\n",
       "manager        21\n",
       "invalidní      18\n",
       "řídit          17\n",
       "spolu           9\n",
       "město           8\n",
       "chránit         7\n",
       "práce           6\n",
       "podniknout      6\n",
       "starý           6\n",
       "zvíře           6\n",
       "vést            6\n",
       "technika        6\n",
       "co              5\n",
       "rada            5\n",
       "hrana           5\n",
       "hradit          4\n",
       "dtype: Sparse[int64, 0]"
      ]
     },
     "metadata": {},
     "output_type": "display_data"
    },
    {
     "name": "stdout",
     "output_type": "stream",
     "text": [
      "\n",
      "\n",
      "\n",
      "\n",
      "14\n",
      "437\n"
     ]
    },
    {
     "data": {
      "text/plain": [
       "místostarosta    437\n",
       "obec              72\n",
       "zastoupit         60\n",
       "id                22\n",
       "město             19\n",
       "práh              15\n",
       "rada              10\n",
       "hora              10\n",
       "velký              9\n",
       "brno               9\n",
       "čech               8\n",
       "kult               8\n",
       "hradit             8\n",
       "družit             8\n",
       "spolu              8\n",
       "vzít               7\n",
       "řídit              6\n",
       "morava             6\n",
       "být                6\n",
       "viset              5\n",
       "dtype: Sparse[int64, 0]"
      ]
     },
     "metadata": {},
     "output_type": "display_data"
    },
    {
     "name": "stdout",
     "output_type": "stream",
     "text": [
      "\n",
      "\n",
      "\n",
      "\n",
      "15\n",
      "633\n"
     ]
    },
    {
     "data": {
      "text/plain": [
       "umět            633\n",
       "režie           142\n",
       "hrát            102\n",
       "psát             86\n",
       "zpívat           45\n",
       "housle           42\n",
       "kult             31\n",
       "amerika          27\n",
       "francie          26\n",
       "dirigovat        22\n",
       "opus             19\n",
       "film             19\n",
       "pět              18\n",
       "vzít             17\n",
       "tanec            15\n",
       "slovensko        15\n",
       "mřít             14\n",
       "choreografie     14\n",
       "brit             12\n",
       "bát              12\n",
       "dtype: Sparse[int64, 0]"
      ]
     },
     "metadata": {},
     "output_type": "display_data"
    },
    {
     "name": "stdout",
     "output_type": "stream",
     "text": [
      "\n",
      "\n",
      "\n",
      "\n",
      "16\n",
      "907\n"
     ]
    },
    {
     "data": {
      "text/plain": [
       "město            907\n",
       "obec             900\n",
       "zastoupit        870\n",
       "kandidát         857\n",
       "ex               848\n",
       "poslat           496\n",
       "starat           286\n",
       "místostarosta    235\n",
       "rada             125\n",
       "kraj             122\n",
       "řídit            107\n",
       "sedět             81\n",
       "primátor          73\n",
       "náměstek          72\n",
       "vzít              68\n",
       "vést              67\n",
       "senát             64\n",
       "člen              57\n",
       "spolu             54\n",
       "řada              50\n",
       "dtype: Sparse[int64, 0]"
      ]
     },
     "metadata": {},
     "output_type": "display_data"
    },
    {
     "name": "stdout",
     "output_type": "stream",
     "text": [
      "\n",
      "\n",
      "\n",
      "\n",
      "17\n",
      "521\n"
     ]
    },
    {
     "data": {
      "text/plain": [
       "kraj             521\n",
       "zastoupit        505\n",
       "ex               493\n",
       "obec             410\n",
       "kandidát         394\n",
       "poslat           196\n",
       "starat            98\n",
       "sedět             69\n",
       "rada              68\n",
       "náměstek          64\n",
       "řídit             61\n",
       "vzít              46\n",
       "hejtman           45\n",
       "senát             44\n",
       "místostarosta     36\n",
       "spolu             34\n",
       "být               33\n",
       "člen              31\n",
       "čech              30\n",
       "manager           26\n",
       "dtype: Sparse[int64, 0]"
      ]
     },
     "metadata": {},
     "output_type": "display_data"
    },
    {
     "name": "stdout",
     "output_type": "stream",
     "text": [
      "\n",
      "\n",
      "\n",
      "\n"
     ]
    }
   ],
   "source": [
    "for a in set(predictions):\n",
    "    print(a)\n",
    "    print(len(politic_bag[predictions == a]))\n",
    "    display(politic_bag[predictions == a].sum().sort_values(ascending=False).head(20))\n",
    "    print('\\n\\n\\n')"
   ]
  },
  {
   "cell_type": "code",
   "execution_count": 52,
   "id": "75c57942-532a-44a7-bb62-9dce75a4e1a4",
   "metadata": {
    "ExecuteTime": {
     "end_time": "2023-10-15T18:11:30.512256065Z",
     "start_time": "2023-10-15T18:11:29.747623082Z"
    }
   },
   "outputs": [],
   "source": [
    "norm_politic_bag = to_bag_of_words(politic.lemmatized, is_string=False)"
   ]
  },
  {
   "cell_type": "code",
   "execution_count": 53,
   "id": "6f5819cc-ec29-4465-82b0-25a0ec5bf714",
   "metadata": {
    "ExecuteTime": {
     "end_time": "2023-10-15T18:12:00.424219870Z",
     "start_time": "2023-10-15T18:11:30.515024977Z"
    }
   },
   "outputs": [
    {
     "name": "stdout",
     "output_type": "stream",
     "text": [
      "0\n",
      "553\n"
     ]
    },
    {
     "data": {
      "text/plain": [
       "registrovat    553\n",
       "zp             552\n",
       "ex             532\n",
       "obec           518\n",
       "zastupitel     492\n",
       "kandidát       453\n",
       "poslanec       267\n",
       "kraj           199\n",
       "starosta       183\n",
       "krajský        170\n",
       "obecní         167\n",
       "město          149\n",
       "předseda        98\n",
       "exposlanec      71\n",
       "náměstek        70\n",
       "senát           67\n",
       "bývalý          65\n",
       "ředitel         63\n",
       "čr              53\n",
       "výbor           53\n",
       "dtype: Sparse[int64, 0]"
      ]
     },
     "metadata": {},
     "output_type": "display_data"
    },
    {
     "name": "stdout",
     "output_type": "stream",
     "text": [
      "\n",
      "\n",
      "\n",
      "\n",
      "1\n",
      "2964\n"
     ]
    },
    {
     "data": {
      "text/plain": [
       "kandidát       2940\n",
       "poslanec       2855\n",
       "co              184\n",
       "podnikatel      142\n",
       "senát           136\n",
       "město           129\n",
       "technik         128\n",
       "živnostník      106\n",
       "vedoucí         102\n",
       "pedagog         101\n",
       "manažer         100\n",
       "zastupitel       93\n",
       "pracovník        86\n",
       "starosta         81\n",
       "předseda         79\n",
       "učitel           77\n",
       "specialista      75\n",
       "it               71\n",
       "učitelka         69\n",
       "společnost       69\n",
       "dtype: Sparse[int64, 0]"
      ]
     },
     "metadata": {},
     "output_type": "display_data"
    },
    {
     "name": "stdout",
     "output_type": "stream",
     "text": [
      "\n",
      "\n",
      "\n",
      "\n",
      "2\n",
      "1888\n"
     ]
    },
    {
     "data": {
      "text/plain": [
       "kandidát         1885\n",
       "ex               1880\n",
       "obec             1880\n",
       "zastupitel       1642\n",
       "ředitel           210\n",
       "místostarosta     119\n",
       "vedoucí           118\n",
       "technik           103\n",
       "odborník           93\n",
       "co                 93\n",
       "manažer            89\n",
       "závislý            84\n",
       "kultura            77\n",
       "učitel             76\n",
       "prah               69\n",
       "lékař              69\n",
       "český              67\n",
       "podnikatel         64\n",
       "top                56\n",
       "společnost         55\n",
       "dtype: Sparse[int64, 0]"
      ]
     },
     "metadata": {},
     "output_type": "display_data"
    },
    {
     "name": "stdout",
     "output_type": "stream",
     "text": [
      "\n",
      "\n",
      "\n",
      "\n",
      "3\n",
      "26\n"
     ]
    },
    {
     "data": {
      "text/plain": [
       "bílý          21\n",
       "starosta      12\n",
       "dom           10\n",
       "mluvčí         6\n",
       "odborník       4\n",
       "bělat          3\n",
       "americký       3\n",
       "starostka      3\n",
       "politik        2\n",
       "ředitel        2\n",
       "prezident      2\n",
       "historik       2\n",
       "český          2\n",
       "kámen          2\n",
       "spojený        1\n",
       "univerzita     1\n",
       "klíč           1\n",
       "profesor       1\n",
       "akademik       1\n",
       "bělidlo        1\n",
       "dtype: Sparse[int64, 0]"
      ]
     },
     "metadata": {},
     "output_type": "display_data"
    },
    {
     "name": "stdout",
     "output_type": "stream",
     "text": [
      "\n",
      "\n",
      "\n",
      "\n",
      "4\n",
      "896\n"
     ]
    },
    {
     "data": {
      "text/plain": [
       "sport            892\n",
       "fotbalista       191\n",
       "trenér           142\n",
       "hokejista        119\n",
       "fotbalový         89\n",
       "bývalý            53\n",
       "fotbal            48\n",
       "basketbalista     34\n",
       "tenistka          30\n",
       "pilot             26\n",
       "tenista           20\n",
       "cyklista          19\n",
       "hokejový          19\n",
       "atlet             19\n",
       "šéf               17\n",
       "hokej             16\n",
       "byznys            15\n",
       "lyže              14\n",
       "slovenský         14\n",
       "volejbalista      14\n",
       "dtype: Sparse[int64, 0]"
      ]
     },
     "metadata": {},
     "output_type": "display_data"
    },
    {
     "name": "stdout",
     "output_type": "stream",
     "text": [
      "\n",
      "\n",
      "\n",
      "\n",
      "5\n",
      "2888\n"
     ]
    },
    {
     "data": {
      "text/plain": [
       "politik       961\n",
       "odborník      273\n",
       "zastupitel    263\n",
       "ministr       220\n",
       "mluvčí        155\n",
       "byznys        150\n",
       "předseda      145\n",
       "prezident     143\n",
       "novinář       140\n",
       "kultura       135\n",
       "bývalý        129\n",
       "akademik      126\n",
       "ředitel       115\n",
       "evropský       92\n",
       "vyslanec       92\n",
       "premiér        91\n",
       "šéf            88\n",
       "kraj           87\n",
       "radní          85\n",
       "americký       83\n",
       "dtype: Sparse[int64, 0]"
      ]
     },
     "metadata": {},
     "output_type": "display_data"
    },
    {
     "name": "stdout",
     "output_type": "stream",
     "text": [
      "\n",
      "\n",
      "\n",
      "\n",
      "6\n",
      "142\n"
     ]
    },
    {
     "data": {
      "text/plain": [
       "kandidát         121\n",
       "poslanec          77\n",
       "zdravotník        70\n",
       "lékař             55\n",
       "zdravotní         41\n",
       "senát             39\n",
       "sestra            29\n",
       "ex                28\n",
       "nemocnice         17\n",
       "zdravotnický      16\n",
       "lékařka           14\n",
       "obec              14\n",
       "zdravotnictví     13\n",
       "oddělení           9\n",
       "senátor            8\n",
       "primář             8\n",
       "ředitel            8\n",
       "zastupitel         8\n",
       "zdravý             8\n",
       "město              8\n",
       "dtype: Sparse[int64, 0]"
      ]
     },
     "metadata": {},
     "output_type": "display_data"
    },
    {
     "name": "stdout",
     "output_type": "stream",
     "text": [
      "\n",
      "\n",
      "\n",
      "\n",
      "7\n",
      "294\n"
     ]
    },
    {
     "data": {
      "text/plain": [
       "kandidát      294\n",
       "poslanec      270\n",
       "ředitel       154\n",
       "řidič          58\n",
       "ředitelka      56\n",
       "škola          45\n",
       "senát          32\n",
       "společnost     27\n",
       "město          26\n",
       "odborník       22\n",
       "základní       16\n",
       "zastupitel     15\n",
       "zařízení       15\n",
       "domov          13\n",
       "střední        12\n",
       "zástupce       11\n",
       "bývalý         11\n",
       "senior         10\n",
       "gymnázium      10\n",
       "sociál         10\n",
       "dtype: Sparse[int64, 0]"
      ]
     },
     "metadata": {},
     "output_type": "display_data"
    },
    {
     "name": "stdout",
     "output_type": "stream",
     "text": [
      "\n",
      "\n",
      "\n",
      "\n",
      "8\n",
      "1623\n"
     ]
    },
    {
     "data": {
      "text/plain": [
       "obec              1621\n",
       "zastupitel        1590\n",
       "ex                1444\n",
       "starosta          1130\n",
       "kandidát           428\n",
       "starostka          279\n",
       "místostarosta      139\n",
       "sdružení            55\n",
       "závislý             48\n",
       "okres               40\n",
       "předseda            40\n",
       "zastupitelka        38\n",
       "radní               36\n",
       "obecní              34\n",
       "spolek              32\n",
       "místostarostka      28\n",
       "český               24\n",
       "prah                24\n",
       "sen                 24\n",
       "lídr                21\n",
       "dtype: Sparse[int64, 0]"
      ]
     },
     "metadata": {},
     "output_type": "display_data"
    },
    {
     "name": "stdout",
     "output_type": "stream",
     "text": [
      "\n",
      "\n",
      "\n",
      "\n",
      "9\n",
      "717\n"
     ]
    },
    {
     "data": {
      "text/plain": [
       "kandidát       717\n",
       "ex             717\n",
       "akropole       674\n",
       "poslanec       162\n",
       "senát           75\n",
       "podnikatel      54\n",
       "předseda        36\n",
       "manažer         35\n",
       "ekonom          28\n",
       "specialista     27\n",
       "co              27\n",
       "živnostník      26\n",
       "ředitel         26\n",
       "pedagog         25\n",
       "právník         25\n",
       "vedoucí         25\n",
       "evropský        25\n",
       "strana          23\n",
       "student         22\n",
       "zp              21\n",
       "dtype: Sparse[int64, 0]"
      ]
     },
     "metadata": {},
     "output_type": "display_data"
    },
    {
     "name": "stdout",
     "output_type": "stream",
     "text": [
      "\n",
      "\n",
      "\n",
      "\n",
      "10\n",
      "558\n"
     ]
    },
    {
     "data": {
      "text/plain": [
       "registrovat      558\n",
       "zp               558\n",
       "poslanec         157\n",
       "kandidát         147\n",
       "bývalý           108\n",
       "starosta         105\n",
       "předseda          70\n",
       "exposlanec        62\n",
       "čr                56\n",
       "ex                54\n",
       "politik           54\n",
       "ředitel           53\n",
       "senát             49\n",
       "poslanecký        46\n",
       "místopředseda     46\n",
       "ministr           45\n",
       "český             43\n",
       "pár               43\n",
       "kraj              43\n",
       "sněmovna          42\n",
       "dtype: Sparse[int64, 0]"
      ]
     },
     "metadata": {},
     "output_type": "display_data"
    },
    {
     "name": "stdout",
     "output_type": "stream",
     "text": [
      "\n",
      "\n",
      "\n",
      "\n",
      "11\n",
      "1568\n"
     ]
    },
    {
     "data": {
      "text/plain": [
       "starosta      1281\n",
       "starostka      415\n",
       "obec           112\n",
       "id              62\n",
       "politik         30\n",
       "město           30\n",
       "velký           23\n",
       "sokol           21\n",
       "horní           18\n",
       "dolní           17\n",
       "spolek          13\n",
       "bývalý          13\n",
       "nový            12\n",
       "sdružení        12\n",
       "český           11\n",
       "zastupitel      11\n",
       "okres           11\n",
       "lhot            11\n",
       "závislý         10\n",
       "městys           9\n",
       "dtype: Sparse[int64, 0]"
      ]
     },
     "metadata": {},
     "output_type": "display_data"
    },
    {
     "name": "stdout",
     "output_type": "stream",
     "text": [
      "\n",
      "\n",
      "\n",
      "\n",
      "12\n",
      "844\n"
     ]
    },
    {
     "data": {
      "text/plain": [
       "poslanec         842\n",
       "kandidát         841\n",
       "obec             837\n",
       "ex               811\n",
       "zastupitel       774\n",
       "starosta         150\n",
       "ředitel           94\n",
       "prah              67\n",
       "manažer           65\n",
       "místostarosta     61\n",
       "starostka         56\n",
       "top               54\n",
       "vedoucí           51\n",
       "podnikatel        51\n",
       "pedagog           50\n",
       "senát             48\n",
       "předseda          47\n",
       "společnost        44\n",
       "učitel            43\n",
       "živnostník        39\n",
       "dtype: Sparse[int64, 0]"
      ]
     },
     "metadata": {},
     "output_type": "display_data"
    },
    {
     "name": "stdout",
     "output_type": "stream",
     "text": [
      "\n",
      "\n",
      "\n",
      "\n",
      "13\n",
      "227\n"
     ]
    },
    {
     "data": {
      "text/plain": [
       "kandidát      227\n",
       "poslanec      225\n",
       "důchodce      112\n",
       "obchodní       67\n",
       "důchodkyně     24\n",
       "invalidní      18\n",
       "manažer        17\n",
       "zástupce       16\n",
       "obchod         15\n",
       "ředitel        13\n",
       "zastupitel      8\n",
       "společnost      8\n",
       "město           8\n",
       "zvíře           6\n",
       "zahraniční      5\n",
       "co              5\n",
       "starobní        5\n",
       "podnikatel      5\n",
       "ochránce        5\n",
       "poradce         4\n",
       "dtype: Sparse[int64, 0]"
      ]
     },
     "metadata": {},
     "output_type": "display_data"
    },
    {
     "name": "stdout",
     "output_type": "stream",
     "text": [
      "\n",
      "\n",
      "\n",
      "\n",
      "14\n",
      "437\n"
     ]
    },
    {
     "data": {
      "text/plain": [
       "místostarosta     366\n",
       "místostarostka    107\n",
       "obec               71\n",
       "zastupitel         59\n",
       "id                 22\n",
       "město              16\n",
       "práh               15\n",
       "velký               9\n",
       "brno                9\n",
       "český               8\n",
       "sdružení            8\n",
       "kultura             8\n",
       "odborník            6\n",
       "hradiště            5\n",
       "brn                 5\n",
       "hora                5\n",
       "sázava              5\n",
       "horní               5\n",
       "spolek              5\n",
       "závislý             5\n",
       "dtype: Sparse[int64, 0]"
      ]
     },
     "metadata": {},
     "output_type": "display_data"
    },
    {
     "name": "stdout",
     "output_type": "stream",
     "text": [
      "\n",
      "\n",
      "\n",
      "\n",
      "15\n",
      "633\n"
     ]
    },
    {
     "data": {
      "text/plain": [
       "umělec          619\n",
       "režisér         116\n",
       "herec            67\n",
       "spisovatel       59\n",
       "herečka          34\n",
       "zpěvák           31\n",
       "kultura          31\n",
       "americký         27\n",
       "spisovatelka     27\n",
       "režisérka        27\n",
       "hudebník         27\n",
       "francouzský      26\n",
       "dirigent         16\n",
       "operní           16\n",
       "smrt             14\n",
       "zpěvačka         13\n",
       "umělkyně         13\n",
       "odborník         12\n",
       "britský          12\n",
       "slovenský        12\n",
       "dtype: Sparse[int64, 0]"
      ]
     },
     "metadata": {},
     "output_type": "display_data"
    },
    {
     "name": "stdout",
     "output_type": "stream",
     "text": [
      "\n",
      "\n",
      "\n",
      "\n",
      "16\n",
      "907\n"
     ]
    },
    {
     "data": {
      "text/plain": [
       "obec             900\n",
       "kandidát         857\n",
       "zastupitel       850\n",
       "ex               848\n",
       "město            758\n",
       "poslanec         495\n",
       "starosta         265\n",
       "místostarosta    203\n",
       "městský          138\n",
       "kraj             107\n",
       "radní             99\n",
       "ředitel           88\n",
       "krajský           85\n",
       "obecní            75\n",
       "primátor          70\n",
       "předseda          62\n",
       "náměstek          62\n",
       "senát             55\n",
       "zastupitelka      51\n",
       "starostka         45\n",
       "dtype: Sparse[int64, 0]"
      ]
     },
     "metadata": {},
     "output_type": "display_data"
    },
    {
     "name": "stdout",
     "output_type": "stream",
     "text": [
      "\n",
      "\n",
      "\n",
      "\n",
      "17\n",
      "521\n"
     ]
    },
    {
     "data": {
      "text/plain": [
       "zastupitel       500\n",
       "ex               493\n",
       "kraj             466\n",
       "krajský          433\n",
       "obec             410\n",
       "kandidát         394\n",
       "obecní           229\n",
       "poslanec         194\n",
       "starosta          89\n",
       "radní             62\n",
       "náměstek          55\n",
       "předseda          54\n",
       "ředitel           48\n",
       "hejtman           39\n",
       "senát             38\n",
       "místostarosta     33\n",
       "bývalý            31\n",
       "výbor             31\n",
       "zastupitelka      27\n",
       "liberecký         25\n",
       "dtype: Sparse[int64, 0]"
      ]
     },
     "metadata": {},
     "output_type": "display_data"
    },
    {
     "name": "stdout",
     "output_type": "stream",
     "text": [
      "\n",
      "\n",
      "\n",
      "\n"
     ]
    }
   ],
   "source": [
    "for a in set(predictions):\n",
    "    print(a)\n",
    "    print(len(politic_bag[predictions == a]))\n",
    "    display(norm_politic_bag[predictions == a].sum().sort_values(ascending=False).head(20))\n",
    "    print('\\n\\n\\n')"
   ]
  },
  {
   "cell_type": "code",
   "execution_count": 54,
   "id": "c1ea2a92-1903-451d-bcf8-d3f5858d9b13",
   "metadata": {},
   "outputs": [],
   "source": [
    "with open('model/pol.model', 'bw+') as f:\n",
    "    pickle.dump(km, f)"
   ]
  }
 ],
 "metadata": {
  "kernelspec": {
   "display_name": "Python 3 (ipykernel)",
   "language": "python",
   "name": "python3"
  },
  "language_info": {
   "codemirror_mode": {
    "name": "ipython",
    "version": 3
   },
   "file_extension": ".py",
   "mimetype": "text/x-python",
   "name": "python",
   "nbconvert_exporter": "python",
   "pygments_lexer": "ipython3",
   "version": "3.11.5"
  }
 },
 "nbformat": 4,
 "nbformat_minor": 5
}
