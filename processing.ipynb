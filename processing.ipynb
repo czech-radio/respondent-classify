{
 "cells": [
  {
   "cell_type": "code",
   "execution_count": null,
   "id": "d4000500",
   "metadata": {},
   "outputs": [],
   "source": [
    "import pandas as pd\n",
    "import numpy as np\n",
    "import matplotlib.pyplot as plt"
   ]
  },
  {
   "attachments": {},
   "cell_type": "markdown",
   "id": "8afc7239",
   "metadata": {},
   "source": [
    "### Úprava surových dat: anonymizace"
   ]
  },
  {
   "cell_type": "code",
   "execution_count": null,
   "id": "10b26725",
   "metadata": {},
   "outputs": [],
   "source": [
    "df = pd.read_csv(\"data/input/respondents.csv\", delimiter='|')\n",
    "df.to_csv('data/respondents.csv', sep='|')\n",
    "df = df.drop(columns=['first_name', 'last_name'])"
   ]
  },
  {
   "attachments": {},
   "cell_type": "markdown",
   "id": "7bbf5b60",
   "metadata": {},
   "source": [
    "### Načtení anonymizovaných dat "
   ]
  },
  {
   "cell_type": "code",
   "execution_count": null,
   "id": "1efda905",
   "metadata": {},
   "outputs": [],
   "source": [
    "df = pd.read_csv(\"data/respondents.csv\", delimiter='|')\n",
    "df.head()"
   ]
  },
  {
   "cell_type": "code",
   "execution_count": null,
   "id": "53e9af47",
   "metadata": {},
   "outputs": [],
   "source": [
    "df.drop(columns=['Unnamed: 0'], inplace=True)\n",
    "df.head()"
   ]
  },
  {
   "cell_type": "code",
   "execution_count": null,
   "id": "f0df1913",
   "metadata": {},
   "outputs": [],
   "source": [
    "df[df['descriptions'].str.contains('-') & (~df['descriptions'].str.contains('ex-'))].descriptions"
   ]
  },
  {
   "cell_type": "code",
   "execution_count": null,
   "id": "ed244ac0",
   "metadata": {},
   "outputs": [],
   "source": [
    "pd.set_option('display.max_colwidth', None)\n",
    "df[df['descriptions'].str.contains('A-E')]"
   ]
  },
  {
   "cell_type": "code",
   "execution_count": null,
   "id": "c78e71b5",
   "metadata": {},
   "outputs": [],
   "source": [
    "df[df['descriptions'].str.contains('ID') & (~df.descriptions.str.contains('OM_ID'))]"
   ]
  },
  {
   "cell_type": "code",
   "execution_count": null,
   "id": "f26b5a6a",
   "metadata": {},
   "outputs": [],
   "source": [
    "df[df['descriptions'].str.contains('kand_')]"
   ]
  },
  {
   "cell_type": "code",
   "execution_count": null,
   "id": "15f9e643",
   "metadata": {},
   "outputs": [],
   "source": [
    "df[df['descriptions'].str.contains(\"'\")]"
   ]
  },
  {
   "cell_type": "code",
   "execution_count": null,
   "id": "f9e99df0",
   "metadata": {},
   "outputs": [],
   "source": [
    "import json\n",
    "import subprocess\n",
    "zkratky = {'zast_': 'zastupitel ', 'kand_': 'kandidát '}\n",
    "interpunkcni_z = '\",.;:_!?'\n",
    "stopword_file = 'data/stopwords-cs.json'\n",
    "\n",
    "def has_numbers(inputString):\n",
    "    return any(char.isdigit() for char in inputString)\n",
    "\n",
    "def remove_shortened_words(column: pd.Series, translations: dict = zkratky) -> pd.Series:\n",
    "    without_shortened = column\n",
    "    for shorter, full in translations.items():\n",
    "        without_shortened = without_shortened.str.replace(shorter, full)\n",
    "    return without_shortened\n",
    "\n",
    "def remove_interpunctions(column: pd.Series, interpunkcni_z: str = interpunkcni_z, sep: str =' ') -> pd.Series:\n",
    "    without_interpunction = column\n",
    "    for letter in interpunkcni_z:\n",
    "        without_interpunction = without_interpunction.str.replace(letter, sep)\n",
    "    return without_interpunction\n",
    "\n",
    "def split_into_words(column: pd.Series, sep=' ') -> pd.Series:\n",
    "    return column.str.split(sep)\n",
    "\n",
    "def remove_stop_words(column: pd.Series, filename: str = stopword_file) -> pd.Series:\n",
    "    with open(filename, 'r') as fd:\n",
    "        stop_words = json.load(fd)\n",
    "        return column.apply(lambda words: [word for word in words if word not in stop_words])\n",
    "def remove_empty(column: pd.Series) -> pd.Series:\n",
    "    return column.apply(lambda words: [word for word in words if word != ''])\n",
    "def remove_numbers(column: pd.Series) -> pd.Series:\n",
    "    return column.apply(lambda words: [word for word in words if not has_numbers(word)])\n",
    "\n",
    "def lemmatizate_word(word: str) -> str:\n",
    "    word = bytes(word, encoding='utf-8')\n",
    "    p = subprocess.Popen(\"./majka -f majka.w-lt| head -n1 | cut -d ':' -f1\",\n",
    "                         shell=True, stdout=subprocess.PIPE,\n",
    "                         stderr=subprocess.PIPE,\n",
    "                         stdin=subprocess.PIPE)\n",
    "    lemma, _ = p.communicate(input=word)\n",
    "    lemma = lemma.strip(b'\\n')\n",
    "    if len(lemma) == 0:\n",
    "        lemma = word\n",
    "    return lemma.decode(encoding='utf-8')\n",
    "\n",
    "def lemmatizate_words(words: list) -> list:\n",
    "    lemmatized = []\n",
    "    for word in words:\n",
    "        lemmatized.append(lemmatizate_word(word))\n",
    "    return lemmatized\n",
    "\n",
    "def lemmatizate(column: pd.Series) -> pd.Series:    \n",
    "    return column.apply(lemmatizate_words)\n",
    "\n",
    "def apply_pipeline(column: pd.Series, pipeline: list) -> pd.Series:\n",
    "    processed = column.copy()\n",
    "    for func in pipeline:\n",
    "        processed = func(processed)\n",
    "    return processed\n",
    "\n",
    "def lower(column: pd.Series) -> pd.Series:\n",
    "    return column.str.lower()"
   ]
  },
  {
   "cell_type": "code",
   "execution_count": null,
   "id": "79c1f443",
   "metadata": {},
   "outputs": [],
   "source": [
    "from pandarallel import pandarallel\n",
    "pipeline = [lower, remove_shortened_words, remove_interpunctions, split_into_words, remove_empty, remove_numbers, remove_stop_words]\n",
    "\n",
    "import time\n",
    "start = time.process_time()\n",
    "\n",
    "df['descr_procc'] = apply_pipeline(df.descriptions, pipeline)\n",
    "print(f'{(time.process_time() - start)/60} min')\n",
    "\n",
    "pandarallel.initialize()\n",
    "df['descr_procc'] = df['descr_procc'].parallel_apply(lemmatizate_words)\n",
    "# your code here    \n",
    "print(f'{(time.process_time() - start)/60} min')"
   ]
  },
  {
   "cell_type": "code",
   "execution_count": null,
   "id": "69bde6e6",
   "metadata": {},
   "outputs": [],
   "source": [
    "df.to_csv('data/proccessed.csv')\n",
    "df.head()"
   ]
  }
 ],
 "metadata": {
  "kernelspec": {
   "display_name": "Python 3",
   "language": "python",
   "name": "python3"
  },
  "language_info": {
   "codemirror_mode": {
    "name": "ipython",
    "version": 3
   },
   "file_extension": ".py",
   "mimetype": "text/x-python",
   "name": "python",
   "nbconvert_exporter": "python",
   "pygments_lexer": "ipython3",
   "version": "3.8.10 (tags/v3.8.10:3d8993a, May  3 2021, 11:48:03) [MSC v.1928 64 bit (AMD64)]"
  },
  "vscode": {
   "interpreter": {
    "hash": "dda12f20db690ad826731bbb01ef5a6a40ea9bbf041b730d732ba5a193c3ab4d"
   }
  }
 },
 "nbformat": 4,
 "nbformat_minor": 5
}
