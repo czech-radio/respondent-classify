{
 "cells": [
  {
   "cell_type": "markdown",
   "id": "7db42169",
   "metadata": {},
   "source": [
    "Code to get rid of names from csv file, doesn't do anything else."
   ]
  },
  {
   "cell_type": "code",
   "execution_count": null,
   "id": "dbb7896e",
   "metadata": {},
   "outputs": [],
   "source": [
    "import pandas as pd\n",
    "import numpy as np\n",
    "import matplotlib.pyplot as plt"
   ]
  },
  {
   "cell_type": "code",
   "execution_count": null,
   "id": "cc4f02e3",
   "metadata": {
    "scrolled": true
   },
   "outputs": [],
   "source": [
    "df = pd.read_csv(\"data/data.csv\", delimiter='|')\n",
    "df.head()"
   ]
  },
  {
   "cell_type": "code",
   "execution_count": null,
   "id": "fee40f40",
   "metadata": {},
   "outputs": [],
   "source": [
    "df = df.drop(columns=['first_name', 'last_name'])\n",
    "df.head()"
   ]
  },
  {
   "cell_type": "code",
   "execution_count": null,
   "id": "bce6fc9b",
   "metadata": {},
   "outputs": [],
   "source": [
    "df.to_csv('data/data_noname.csv', sep='|')"
   ]
  }
 ],
 "metadata": {
  "kernelspec": {
   "display_name": "Python 3 (ipykernel)",
   "language": "python",
   "name": "python3"
  },
  "language_info": {
   "codemirror_mode": {
    "name": "ipython",
    "version": 3
   },
   "file_extension": ".py",
   "mimetype": "text/x-python",
   "name": "python",
   "nbconvert_exporter": "python",
   "pygments_lexer": "ipython3",
   "version": "3.10.12"
  }
 },
 "nbformat": 4,
 "nbformat_minor": 5
}
